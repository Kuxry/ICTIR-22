{
 "cells": [
  {
   "cell_type": "markdown",
   "id": "16bb1294",
   "metadata": {},
   "source": [
    "# Create first Passage Collections"
   ]
  },
  {
   "cell_type": "code",
   "execution_count": 9,
   "id": "67ba589f",
   "metadata": {},
   "outputs": [],
   "source": [
    "from pyserini.search import SimpleSearcher\n",
    "from trectools import TrecQrel\n",
    "from split_into_passages import passages\n",
    "from tqdm import tqdm\n",
    "import json\n",
    "\n",
    "QRELS = {\n",
    "    'cw09': {i: TrecQrel('../../data/trec-web-tracks/topics-and-qrels/qrels.web.' + i + '.txt') for i in ['1-50', '51-100', '101-150', '151-200']},\n",
    "    'cw12': {i: TrecQrel('../../data/trec-web-tracks/topics-and-qrels/qrels.web.' + i + '.txt') for i in ['201-250', '251-300']}\n",
    "}\n",
    "\n",
    "SEARCHERS = {\n",
    "    'cw09': SimpleSearcher('/mnt/ceph/storage/data-in-progress/data-research/web-search/SIGIR-22/sigir22-pairwise-ranking/indexes/lucene-index.cw09'),\n",
    "    'cw12': SimpleSearcher('/mnt/ceph/storage/data-in-progress/data-research/web-search/SIGIR-22/sigir22-pairwise-ranking/indexes/lucene-index.cw12'),\n",
    "}"
   ]
  },
  {
   "cell_type": "code",
   "execution_count": 10,
   "id": "4ddbad8f",
   "metadata": {},
   "outputs": [
    {
     "data": {
      "text/plain": [
       "query                            1\n",
       "q0                               0\n",
       "docid    clueweb09-en0003-55-31884\n",
       "rel                              0\n",
       "Name: 0, dtype: object"
      ]
     },
     "execution_count": 10,
     "metadata": {},
     "output_type": "execute_result"
    }
   ],
   "source": [
    "QRELS['cw09']['1-50'].qrels_data.iloc[0]"
   ]
  },
  {
   "cell_type": "code",
   "execution_count": 11,
   "id": "8d9e03c3",
   "metadata": {},
   "outputs": [
    {
     "data": {
      "text/plain": [
       "\"Obama — Blogs, Pictures, and more on WordPress WordPress.com Home Sign Up Features Blog Story Advanced Blogs about: Obama Featured Blog Pentagon: Ready On Inauguration Day For Speedy Iraq Pull Out Pentagon officials said Thursday they will be ready on Inauguration Day with plans for a quick pullout of U.S. combat troops from Iraq if Barack Obama orders one, as he pledged to do during his White … more → Peace and Freedom Global Future Thank You, Front Page Radio! yourdreamsfirst wrote just now: Just got off the phone with Dominique DiPrima, Luis, and the conscious people of Los Angeles (indeed … more → Tags: oakland, Oscar Grant police murder BHO Backs Another Bush Policy inzax wrote 11 minutes ago: What the????!!!� Am I dreaming???� You mean, BHO has just admitted that what George Bush and the U … more → Tags: Political, Politics, military, al-Qaeda, Afghanistan, UBL, Tactics 4 Days Till The Second Cumming The Rogue Jew wrote 23 minutes ago: Given the choice over Bush or a Prick, I would choose Bush any day.� I am so sick to my stomach thi … more → Tags: Current Events, News, Politics, Religion, Vox Populi, War, 2009, Biden, Clinton Korea more egalitarian 'cause of Japan sleepingcow wrote 28 minutes ago: Korea c. 1904 An article in the IHT�by Norimitsu Onishi about the buraku of Japan and their slow r … more → Tags: Asia, Buddhism, History, identity, Korean society, Japan, Korea, media, Politics $825 Billion Stimulus suemdonk wrote 33 minutes ago: House Offers $825 Billion Stimulus House Speaker Nancy Pelosi (D-Calif.) described the legislation a … more → Tags: Economics, Socialism, Economy, recession, Depression, Failure, pelosi, reid, Democrat Free Markets - Another Midnight Bank of America Bailout suemdonk wrote 40 minutes ago: Bank of America to get $20 billion in emergency funds Glad to see that Bush and Obama are agreed tha … more → Tags: Bailout, Politics, Bank Bailout, Socialism, Economics, Paulson, tarp, bernanke, Economy First demostrators again Obama galicenet wrote 45 minutes ago: Iranian demonstrators burn posters of U.S. President-elect Barack Obama, during a demonstration in s … more → Tags: Burn, Iran, Posters Burris finally gets Obama's Senate seat muhammadfj wrote 1 hour ago: WASHINGTON: Ronald W. Burris, the former Illinois Attorney General, has been sworn in as a Senator … more → Tags: Top Stories, News, burris, senate seat, blagojevich Just say no, to Eric Holder — 1 comment Patrick Sperry wrote 1 hour ago: Gun Owners of America Opposes Attorney General Nominee – Urge Your Senators to Vote “ … more → Tags: Editorial | Opinion, Education, Gun Control, Law, Local Politics Colorado, News, Politics, wordpress political blogs, eric holder KOREF, I owned it! zulisme wrote 1 hour ago: Hey guys, I’m back after a 3 day camp at KOREF (Malaysia) Day 1 SELAMAT DATANG KE MALAYSIA! We … more → Tags: R1, Camp, Campfire, captainball, raft Morning Joe: Barnicle nails it datechguy wrote 1 hour ago: They are talking about the president’s speech last night which I missed. Barnicle pointed out … more → Tags: Opinion, Morning Joe Yes we (all) can! openblue wrote 1 hour ago: On Tuesday 20th January 2009 the world will sit back and watch as a new legacy begins. I\\x19m talking … more → Tags: faliure, Goal Setting, Motivation, nlp outcomes, Planning, Take Action Taking the Lead & Expressing Feelings frankpaulgambino wrote 1 hour ago: Taking the Lead & Expressing Feelings � To: President Elect Barak Obama & Pres. Bush From: … more → Tags: bush, Eston Roberts, Frank Paul Gambino, Janet Jackson, John Gotti, obama biden Watch the Obama inauguration from your iPhone garynielson wrote 1 hour ago: The application will let users watch any Ustream channel, live, directly from their iPhone. And no … more → Tags: iPhone, Politics, TV, Video, Apple To Washington!!! jamesbray wrote 1 hour ago: I will shortly be boarding a plane to Washington DC to join in the inauguration euphoria, and unles … more → Tags: J&B, Politics Daily Links thejackanory wrote 2 hours ago: Dude looks like a lady - and the US media is picking up on it rather late Pot-Kettle Next thing you … more → Tags: Rundown, Celebrity, Comic Book, Crazy, Design, film, Gay Gay Gay!, GOP, Science The testing of a god, the sacrifice for a Union: Gaza's tale — 3 comments Stefan Fobes wrote 2 hours ago: by Stefan Fobes What amazes me first is I never thought I would see it so soon, the world seein … more → Tags: My Articles, Barack Obama, Illuminati, New World Order, Iran, GeoPolitics, Politics, News, zbigniew brzezinski MISHKA BOOTLEG BLACK BART TEE thedjwm wrote 2 hours ago: This Tee is fresh!! Read what it’s all about from Kanye’s blog: January 20th is an impo … more → Tags: Fashion, america, mishka, Tee Yes, We Did! Alexa wrote 2 hours ago: Ronald Reagan signed a bill in 1983 that designated the third Monday in January�as a federal holida … more → Tags: Elections, Life, Politics, Social Justice, Equality, Fear, Honor, HOPE, Inauguration Next → Have your say. Start a blog. See our free features → Sign Up Now! Related Tags All → Politics Economy Barack Obama Israel News hamas Government Barack stimulus bush Follow this tag via RSS Find other items tagged with “obama”: Technorati Del.icio.us IceRocket 24/7 Support Free Features Premium Features VIP Terms of Service Privacy See also: WordPress.org Matt Fan WP on Facebook An Contraption\""
      ]
     },
     "execution_count": 11,
     "metadata": {},
     "output_type": "execute_result"
    }
   ],
   "source": [
    "SEARCHERS['cw09'].doc('clueweb09-en0003-55-31884').contents()"
   ]
  },
  {
   "cell_type": "code",
   "execution_count": 12,
   "id": "8c90c478",
   "metadata": {},
   "outputs": [
    {
     "data": {
      "text/plain": [
       "[(1,\n",
       "  \"Obama — Blogs, Pictures, and more on WordPress WordPress.com Home Sign Up Features Blog Story Advanced Blogs about: Obama Featured Blog Pentagon: Ready On Inauguration Day For Speedy Iraq Pull Out Pentagon officials said Thursday they will be ready on Inauguration Day with plans for a quick pullout of U.S. combat troops from Iraq if Barack Obama orders one, as he pledged to do during his White … more → Peace and Freedom Global Future Thank You, Front Page Radio! yourdreamsfirst wrote just now: Just got off the phone with Dominique DiPrima, Luis, and the conscious people of Los Angeles (indeed … more → Tags: oakland, Oscar Grant police murder BHO Backs Another Bush Policy inzax wrote 11 minutes ago: What the????!!!� Am I dreaming???� You mean, BHO has just admitted that what George Bush and the U … more → Tags: Political, Politics, military, al-Qaeda, Afghanistan, UBL, Tactics 4 Days Till The Second Cumming The Rogue Jew wrote 23 minutes ago: Given the choice over Bush or a Prick, I would choose Bush any day.� I am so sick to my stomach thi … more → Tags: Current Events, News, Politics, Religion, Vox Populi, War, 2009, Biden, Clinton Korea more egalitarian 'cause of Japan sleepingcow wrote 28 minutes ago: Korea c. 1904 An article in the IHT�by Norimitsu Onishi about the buraku of Japan and their slow r … more → Tags: Asia, Buddhism, History, identity, Korean society, Japan, Korea, media, Politics $825 Billion Stimulus suemdonk wrote 33 minutes ago: House Offers $825 Billion Stimulus House Speaker Nancy Pelosi (D-Calif.) described the legislation a … more → Tags: Economics, Socialism, Economy, recession, Depression, Failure, pelosi, reid, Democrat Free Markets - Another Midnight Bank of America Bailout suemdonk wrote 40 minutes ago: Bank of America to get $20 billion in emergency funds Glad to see that Bush and Obama are agreed tha … more → Tags: Bailout, Politics, Bank Bailout, Socialism, Economics, Paulson, tarp, bernanke, Economy First demostrators again Obama galicenet wrote 45 minutes ago: Iranian demonstrators burn posters of U.S. President-elect Barack Obama, during a demonstration in s … more → Tags: Burn, Iran, Posters Burris finally gets Obama's Senate seat muhammadfj wrote 1 hour ago: WASHINGTON: \"),\n",
       " (2,\n",
       "  'Ronald W. Burris, the former Illinois Attorney General, has been sworn in as a Senator … more → Tags: Top Stories, News, burris, senate seat, blagojevich Just say no, to Eric Holder — 1 comment Patrick Sperry wrote 1 hour ago: Gun Owners of America Opposes Attorney General Nominee – Urge Your Senators to Vote “ … more → Tags: Editorial | Opinion, Education, Gun Control, Law, Local Politics Colorado, News, Politics, wordpress political blogs, eric holder KOREF, I owned it! zulisme wrote 1 hour ago: Hey guys, I’m back after a 3 day camp at KOREF (Malaysia) Day 1 SELAMAT DATANG KE MALAYSIA! We … more → Tags: R1, Camp, Campfire, captainball, raft Morning Joe: Barnicle nails it datechguy wrote 1 hour ago: They are talking about the president’s speech last night which I missed. '),\n",
       " (3,\n",
       "  'Barnicle pointed out … more → Tags: Opinion, Morning Joe Yes we (all) can! openblue wrote 1 hour ago: On Tuesday 20th January 2009 the world will sit back and watch as a new legacy begins. I\\x19m talking … more → Tags: faliure, Goal Setting, Motivation, nlp outcomes, Planning, Take Action Taking the Lead & Expressing Feelings frankpaulgambino wrote 1 hour ago: Taking the Lead & Expressing Feelings � To: President Elect Barak Obama & Pres. Bush From: … more → Tags: bush, Eston Roberts, Frank Paul Gambino, Janet Jackson, John Gotti, obama biden Watch the Obama inauguration from your iPhone garynielson wrote 1 hour ago: The application will let users watch any Ustream channel, live, directly from their iPhone. And no … more → Tags: iPhone, Politics, TV, Video, Apple To Washington!!! '),\n",
       " (4,\n",
       "  \"jamesbray wrote 1 hour ago: I will shortly be boarding a plane to Washington DC to join in the inauguration euphoria, and unles … more → Tags: J&B, Politics Daily Links thejackanory wrote 2 hours ago: Dude looks like a lady - and the US media is picking up on it rather late Pot-Kettle Next thing you … more → Tags: Rundown, Celebrity, Comic Book, Crazy, Design, film, Gay Gay Gay!, GOP, Science The testing of a god, the sacrifice for a Union: Gaza's tale — 3 comments Stefan Fobes wrote 2 hours ago: by Stefan Fobes What amazes me first is I never thought I would see it so soon, the world seein … more → Tags: My Articles, Barack Obama, Illuminati, New World Order, Iran, GeoPolitics, Politics, News, zbigniew brzezinski MISHKA BOOTLEG BLACK BART TEE thedjwm wrote 2 hours ago: This Tee is fresh!! \"),\n",
       " (5,\n",
       "  'Read what it’s all about from Kanye’s blog: January 20th is an impo … more → Tags: Fashion, america, mishka, Tee Yes, We Did! Alexa wrote 2 hours ago: Ronald Reagan signed a bill in 1983 that designated the third Monday in January�as a federal holida … more → Tags: Elections, Life, Politics, Social Justice, Equality, Fear, Honor, HOPE, Inauguration Next → Have your say. Start a blog. See our free features → Sign Up Now! Related Tags All → Politics Economy Barack Obama Israel News hamas Government Barack stimulus bush Follow this tag via RSS Find other items tagged with “obama”: Technorati Del.icio.us IceRocket 24/7 Support Free Features Premium Features VIP Terms of Service Privacy See also: WordPress.org Matt Fan WP on Facebook An Contraption')]"
      ]
     },
     "execution_count": 12,
     "metadata": {},
     "output_type": "execute_result"
    }
   ],
   "source": [
    "passages(SEARCHERS['cw09'].doc('clueweb09-en0003-55-31884').contents())"
   ]
  },
  {
   "cell_type": "code",
   "execution_count": 16,
   "id": "2464cad7",
   "metadata": {},
   "outputs": [
    {
     "name": "stderr",
     "output_type": "stream",
     "text": [
      "100%|███████████████████████████████████████████████████████████████████████████████████████████████████████| 13118/13118 [02:24<00:00, 90.58it/s]\n",
      "100%|███████████████████████████████████████████████████████████████████████████████████████████████████████| 23898/23898 [10:09<00:00, 39.24it/s]\n",
      "100%|██████████████████████████████████████████████████████████████████████████████████████████████████████| 18362/18362 [02:41<00:00, 113.63it/s]\n",
      "100%|██████████████████████████████████████████████████████████████████████████████████████████████████████| 15197/15197 [01:59<00:00, 126.98it/s]\n",
      "100%|███████████████████████████████████████████████████████████████████████████████████████████████████████| 14240/14240 [03:46<00:00, 62.86it/s]\n",
      "100%|███████████████████████████████████████████████████████████████████████████████████████████████████████| 13876/13876 [03:06<00:00, 74.26it/s]\n"
     ]
    }
   ],
   "source": [
    "with open('/mnt/ceph/storage/data-in-progress/data-research/web-search/SIGIR-22/sigir22-pairwise-ranking/indexes/raw-cw09-and-cw12-all-passages.jsonl', 'w') as f:\n",
    "\n",
    "    for crawl, qrels in QRELS.items():\n",
    "        for qrel in qrels:\n",
    "            for _, i in tqdm([j for j in QRELS[crawl][qrel].qrels_data.iterrows()]):\n",
    "                doc = SEARCHERS[crawl].doc(i['docid'])\n",
    "                doc_passages = ['']\n",
    "                if doc:\n",
    "                    doc_passages = passages(doc.contents())\n",
    "                \n",
    "                \n",
    "                f.write(json.dumps({\n",
    "                    'qid': int(i['query']),\n",
    "                    'docno': i['docid'],\n",
    "                    'passages': doc_passages,\n",
    "                }) +'\\n')"
   ]
  },
  {
   "cell_type": "code",
   "execution_count": null,
   "id": "c35109bd",
   "metadata": {},
   "outputs": [],
   "source": []
  }
 ],
 "metadata": {
  "kernelspec": {
   "display_name": "Python 3 (ipykernel)",
   "language": "python",
   "name": "python3"
  },
  "language_info": {
   "codemirror_mode": {
    "name": "ipython",
    "version": 3
   },
   "file_extension": ".py",
   "mimetype": "text/x-python",
   "name": "python",
   "nbconvert_exporter": "python",
   "pygments_lexer": "ipython3",
   "version": "3.9.7"
  }
 },
 "nbformat": 4,
 "nbformat_minor": 5
}
