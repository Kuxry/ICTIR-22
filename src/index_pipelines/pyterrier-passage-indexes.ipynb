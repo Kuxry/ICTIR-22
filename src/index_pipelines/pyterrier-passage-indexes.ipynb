{
 "cells": [
  {
   "cell_type": "markdown",
   "id": "8d0cc5cc",
   "metadata": {},
   "source": [
    "# Pyterrier Passage Indexes"
   ]
  },
  {
   "cell_type": "code",
   "execution_count": 2,
   "id": "dbec4ba2",
   "metadata": {},
   "outputs": [],
   "source": [
    "import pyterrier as pt\n",
    "\n",
    "DIR = '/mnt/ceph/storage/data-in-progress/data-research/web-search/SIGIR-22/sigir22-pairwise-ranking/indexes/'\n",
    "\n",
    "if not pt.started():\n",
    "    pt.init()\n",
    "\n",
    "def iter_file(filename):\n",
    "    import json\n",
    "    with open(DIR + filename, 'rt') as file:\n",
    "        for l in file:\n",
    "            l = json.loads(l)\n",
    "            yield {\n",
    "                'docno': l['docid'],\n",
    "                'text': l['contents'],\n",
    "            }\n",
    "\n"
   ]
  },
  {
   "cell_type": "markdown",
   "id": "677206b9",
   "metadata": {},
   "source": [
    "# Create First-Passage Indexes"
   ]
  },
  {
   "cell_type": "code",
   "execution_count": 3,
   "id": "fc957f7d",
   "metadata": {},
   "outputs": [],
   "source": [
    "cw09_first_p = pt.IterDictIndexer(DIR + 'pt-cw09-first-passage').index(iter_file(\"raw-cw09-first-p.jsonl\"), meta=['docno', 'text'], meta_lengths=[20, 4096])"
   ]
  },
  {
   "cell_type": "code",
   "execution_count": 4,
   "id": "f8945936",
   "metadata": {},
   "outputs": [
    {
     "name": "stdout",
     "output_type": "stream",
     "text": [
      "07:21:27.040 [ForkJoinPool-1-worker-3] WARN org.terrier.structures.indexing.Indexer - Adding an empty document to the index (clueweb12-0915wb-07-00006) - further warnings are suppressed\n",
      "07:21:37.732 [ForkJoinPool-1-worker-3] WARN org.terrier.structures.indexing.Indexer - Indexed 2 empty documents\n"
     ]
    }
   ],
   "source": [
    "cw12_first_p = pt.IterDictIndexer(DIR + 'pt-cw12-first-passage').index(iter_file(\"raw-cw12-first-p.jsonl\"), meta=['docno', 'text'], meta_lengths=[20, 4096])"
   ]
  }
 ],
 "metadata": {
  "kernelspec": {
   "display_name": "Python 3 (ipykernel)",
   "language": "python",
   "name": "python3"
  },
  "language_info": {
   "codemirror_mode": {
    "name": "ipython",
    "version": 3
   },
   "file_extension": ".py",
   "mimetype": "text/x-python",
   "name": "python",
   "nbconvert_exporter": "python",
   "pygments_lexer": "ipython3",
   "version": "3.8.5"
  }
 },
 "nbformat": 4,
 "nbformat_minor": 5
}
