{
 "cells": [
  {
   "cell_type": "markdown",
   "id": "e2fa179e",
   "metadata": {
    "pycharm": {
     "name": "#%% md\n"
    }
   },
   "source": [
    "# Properties of Duo-Rerankers"
   ]
  },
  {
   "cell_type": "code",
   "execution_count": 38,
   "id": "3fbab4de",
   "metadata": {
    "pycharm": {
     "name": "#%%\n"
    }
   },
   "outputs": [
    {
     "name": "stdout",
     "output_type": "stream",
     "text": [
      "....\r\n",
      "----------------------------------------------------------------------\r\n",
      "Ran 4 tests in 0.002s\r\n",
      "\r\n",
      "OK\r\n"
     ]
    }
   ],
   "source": [
    "!nosetests ../tests\n",
    "\n",
    "import sys\n",
    "sys.path.insert(0, \"../src\")\n",
    "from retrieval_pipelines.FileSystemCache import FileSystemCache\n",
    "from tqdm import tqdm\n",
    "import seaborn as sns\n",
    "import pandas as pd\n",
    "\n",
    "import pyterrier as pt\n",
    "if not pt.started():\n",
    "    pt.init()\n",
    "\n",
    "DIR = '/mnt/ceph/storage/data-in-progress/data-research/web-search/SIGIR-22/sigir22-pairwise-ranking/pairwise-cache/dl_passages/'\n",
    "\n",
    "dl_passages = pt.get_dataset('trec-deep-learning-passages')\n",
    "ALL_CACHES = {}\n",
    "\n",
    "def duo_t5_cache(model):\n",
    "    if model not in ALL_CACHES:\n",
    "        ALL_CACHES[model] = FileSystemCache(DIR + 'castorini-duot5-' + model + '-msmarco')\n",
    "    \n",
    "    return ALL_CACHES[model]"
   ]
  },
  {
   "cell_type": "markdown",
   "id": "2059fff9",
   "metadata": {
    "pycharm": {
     "name": "#%% md\n"
    }
   },
   "source": [
    "### Is DuoT5-3b Symmetrical?"
   ]
  },
  {
   "cell_type": "code",
   "execution_count": 144,
   "id": "c015a07d",
   "metadata": {
    "pycharm": {
     "name": "#%%\n"
    }
   },
   "outputs": [],
   "source": [
    "def all_pairs(model_name, shared_task):\n",
    "    import numpy as np\n",
    "    \n",
    "    cache = duo_t5_cache(model_name)\n",
    "    topics = dl_passages.get_topics(shared_task)\n",
    "    topics = set(topics['qid'])\n",
    "    df_qrels = dl_passages.get_qrels(shared_task)\n",
    "    qrels = {}\n",
    "    \n",
    "    for _, i in df_qrels.iterrows():\n",
    "        qrels[(str(i['qid']), str(i['docno']))] = i['label']\n",
    "    \n",
    "    \n",
    "    ret = []\n",
    "    already_seen_per_query = {}\n",
    "    \n",
    "    for (qid, did1, did2), _ in tqdm([i for i in cache]):\n",
    "        if qid not in topics:\n",
    "            continue\n",
    "        if qid not in already_seen_per_query:\n",
    "            already_seen_per_query[qid] = set()\n",
    "        \n",
    "        if (did1, did2) not in already_seen_per_query[qid]:\n",
    "            already_seen_per_query[qid].add((did1, did2))\n",
    "            already_seen_per_query[qid].add((did2, did1))\n",
    "            \n",
    "            prop_did1_did2 = np.exp(cache[(qid, did1, did2)])\n",
    "            prop_did2_did1 = np.exp(cache[(qid, did2, did1)])\n",
    "            \n",
    "            rel_a = qrels.get((qid, did1), 0)\n",
    "            rel_b = qrels.get((qid, did2), 0)\n",
    "            \n",
    "            \n",
    "            \n",
    "            relevance_id_a_before_id_b = 0\n",
    "            \n",
    "            if rel_a > rel_b:\n",
    "                relevance_id_a_before_id_b = 1\n",
    "            if rel_a < rel_b:\n",
    "                relevance_id_a_before_id_b = -1\n",
    "            \n",
    "            ret += [{\n",
    "                'model_name': model_name,\n",
    "                'qid': qid,\n",
    "                'shared_task': shared_task,\n",
    "                'id_a': did1,\n",
    "                'id_b': did2,\n",
    "                'both_documents_judged': (qid, did1) in qrels and (qid, did2) in qrels, \n",
    "                'propbability_id_a_before_id_b': prop_did1_did2 - prop_did2_did1,\n",
    "                'relevance_id_a_before_id_b': relevance_id_a_before_id_b,\n",
    "                'preference_correct': (prop_did1_did2 - prop_did2_did1 > 0 and relevance_id_a_before_id_b > 0) or (prop_did1_did2 - prop_did2_did1 < 0 and relevance_id_a_before_id_b < 0),\n",
    "                'P(A before B|q)': prop_did1_did2,\n",
    "                'P(B before A|q)': prop_did2_did1,\n",
    "                'absoluteScoreDifference': abs(prop_did1_did2 - (1 - prop_did2_did1))\n",
    "            }]\n",
    "    \n",
    "    return ret"
   ]
  },
  {
   "cell_type": "code",
   "execution_count": 145,
   "id": "be338323",
   "metadata": {
    "pycharm": {
     "name": "#%%\n"
    }
   },
   "outputs": [
    {
     "name": "stderr",
     "output_type": "stream",
     "text": [
      "100%|████████████████████████████████████████████████████████████████████████████████████████████████| 324661/324661 [00:00<00:00, 483224.77it/s]\n"
     ]
    },
    {
     "data": {
      "text/plain": [
       "<seaborn.axisgrid.FacetGrid at 0x7f51489e22e0>"
      ]
     },
     "execution_count": 145,
     "metadata": {},
     "output_type": "execute_result"
    },
    {
     "data": {
      "image/png": "[encoded data removed]",
      "text/plain": [
       "<Figure size 360x360 with 1 Axes>"
      ]
     },
     "metadata": {
      "needs_background": "light"
     },
     "output_type": "display_data"
    }
   ],
   "source": [
    "df_3b = pd.DataFrame(all_pairs('3b', 'test-2019'))\n",
    "sns.displot(data=df_3b[df_3b['both_documents_judged']], x='absoluteScoreDifference')"
   ]
  },
  {
   "cell_type": "code",
   "execution_count": 95,
   "id": "30ba5432",
   "metadata": {
    "pycharm": {
     "name": "#%%\n"
    }
   },
   "outputs": [
    {
     "data": {
      "text/plain": [
       "0.4072225793126198"
      ]
     },
     "execution_count": 95,
     "metadata": {},
     "output_type": "execute_result"
    }
   ],
   "source": [
    "# Korrelation insgesamt\n",
    "df_3b[df_3b['both_documents_judged']]['P(A before B|q)'].corr(df_3b[df_3b['both_documents_judged']]['P(B before A|q)']*-1)"
   ]
  },
  {
   "cell_type": "code",
   "execution_count": 146,
   "id": "82ec32ee",
   "metadata": {
    "pycharm": {
     "name": "#%%\n"
    }
   },
   "outputs": [
    {
     "name": "stderr",
     "output_type": "stream",
     "text": [
      "100%|████████████████████████████████████████████████████████████████████████████████████████████████| 329041/329041 [00:00<00:00, 496692.37it/s]\n"
     ]
    },
    {
     "data": {
      "text/plain": [
       "<seaborn.axisgrid.FacetGrid at 0x7f512cfb2700>"
      ]
     },
     "execution_count": 146,
     "metadata": {},
     "output_type": "execute_result"
    },
    {
     "data": {
      "image/png": "[encoded data removed]",
      "text/plain": [
       "<Figure size 360x360 with 1 Axes>"
      ]
     },
     "metadata": {
      "needs_background": "light"
     },
     "output_type": "display_data"
    }
   ],
   "source": [
    "df_base = pd.DataFrame(all_pairs('base', 'test-2019'))\n",
    "sns.displot(data=df_base[df_base['both_documents_judged']], x='absoluteScoreDifference')"
   ]
  },
  {
   "cell_type": "code",
   "execution_count": 147,
   "id": "878bae6b",
   "metadata": {
    "pycharm": {
     "name": "#%%\n"
    }
   },
   "outputs": [
    {
     "data": {
      "text/plain": [
       "0.16641562537038343"
      ]
     },
     "execution_count": 147,
     "metadata": {},
     "output_type": "execute_result"
    }
   ],
   "source": [
    "# Korrelation insgesamt\n",
    "df_base[df_base['both_documents_judged']]['P(A before B|q)'].corr(df_base[df_base['both_documents_judged']]['P(B before A|q)']*-1)"
   ]
  },
  {
   "cell_type": "markdown",
   "id": "67a66767",
   "metadata": {
    "pycharm": {
     "name": "#%% md\n"
    }
   },
   "source": [
    "### Is DuoT5-3b Transitive?"
   ]
  },
  {
   "cell_type": "code",
   "execution_count": 129,
   "id": "ba809bb9",
   "metadata": {
    "pycharm": {
     "name": "#%%\n"
    }
   },
   "outputs": [],
   "source": [
    "def transitive_pairs(model_name, shared_task, threshold):\n",
    "    import numpy as np\n",
    "    import itertools\n",
    "    \n",
    "    cache = duo_t5_cache(model_name)\n",
    "    topics = dl_passages.get_topics(shared_task)\n",
    "    topics = set(topics['qid'])\n",
    "    df_qrels = dl_passages.get_qrels(shared_task)\n",
    "    qrels = {}\n",
    "    \n",
    "    for _, i in df_qrels.iterrows():\n",
    "        qrels[(str(i['qid']), str(i['docno']))] = i['label']\n",
    "    \n",
    "    \n",
    "    ret = []\n",
    "    \n",
    "    all_elements = {}\n",
    "    for (qid, did1, did2), _ in tqdm([i for i in cache]):\n",
    "        if qid not in topics:\n",
    "            continue\n",
    "        if qid not in all_elements:\n",
    "            all_elements[qid] = set()\n",
    "        \n",
    "        all_elements[qid].add(did1)\n",
    "        all_elements[qid].add(did2)\n",
    "    \n",
    "    for qid, docs in tqdm(all_elements.items()):\n",
    "        for (did1, did2, did3) in itertools.permutations(docs, 3):\n",
    "            if (qid, did1, did2) not in cache or (qid, did2, did3) not in cache or (qid, did1, did3) not in cache:\n",
    "                continue\n",
    "            \n",
    "            prop_did1_did2 = np.exp(cache[(qid, did1, did2)])\n",
    "            prop_did2_did3 = np.exp(cache[(qid, did2, did3)])\n",
    "            prop_did1_did3 = np.exp(cache[(qid, did1, did3)])\n",
    "            \n",
    "            \n",
    "            rel_did1 = qrels.get((qid, did1), 0)\n",
    "            rel_did2 = qrels.get((qid, did2), 0)\n",
    "            rel_did3 = qrels.get((qid, did3), 0)\n",
    "            \n",
    "            ret += [{\n",
    "                'model_name': model_name,\n",
    "                'qid': qid,\n",
    "                'shared_task': shared_task,\n",
    "                'Precondition transitive fulfilled': prop_did1_did2 > threshold and prop_did2_did3 > threshold,\n",
    "                'P(A before B|q) + P(B before C|q)': prop_did1_did2 + prop_did2_did3,\n",
    "                'min(P(A before B|q) + P(B before C|q)) <= P(A before C|q)': min(prop_did1_did2, prop_did2_did3) <= prop_did1_did3,\n",
    "                'P(A before C|q)': prop_did1_did3,\n",
    "                'Rel(A)': rel_did1,\n",
    "                'Rel(B)': rel_did2,\n",
    "                'Rel(C)': rel_did3,\n",
    "            }]\n",
    "    \n",
    "    return ret"
   ]
  },
  {
   "cell_type": "code",
   "execution_count": 130,
   "id": "b727745f",
   "metadata": {
    "pycharm": {
     "name": "#%%\n"
    }
   },
   "outputs": [
    {
     "name": "stderr",
     "output_type": "stream",
     "text": [
      "100%|███████████████████████████████████████████████████████████████████████████████████████████████| 324661/324661 [00:00<00:00, 2654350.50it/s]\n",
      "100%|████████████████████████████████████████████████████████████████████████████████████████████████████████████| 43/43 [01:06<00:00,  1.54s/it]\n"
     ]
    },
    {
     "name": "stdout",
     "output_type": "stream",
     "text": [
      "9606210\n"
     ]
    }
   ],
   "source": [
    "df_3b_transitive = pd.DataFrame(transitive_pairs('3b', 'test-2019', 0.6))\n",
    "\n",
    "print(len(df_3b_transitive))"
   ]
  },
  {
   "cell_type": "code",
   "execution_count": 134,
   "id": "d84c3549",
   "metadata": {
    "pycharm": {
     "name": "#%%\n"
    }
   },
   "outputs": [
    {
     "data": {
      "text/plain": [
       "0.792504536128192"
      ]
     },
     "execution_count": 134,
     "metadata": {},
     "output_type": "execute_result"
    }
   ],
   "source": [
    "df_3b_transitive['min(P(A before B|q) + P(B before C|q)) <= P(A before C|q)'].mean()"
   ]
  },
  {
   "cell_type": "code",
   "execution_count": 135,
   "id": "efa9bb94",
   "metadata": {
    "pycharm": {
     "name": "#%%\n"
    }
   },
   "outputs": [
    {
     "data": {
      "text/plain": [
       "0.8414689943031378"
      ]
     },
     "execution_count": 135,
     "metadata": {},
     "output_type": "execute_result"
    }
   ],
   "source": [
    "df_3b_transitive[df_3b_transitive['Precondition transitive fulfilled']]['min(P(A before B|q) + P(B before C|q)) <= P(A before C|q)'].mean()"
   ]
  },
  {
   "cell_type": "code",
   "execution_count": 138,
   "id": "411a4ba8",
   "metadata": {
    "pycharm": {
     "name": "#%%\n"
    }
   },
   "outputs": [
    {
     "data": {
      "text/plain": [
       "0.9363472508854302"
      ]
     },
     "execution_count": 138,
     "metadata": {},
     "output_type": "execute_result"
    }
   ],
   "source": [
    "df_3b_transitive[df_3b_transitive['Rel(A)'] > df_3b_transitive['Rel(C)']]['min(P(A before B|q) + P(B before C|q)) <= P(A before C|q)'].mean()"
   ]
  },
  {
   "cell_type": "code",
   "execution_count": 137,
   "id": "5d0cd213",
   "metadata": {
    "pycharm": {
     "name": "#%%\n"
    }
   },
   "outputs": [
    {
     "data": {
      "text/plain": [
       "0.662044555392338"
      ]
     },
     "execution_count": 137,
     "metadata": {},
     "output_type": "execute_result"
    }
   ],
   "source": [
    "df_3b_transitive[df_3b_transitive['Rel(A)'] < df_3b_transitive['Rel(C)']]['min(P(A before B|q) + P(B before C|q)) <= P(A before C|q)'].mean()"
   ]
  },
  {
   "cell_type": "code",
   "execution_count": 131,
   "id": "20f4897c",
   "metadata": {
    "pycharm": {
     "name": "#%%\n"
    }
   },
   "outputs": [
    {
     "name": "stderr",
     "output_type": "stream",
     "text": [
      "100%|███████████████████████████████████████████████████████████████████████████████████████████████| 329041/329041 [00:00<00:00, 2639724.23it/s]\n",
      "100%|████████████████████████████████████████████████████████████████████████████████████████████████████████████| 43/43 [01:08<00:00,  1.58s/it]\n"
     ]
    },
    {
     "name": "stdout",
     "output_type": "stream",
     "text": [
      "9733416\n"
     ]
    }
   ],
   "source": [
    "df_base_transitive = pd.DataFrame(transitive_pairs('base', 'test-2019', 0.6))\n",
    "\n",
    "print(len(df_base_transitive))\n"
   ]
  },
  {
   "cell_type": "code",
   "execution_count": 132,
   "id": "d5f415ef",
   "metadata": {
    "pycharm": {
     "name": "#%%\n"
    }
   },
   "outputs": [
    {
     "data": {
      "text/plain": [
       "0.7590512929890184"
      ]
     },
     "execution_count": 132,
     "metadata": {},
     "output_type": "execute_result"
    }
   ],
   "source": [
    "df_base_transitive['min(P(A before B|q) + P(B before C|q)) <= P(A before C|q)'].mean()"
   ]
  },
  {
   "cell_type": "code",
   "execution_count": 133,
   "id": "cf575bbe",
   "metadata": {
    "pycharm": {
     "name": "#%%\n"
    }
   },
   "outputs": [
    {
     "data": {
      "text/plain": [
       "0.7137520382829479"
      ]
     },
     "execution_count": 133,
     "metadata": {},
     "output_type": "execute_result"
    }
   ],
   "source": [
    "df_base_transitive[df_base_transitive['Precondition transitive fulfilled']]['min(P(A before B|q) + P(B before C|q)) <= P(A before C|q)'].mean()"
   ]
  },
  {
   "cell_type": "code",
   "execution_count": 140,
   "id": "0296570f",
   "metadata": {
    "pycharm": {
     "name": "#%%\n"
    }
   },
   "outputs": [
    {
     "data": {
      "text/plain": [
       "0.6441515828760079"
      ]
     },
     "execution_count": 140,
     "metadata": {},
     "output_type": "execute_result"
    }
   ],
   "source": [
    "df_base_transitive[df_base_transitive['Rel(A)'] < df_base_transitive['Rel(C)']]['min(P(A before B|q) + P(B before C|q)) <= P(A before C|q)'].mean()"
   ]
  },
  {
   "cell_type": "code",
   "execution_count": 142,
   "id": "711a6a4b",
   "metadata": {
    "pycharm": {
     "name": "#%%\n"
    }
   },
   "outputs": [
    {
     "data": {
      "text/plain": [
       "0.9166944483684136"
      ]
     },
     "execution_count": 142,
     "metadata": {},
     "output_type": "execute_result"
    }
   ],
   "source": [
    "df_base_transitive[(df_base_transitive['Rel(A)'] > df_base_transitive['Rel(B)']) & (df_base_transitive['Rel(B)'] > df_base_transitive['Rel(C)'])& (df_base_transitive['Rel(A)'] > df_base_transitive['Rel(C)'])]['min(P(A before B|q) + P(B before C|q)) <= P(A before C|q)'].mean()"
   ]
  }
 ],
 "metadata": {
  "kernelspec": {
   "display_name": "Python 3 (ipykernel)",
   "language": "python",
   "name": "python3"
  },
  "language_info": {
   "codemirror_mode": {
    "name": "ipython",
    "version": 3
   },
   "file_extension": ".py",
   "mimetype": "text/x-python",
   "name": "python",
   "nbconvert_exporter": "python",
   "pygments_lexer": "ipython3",
   "version": "3.8.5"
  }
 },
 "nbformat": 4,
 "nbformat_minor": 5
}