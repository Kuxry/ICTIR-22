{
 "cells": [
  {
   "cell_type": "code",
   "execution_count": 1,
   "outputs": [],
   "source": [
    "import pandas as pd"
   ],
   "metadata": {
    "collapsed": false,
    "pycharm": {
     "name": "#%%\n"
    }
   }
  },
  {
   "cell_type": "code",
   "execution_count": 2,
   "outputs": [],
   "source": [
    "gridsearch_data = (\n",
    "\tpd.read_csv(\"../data/processed/aggregated/evaluated-gridsearch.csv\")\n",
    "\t.rename({\n",
    "\t\t\"sample_rate\": \"window_size\",\n",
    "\t\t\"aggregator\": \"window_skip\",\n",
    "\t\t\"sampler\": \"aggregator\"\n",
    "\t}, axis=1)\n",
    ").assign(sampler=\"Optimized\")\n",
    "\n",
    "gridsearch_data.aggregator = gridsearch_data.aggregator.replace({\n",
    "\t\"bradleyterry\": \"Bradley-Terry\",\n",
    "\t\"additive\": \"Additive\",\n",
    "\t\"greedy\": \"Greedy\",\n",
    "\t\"pagerank\": \"PageRank\"\n",
    "})\n",
    "\n",
    "gridsearch_data = (\n",
    "\tpd.merge(\n",
    "\t\t(\n",
    "\t\t\tgridsearch_data\n",
    "\t\t\t.loc[\n",
    "\t\t\t\tgridsearch_data.collection == \"dl-passages\",\n",
    "\t\t\t\t[\"sampler\", \"aggregator\", \"window_size\", \"window_skip\", \"query\", \"NDCG_10\"]\n",
    "\t\t\t]\n",
    "\t\t\t.groupby(\n",
    "\t\t\t\t[\"sampler\", \"aggregator\", \"window_size\", \"window_skip\"]\n",
    "\t\t\t)\n",
    "\t\t\t.mean()\n",
    "\t\t\t.drop(\"query\", axis=1)\n",
    "\t\t\t.sort_values([\"window_size\", \"sampler\", \"aggregator\", \"NDCG_10\"], ascending=False)\n",
    "\t\t\t.reset_index()\n",
    "\t\t\t.groupby([\"window_size\", \"sampler\", \"aggregator\"])\n",
    "\t\t\t.head(1)\n",
    "\t\t\t.drop(\"NDCG_10\", axis=1)\n",
    "\t\t),\n",
    "\t    (\n",
    "\t\t\tgridsearch_data\n",
    "\t\t\t.loc[\n",
    "\t\t\t\tgridsearch_data[\"collection\"] == \"dl-passages\",\n",
    "\t\t\t\t[\"sampler\", \"aggregator\", \"window_size\", \"window_skip\", \"query\", \"NDCG_10\"]\n",
    "\t\t\t]\n",
    "\t\t),\n",
    "\t\thow = \"left\",\n",
    "\t\ton = [\"window_size\", \"sampler\", \"aggregator\", \"window_skip\"]\n",
    "\t)\n",
    "\t.assign(sample_rate=lambda df: (\n",
    "\t\tdf[\"window_size\"]\n",
    "\t\t.astype(int)\n",
    "\t\t.apply(lambda v: (50 * v) / (50 * (50-1)))\n",
    "\t\t.apply(lambda s: s*20)\n",
    "\t\t.round()\n",
    "\t\t.astype(int)\n",
    "\t\t.apply(lambda s: s / 20)\n",
    "\t))\n",
    "\t.assign(keep=lambda df: df[\"window_size\"].isin(\n",
    "\t\tdf\n",
    "\t\t.loc[\n",
    "\t\t\t:,\n",
    "\t\t\t[\"window_size\", \"sample_rate\"]\n",
    "\t\t]\n",
    "\t\t.groupby(\"sample_rate\")\n",
    "\t\t.max()\n",
    "\t\t[\"window_size\"]\n",
    "\t\t.values\n",
    "\t\t.tolist()\n",
    "\t))\n",
    "\t.drop([\"window_skip\", \"window_size\"], axis=1)\n",
    ")\n",
    "\n",
    "gridsearch_data = gridsearch_data.loc[\n",
    "\tgridsearch_data.keep &\n",
    "\t(gridsearch_data.sample_rate != 1.0) &\n",
    "    (gridsearch_data.sample_rate != 0.0),\n",
    "\t['sample_rate', 'sampler', 'aggregator', 'query', 'NDCG_10']\n",
    "]"
   ],
   "metadata": {
    "collapsed": false,
    "pycharm": {
     "name": "#%%\n"
    }
   }
  },
  {
   "cell_type": "code",
   "execution_count": 3,
   "outputs": [],
   "source": [
    "ndcg_data = pd.read_csv(\"../data/processed/aggregated/evaluated-sampled.csv\")\n",
    "ndcg_data = (\n",
    "\tpd.merge(\n",
    "\t\t# i-value with minimum mean NDCG\n",
    "\t\t(\n",
    "\t\t\tndcg_data\n",
    "\t\t\t.loc[\n",
    "\t\t\t\tndcg_data[\"collection\"] == \"dl-passages\",\n",
    "\t\t\t\t[\n",
    "\t\t\t\t\t\"sample_rate\",\n",
    "\t\t\t\t\t\"sampler\",\n",
    "\t\t\t\t\t\"aggregator\",\n",
    "\t\t\t\t\t\"i\",\n",
    "\t\t\t\t\t\"query\",\n",
    "\t\t\t\t\t\"NDCG_10\"\n",
    "\t\t\t\t]\n",
    "\t\t\t]\n",
    "\t\t\t.groupby([\"sample_rate\", \"sampler\", \"aggregator\", \"i\"])\n",
    "\t\t\t.mean()\n",
    "\t\t\t.drop(\"query\", axis=1)\n",
    "\t\t\t.sort_values([\"sample_rate\", \"sampler\", \"aggregator\", \"NDCG_10\"])\n",
    "\t\t\t.reset_index()\n",
    "\t\t\t.groupby([\"sample_rate\", \"sampler\", \"aggregator\"])\n",
    "\t\t\t.head(1)\n",
    "\t\t\t.drop(\"NDCG_10\", axis=1)\n",
    "\t\t),\n",
    "\t\t# NDCG per query\n",
    "\t    (\n",
    "\t\t\tndcg_data\n",
    "\t\t\t.loc[\n",
    "\t\t\t\tndcg_data[\"collection\"] == \"dl-passages\",\n",
    "\t\t\t\t[\n",
    "\t\t\t\t\t\"sample_rate\",\n",
    "\t\t\t\t\t\"sampler\",\n",
    "\t\t\t\t\t\"aggregator\",\n",
    "\t\t\t\t\t\"i\",\n",
    "\t\t\t\t\t\"query\",\n",
    "\t\t\t\t\t\"NDCG_10\"\n",
    "\t\t\t\t]\n",
    "\t\t\t]\n",
    "\t\t),\n",
    "\t\thow = \"left\",\n",
    "\t\ton = [\"sample_rate\", \"sampler\", \"aggregator\", \"i\"]\n",
    "\t)\n",
    "\t.drop(\"i\", axis=1)\n",
    ")\n",
    "\n",
    "ndcg_data = ndcg_data.loc[\n",
    "\tndcg_data.aggregator != \"kwiksort\",\n",
    "\t['sample_rate', 'sampler', 'aggregator', 'query', 'NDCG_10']\n",
    "]"
   ],
   "metadata": {
    "collapsed": false,
    "pycharm": {
     "name": "#%%\n"
    }
   }
  },
  {
   "cell_type": "code",
   "execution_count": 4,
   "outputs": [],
   "source": [
    "baseline_data = pd.read_csv(\"../data/processed/aggregated/evaluated-full.csv\")\n",
    "\n",
    "baseline_data = (\n",
    "\tbaseline_data\n",
    "\t.loc[\n",
    "\t\t(baseline_data.collection == \"dl-passages\") &\n",
    "        (baseline_data.aggregator != \"Kwiksort\"),\n",
    "\t\t[\"aggregator\", \"query\", \"NDCG_10\"]\n",
    "\t]\n",
    ")"
   ],
   "metadata": {
    "collapsed": false,
    "pycharm": {
     "name": "#%%\n"
    }
   }
  },
  {
   "cell_type": "code",
   "execution_count": 5,
   "outputs": [],
   "source": [
    "unified_data = pd.concat([gridsearch_data, ndcg_data], axis=0).reset_index(drop=True)"
   ],
   "metadata": {
    "collapsed": false,
    "pycharm": {
     "name": "#%%\n"
    }
   }
  },
  {
   "cell_type": "code",
   "execution_count": 6,
   "outputs": [
    {
     "data": {
      "text/plain": "       sampler  sample_rate             p  ndcg_full  var_full  ndcg_sampled  \\\n0    Optimized         0.95  6.762254e-01   0.691431  0.231714      0.692740   \n1    Optimized         0.90  7.734706e-01   0.691431  0.231714      0.692356   \n2    Optimized         0.85  1.493758e-01   0.691431  0.231714      0.683722   \n3    Optimized         0.80  1.186676e-01   0.691431  0.231714      0.682315   \n4    Optimized         0.75  1.603958e-01   0.691431  0.231714      0.682441   \n..         ...          ...           ...        ...       ...           ...   \n52  Structured         0.25  1.280301e-04   0.695342  0.232178      0.623268   \n53  Structured         0.20  3.696521e-06   0.695342  0.232178      0.606459   \n54  Structured         0.15  6.842998e-06   0.695342  0.232178      0.587584   \n55  Structured         0.10  1.724925e-06   0.700942  0.232172      0.561971   \n56  Structured         0.05  3.839092e-08   0.708647  0.218250      0.513820   \n\n    var_sampled  n_topics     aggregator  \n0      0.233130        42  Bradley-Terry  \n1      0.235051        42  Bradley-Terry  \n2      0.233849        42  Bradley-Terry  \n3      0.240335        42  Bradley-Terry  \n4      0.235570        42  Bradley-Terry  \n..          ...       ...            ...  \n52     0.257993        42       PageRank  \n53     0.247890        42       PageRank  \n54     0.250468        42       PageRank  \n55     0.275782        41       PageRank  \n56     0.285596        41       PageRank  \n\n[228 rows x 9 columns]",
      "text/html": "<div>\n<style scoped>\n    .dataframe tbody tr th:only-of-type {\n        vertical-align: middle;\n    }\n\n    .dataframe tbody tr th {\n        vertical-align: top;\n    }\n\n    .dataframe thead th {\n        text-align: right;\n    }\n</style>\n<table border=\"1\" class=\"dataframe\">\n  <thead>\n    <tr style=\"text-align: right;\">\n      <th></th>\n      <th>sampler</th>\n      <th>sample_rate</th>\n      <th>p</th>\n      <th>ndcg_full</th>\n      <th>var_full</th>\n      <th>ndcg_sampled</th>\n      <th>var_sampled</th>\n      <th>n_topics</th>\n      <th>aggregator</th>\n    </tr>\n  </thead>\n  <tbody>\n    <tr>\n      <th>0</th>\n      <td>Optimized</td>\n      <td>0.95</td>\n      <td>6.762254e-01</td>\n      <td>0.691431</td>\n      <td>0.231714</td>\n      <td>0.692740</td>\n      <td>0.233130</td>\n      <td>42</td>\n      <td>Bradley-Terry</td>\n    </tr>\n    <tr>\n      <th>1</th>\n      <td>Optimized</td>\n      <td>0.90</td>\n      <td>7.734706e-01</td>\n      <td>0.691431</td>\n      <td>0.231714</td>\n      <td>0.692356</td>\n      <td>0.235051</td>\n      <td>42</td>\n      <td>Bradley-Terry</td>\n    </tr>\n    <tr>\n      <th>2</th>\n      <td>Optimized</td>\n      <td>0.85</td>\n      <td>1.493758e-01</td>\n      <td>0.691431</td>\n      <td>0.231714</td>\n      <td>0.683722</td>\n      <td>0.233849</td>\n      <td>42</td>\n      <td>Bradley-Terry</td>\n    </tr>\n    <tr>\n      <th>3</th>\n      <td>Optimized</td>\n      <td>0.80</td>\n      <td>1.186676e-01</td>\n      <td>0.691431</td>\n      <td>0.231714</td>\n      <td>0.682315</td>\n      <td>0.240335</td>\n      <td>42</td>\n      <td>Bradley-Terry</td>\n    </tr>\n    <tr>\n      <th>4</th>\n      <td>Optimized</td>\n      <td>0.75</td>\n      <td>1.603958e-01</td>\n      <td>0.691431</td>\n      <td>0.231714</td>\n      <td>0.682441</td>\n      <td>0.235570</td>\n      <td>42</td>\n      <td>Bradley-Terry</td>\n    </tr>\n    <tr>\n      <th>...</th>\n      <td>...</td>\n      <td>...</td>\n      <td>...</td>\n      <td>...</td>\n      <td>...</td>\n      <td>...</td>\n      <td>...</td>\n      <td>...</td>\n      <td>...</td>\n    </tr>\n    <tr>\n      <th>52</th>\n      <td>Structured</td>\n      <td>0.25</td>\n      <td>1.280301e-04</td>\n      <td>0.695342</td>\n      <td>0.232178</td>\n      <td>0.623268</td>\n      <td>0.257993</td>\n      <td>42</td>\n      <td>PageRank</td>\n    </tr>\n    <tr>\n      <th>53</th>\n      <td>Structured</td>\n      <td>0.20</td>\n      <td>3.696521e-06</td>\n      <td>0.695342</td>\n      <td>0.232178</td>\n      <td>0.606459</td>\n      <td>0.247890</td>\n      <td>42</td>\n      <td>PageRank</td>\n    </tr>\n    <tr>\n      <th>54</th>\n      <td>Structured</td>\n      <td>0.15</td>\n      <td>6.842998e-06</td>\n      <td>0.695342</td>\n      <td>0.232178</td>\n      <td>0.587584</td>\n      <td>0.250468</td>\n      <td>42</td>\n      <td>PageRank</td>\n    </tr>\n    <tr>\n      <th>55</th>\n      <td>Structured</td>\n      <td>0.10</td>\n      <td>1.724925e-06</td>\n      <td>0.700942</td>\n      <td>0.232172</td>\n      <td>0.561971</td>\n      <td>0.275782</td>\n      <td>41</td>\n      <td>PageRank</td>\n    </tr>\n    <tr>\n      <th>56</th>\n      <td>Structured</td>\n      <td>0.05</td>\n      <td>3.839092e-08</td>\n      <td>0.708647</td>\n      <td>0.218250</td>\n      <td>0.513820</td>\n      <td>0.285596</td>\n      <td>41</td>\n      <td>PageRank</td>\n    </tr>\n  </tbody>\n</table>\n<p>228 rows × 9 columns</p>\n</div>"
     },
     "execution_count": 6,
     "metadata": {},
     "output_type": "execute_result"
    }
   ],
   "source": [
    "from scipy.stats import ttest_rel\n",
    "\n",
    "df = []\n",
    "for aggregator in baseline_data.aggregator.unique():\n",
    "\n",
    "\tsample_a = (\n",
    "\t\tbaseline_data\n",
    "\t\t.sort_values(\"query\")\n",
    "\t\t.loc[\n",
    "\t\t\tbaseline_data.aggregator == aggregator,\n",
    "\t\t\t(\"query\", \"NDCG_10\")\n",
    "\t\t]\n",
    "    )\n",
    "\n",
    "\tp_values = []\n",
    "\tfor sampler in unified_data.sampler.unique():\n",
    "\t\tfor sample_rate in unified_data.sample_rate.unique():\n",
    "\n",
    "\t\t\tsample_b = (\n",
    "\t\t\t\tunified_data\n",
    "\t\t\t\t.sort_values(\"query\")\n",
    "\t\t\t\t.loc[\n",
    "\t\t\t\t\t(unified_data.aggregator == aggregator) &\n",
    "\t\t\t\t\t(unified_data.sample_rate == sample_rate) &\n",
    "                    (unified_data.sampler == sampler),\n",
    "\t\t\t\t\t(\"query\", \"NDCG_10\")\n",
    "\t\t\t\t]\n",
    "\t        )\n",
    "\n",
    "\t\t\tmerged = pd.merge(sample_a, sample_b, on=\"query\").dropna()\n",
    "\t\t\t_, p = ttest_rel(merged[\"NDCG_10_x\"], merged[\"NDCG_10_y\"])\n",
    "\n",
    "\t\t\tndcg_a = merged[\"NDCG_10_x\"].mean()\n",
    "\t\t\tndcg_b = merged[\"NDCG_10_y\"].mean()\n",
    "\t\t\tvar_a = merged[\"NDCG_10_x\"].std()\n",
    "\t\t\tvar_b = merged[\"NDCG_10_y\"].std()\n",
    "\n",
    "\t\t\tp_values.append((sampler, sample_rate, p, ndcg_a, var_a, ndcg_b, var_b, len(merged)))\n",
    "\n",
    "\tdf.append(pd.DataFrame(p_values, columns=[\"sampler\", \"sample_rate\", \"p\", \"ndcg_full\", \"var_full\", \"ndcg_sampled\", \"var_sampled\", \"n_topics\"]).assign(aggregator=aggregator))\n",
    "\n",
    "df = pd.concat(df)\n",
    "df\n"
   ],
   "metadata": {
    "collapsed": false,
    "pycharm": {
     "name": "#%%\n"
    }
   }
  },
  {
   "cell_type": "code",
   "execution_count": 7,
   "outputs": [],
   "source": [
    "from statsmodels.stats.multitest import multipletests\n",
    "\n",
    "\n",
    "df = (\n",
    "\tdf\n",
    "\t.groupby([\"sampler\", \"aggregator\"])\n",
    "\t.apply(lambda group: group.assign(\n",
    "\t\tp_corrected=multipletests(group[\"p\"].values, alpha=0.95, method=\"bonferroni\")[1],\n",
    "\t\taccepted=multipletests(group[\"p\"].values, alpha=0.95, method=\"bonferroni\")[0]\n",
    "\t))\n",
    ")"
   ],
   "metadata": {
    "collapsed": false,
    "pycharm": {
     "name": "#%%\n"
    }
   }
  },
  {
   "cell_type": "code",
   "execution_count": 10,
   "outputs": [
    {
     "data": {
      "text/plain": "   sampler  sample_rate             p  ndcg_full  var_full  ndcg_sampled  \\\n19  Random         0.95  4.386449e-02   0.691431  0.231714      0.673564   \n20  Random         0.90  1.162555e-02   0.691431  0.231714      0.654963   \n21  Random         0.85  2.150729e-03   0.691431  0.231714      0.649173   \n22  Random         0.80  3.936392e-05   0.691431  0.231714      0.640747   \n23  Random         0.75  2.310533e-04   0.691431  0.231714      0.640002   \n24  Random         0.70  2.135494e-06   0.691431  0.231714      0.617308   \n25  Random         0.65  6.918066e-05   0.691431  0.231714      0.616640   \n26  Random         0.60  1.731293e-05   0.691431  0.231714      0.612793   \n27  Random         0.55  1.763532e-05   0.691431  0.231714      0.608830   \n28  Random         0.50  1.006611e-05   0.691431  0.231714      0.604001   \n29  Random         0.45  1.635617e-07   0.691431  0.231714      0.580944   \n30  Random         0.40  3.248161e-05   0.691431  0.231714      0.593897   \n31  Random         0.35  6.273507e-06   0.691431  0.231714      0.578393   \n32  Random         0.30  2.036580e-07   0.691431  0.231714      0.554697   \n33  Random         0.25  1.237845e-09   0.691431  0.231714      0.545084   \n34  Random         0.20  2.236413e-10   0.691431  0.231714      0.506361   \n35  Random         0.15  7.624540e-09   0.691431  0.231714      0.524525   \n36  Random         0.10  6.952326e-08   0.691431  0.231714      0.508560   \n37  Random         0.05  6.017615e-11   0.691431  0.231714      0.437431   \n\n    var_sampled  n_topics     aggregator   p_corrected  accepted  \n19     0.232992        42  Bradley-Terry  8.334253e-01      True  \n20     0.251588        42  Bradley-Terry  2.208855e-01      True  \n21     0.238514        42  Bradley-Terry  4.086386e-02      True  \n22     0.253804        42  Bradley-Terry  7.479144e-04      True  \n23     0.249981        42  Bradley-Terry  4.390012e-03      True  \n24     0.238740        42  Bradley-Terry  4.057439e-05      True  \n25     0.266235        42  Bradley-Terry  1.314433e-03      True  \n26     0.241249        42  Bradley-Terry  3.289457e-04      True  \n27     0.248212        42  Bradley-Terry  3.350712e-04      True  \n28     0.250640        42  Bradley-Terry  1.912561e-04      True  \n29     0.248943        42  Bradley-Terry  3.107673e-06      True  \n30     0.257345        42  Bradley-Terry  6.171505e-04      True  \n31     0.250363        42  Bradley-Terry  1.191966e-04      True  \n32     0.248919        42  Bradley-Terry  3.869501e-06      True  \n33     0.235533        42  Bradley-Terry  2.351905e-08      True  \n34     0.252252        42  Bradley-Terry  4.249185e-09      True  \n35     0.277922        42  Bradley-Terry  1.448663e-07      True  \n36     0.259361        42  Bradley-Terry  1.320942e-06      True  \n37     0.255402        42  Bradley-Terry  1.143347e-09      True  ",
      "text/html": "<div>\n<style scoped>\n    .dataframe tbody tr th:only-of-type {\n        vertical-align: middle;\n    }\n\n    .dataframe tbody tr th {\n        vertical-align: top;\n    }\n\n    .dataframe thead th {\n        text-align: right;\n    }\n</style>\n<table border=\"1\" class=\"dataframe\">\n  <thead>\n    <tr style=\"text-align: right;\">\n      <th></th>\n      <th>sampler</th>\n      <th>sample_rate</th>\n      <th>p</th>\n      <th>ndcg_full</th>\n      <th>var_full</th>\n      <th>ndcg_sampled</th>\n      <th>var_sampled</th>\n      <th>n_topics</th>\n      <th>aggregator</th>\n      <th>p_corrected</th>\n      <th>accepted</th>\n    </tr>\n  </thead>\n  <tbody>\n    <tr>\n      <th>19</th>\n      <td>Random</td>\n      <td>0.95</td>\n      <td>4.386449e-02</td>\n      <td>0.691431</td>\n      <td>0.231714</td>\n      <td>0.673564</td>\n      <td>0.232992</td>\n      <td>42</td>\n      <td>Bradley-Terry</td>\n      <td>8.334253e-01</td>\n      <td>True</td>\n    </tr>\n    <tr>\n      <th>20</th>\n      <td>Random</td>\n      <td>0.90</td>\n      <td>1.162555e-02</td>\n      <td>0.691431</td>\n      <td>0.231714</td>\n      <td>0.654963</td>\n      <td>0.251588</td>\n      <td>42</td>\n      <td>Bradley-Terry</td>\n      <td>2.208855e-01</td>\n      <td>True</td>\n    </tr>\n    <tr>\n      <th>21</th>\n      <td>Random</td>\n      <td>0.85</td>\n      <td>2.150729e-03</td>\n      <td>0.691431</td>\n      <td>0.231714</td>\n      <td>0.649173</td>\n      <td>0.238514</td>\n      <td>42</td>\n      <td>Bradley-Terry</td>\n      <td>4.086386e-02</td>\n      <td>True</td>\n    </tr>\n    <tr>\n      <th>22</th>\n      <td>Random</td>\n      <td>0.80</td>\n      <td>3.936392e-05</td>\n      <td>0.691431</td>\n      <td>0.231714</td>\n      <td>0.640747</td>\n      <td>0.253804</td>\n      <td>42</td>\n      <td>Bradley-Terry</td>\n      <td>7.479144e-04</td>\n      <td>True</td>\n    </tr>\n    <tr>\n      <th>23</th>\n      <td>Random</td>\n      <td>0.75</td>\n      <td>2.310533e-04</td>\n      <td>0.691431</td>\n      <td>0.231714</td>\n      <td>0.640002</td>\n      <td>0.249981</td>\n      <td>42</td>\n      <td>Bradley-Terry</td>\n      <td>4.390012e-03</td>\n      <td>True</td>\n    </tr>\n    <tr>\n      <th>24</th>\n      <td>Random</td>\n      <td>0.70</td>\n      <td>2.135494e-06</td>\n      <td>0.691431</td>\n      <td>0.231714</td>\n      <td>0.617308</td>\n      <td>0.238740</td>\n      <td>42</td>\n      <td>Bradley-Terry</td>\n      <td>4.057439e-05</td>\n      <td>True</td>\n    </tr>\n    <tr>\n      <th>25</th>\n      <td>Random</td>\n      <td>0.65</td>\n      <td>6.918066e-05</td>\n      <td>0.691431</td>\n      <td>0.231714</td>\n      <td>0.616640</td>\n      <td>0.266235</td>\n      <td>42</td>\n      <td>Bradley-Terry</td>\n      <td>1.314433e-03</td>\n      <td>True</td>\n    </tr>\n    <tr>\n      <th>26</th>\n      <td>Random</td>\n      <td>0.60</td>\n      <td>1.731293e-05</td>\n      <td>0.691431</td>\n      <td>0.231714</td>\n      <td>0.612793</td>\n      <td>0.241249</td>\n      <td>42</td>\n      <td>Bradley-Terry</td>\n      <td>3.289457e-04</td>\n      <td>True</td>\n    </tr>\n    <tr>\n      <th>27</th>\n      <td>Random</td>\n      <td>0.55</td>\n      <td>1.763532e-05</td>\n      <td>0.691431</td>\n      <td>0.231714</td>\n      <td>0.608830</td>\n      <td>0.248212</td>\n      <td>42</td>\n      <td>Bradley-Terry</td>\n      <td>3.350712e-04</td>\n      <td>True</td>\n    </tr>\n    <tr>\n      <th>28</th>\n      <td>Random</td>\n      <td>0.50</td>\n      <td>1.006611e-05</td>\n      <td>0.691431</td>\n      <td>0.231714</td>\n      <td>0.604001</td>\n      <td>0.250640</td>\n      <td>42</td>\n      <td>Bradley-Terry</td>\n      <td>1.912561e-04</td>\n      <td>True</td>\n    </tr>\n    <tr>\n      <th>29</th>\n      <td>Random</td>\n      <td>0.45</td>\n      <td>1.635617e-07</td>\n      <td>0.691431</td>\n      <td>0.231714</td>\n      <td>0.580944</td>\n      <td>0.248943</td>\n      <td>42</td>\n      <td>Bradley-Terry</td>\n      <td>3.107673e-06</td>\n      <td>True</td>\n    </tr>\n    <tr>\n      <th>30</th>\n      <td>Random</td>\n      <td>0.40</td>\n      <td>3.248161e-05</td>\n      <td>0.691431</td>\n      <td>0.231714</td>\n      <td>0.593897</td>\n      <td>0.257345</td>\n      <td>42</td>\n      <td>Bradley-Terry</td>\n      <td>6.171505e-04</td>\n      <td>True</td>\n    </tr>\n    <tr>\n      <th>31</th>\n      <td>Random</td>\n      <td>0.35</td>\n      <td>6.273507e-06</td>\n      <td>0.691431</td>\n      <td>0.231714</td>\n      <td>0.578393</td>\n      <td>0.250363</td>\n      <td>42</td>\n      <td>Bradley-Terry</td>\n      <td>1.191966e-04</td>\n      <td>True</td>\n    </tr>\n    <tr>\n      <th>32</th>\n      <td>Random</td>\n      <td>0.30</td>\n      <td>2.036580e-07</td>\n      <td>0.691431</td>\n      <td>0.231714</td>\n      <td>0.554697</td>\n      <td>0.248919</td>\n      <td>42</td>\n      <td>Bradley-Terry</td>\n      <td>3.869501e-06</td>\n      <td>True</td>\n    </tr>\n    <tr>\n      <th>33</th>\n      <td>Random</td>\n      <td>0.25</td>\n      <td>1.237845e-09</td>\n      <td>0.691431</td>\n      <td>0.231714</td>\n      <td>0.545084</td>\n      <td>0.235533</td>\n      <td>42</td>\n      <td>Bradley-Terry</td>\n      <td>2.351905e-08</td>\n      <td>True</td>\n    </tr>\n    <tr>\n      <th>34</th>\n      <td>Random</td>\n      <td>0.20</td>\n      <td>2.236413e-10</td>\n      <td>0.691431</td>\n      <td>0.231714</td>\n      <td>0.506361</td>\n      <td>0.252252</td>\n      <td>42</td>\n      <td>Bradley-Terry</td>\n      <td>4.249185e-09</td>\n      <td>True</td>\n    </tr>\n    <tr>\n      <th>35</th>\n      <td>Random</td>\n      <td>0.15</td>\n      <td>7.624540e-09</td>\n      <td>0.691431</td>\n      <td>0.231714</td>\n      <td>0.524525</td>\n      <td>0.277922</td>\n      <td>42</td>\n      <td>Bradley-Terry</td>\n      <td>1.448663e-07</td>\n      <td>True</td>\n    </tr>\n    <tr>\n      <th>36</th>\n      <td>Random</td>\n      <td>0.10</td>\n      <td>6.952326e-08</td>\n      <td>0.691431</td>\n      <td>0.231714</td>\n      <td>0.508560</td>\n      <td>0.259361</td>\n      <td>42</td>\n      <td>Bradley-Terry</td>\n      <td>1.320942e-06</td>\n      <td>True</td>\n    </tr>\n    <tr>\n      <th>37</th>\n      <td>Random</td>\n      <td>0.05</td>\n      <td>6.017615e-11</td>\n      <td>0.691431</td>\n      <td>0.231714</td>\n      <td>0.437431</td>\n      <td>0.255402</td>\n      <td>42</td>\n      <td>Bradley-Terry</td>\n      <td>1.143347e-09</td>\n      <td>True</td>\n    </tr>\n  </tbody>\n</table>\n</div>"
     },
     "execution_count": 10,
     "metadata": {},
     "output_type": "execute_result"
    }
   ],
   "source": [
    "(\n",
    "\tdf\n",
    "\t.loc[\n",
    "\t\t(df.aggregator == \"Bradley-Terry\") &\n",
    "        (df.sampler == \"Random\")\n",
    "\t]\n",
    ")"
   ],
   "metadata": {
    "collapsed": false,
    "pycharm": {
     "name": "#%%\n"
    }
   }
  },
  {
   "cell_type": "code",
   "execution_count": 13,
   "outputs": [
    {
     "data": {
      "text/plain": "sampler            Optimized         Random     Structured\naggregator                                                \nAdditive       0.25 (-0.021)  0.85 (-0.017)  0.95 (-0.004)\nBradley-Terry  0.35 (-0.011)            NaN  0.85 (-0.014)\nGreedy          0.2 (-0.018)   0.7 (-0.013)  0.45 (-0.018)\nPageRank        0.3 (-0.016)  0.75 (-0.016)  0.85 (-0.022)",
      "text/html": "<div>\n<style scoped>\n    .dataframe tbody tr th:only-of-type {\n        vertical-align: middle;\n    }\n\n    .dataframe tbody tr th {\n        vertical-align: top;\n    }\n\n    .dataframe thead th {\n        text-align: right;\n    }\n</style>\n<table border=\"1\" class=\"dataframe\">\n  <thead>\n    <tr style=\"text-align: right;\">\n      <th>sampler</th>\n      <th>Optimized</th>\n      <th>Random</th>\n      <th>Structured</th>\n    </tr>\n    <tr>\n      <th>aggregator</th>\n      <th></th>\n      <th></th>\n      <th></th>\n    </tr>\n  </thead>\n  <tbody>\n    <tr>\n      <th>Additive</th>\n      <td>0.25 (-0.021)</td>\n      <td>0.85 (-0.017)</td>\n      <td>0.95 (-0.004)</td>\n    </tr>\n    <tr>\n      <th>Bradley-Terry</th>\n      <td>0.35 (-0.011)</td>\n      <td>NaN</td>\n      <td>0.85 (-0.014)</td>\n    </tr>\n    <tr>\n      <th>Greedy</th>\n      <td>0.2 (-0.018)</td>\n      <td>0.7 (-0.013)</td>\n      <td>0.45 (-0.018)</td>\n    </tr>\n    <tr>\n      <th>PageRank</th>\n      <td>0.3 (-0.016)</td>\n      <td>0.75 (-0.016)</td>\n      <td>0.85 (-0.022)</td>\n    </tr>\n  </tbody>\n</table>\n</div>"
     },
     "execution_count": 13,
     "metadata": {},
     "output_type": "execute_result"
    }
   ],
   "source": [
    "(\n",
    "\tdf\n",
    "\t.assign(diff=lambda df: df[\"ndcg_sampled\"] - df[\"ndcg_full\"])\n",
    "\t.loc[df.accepted == False]\n",
    "\t.sort_values([\"sampler\", \"aggregator\", \"sample_rate\"], ascending=True)\n",
    "\t.groupby([\"sampler\", \"aggregator\"])\n",
    "\t.head(1)\n",
    "\t.dropna()\n",
    "\t.round(3)\n",
    "\t.assign(value=lambda df: (df[\"sample_rate\"] + 0.05).round(2).astype(str) + \" (\" + df[\"diff\"].astype(str) + \")\")\n",
    "\t.pivot(\n",
    "\t\t\"aggregator\",\n",
    "\t\t\"sampler\",\n",
    "\t\t\"value\"\n",
    "\t)\n",
    "\t#.to_latex()\n",
    ")"
   ],
   "metadata": {
    "collapsed": false,
    "pycharm": {
     "name": "#%%\n"
    }
   }
  },
  {
   "cell_type": "code",
   "execution_count": 30,
   "outputs": [
    {
     "data": {
      "text/plain": "95"
     },
     "execution_count": 30,
     "metadata": {},
     "output_type": "execute_result"
    }
   ],
   "source": [
    "(\n",
    "\tpd.read_csv(\"../data/processed/runs-sampled/dl-passages-3b/0-50-structured-0.2-additive.txt.gz\", sep=\" \", header=None)\n",
    "\t.rename({\n",
    "\t\t0: \"query\",\n",
    "\t\t1: \"q0\",\n",
    "\t\t2: \"doc\",\n",
    "\t\t3: \"rank\",\n",
    "\t\t4: \"score\",\n",
    "\t\t5: \"tag\"\n",
    "\t}, axis=1)\n",
    "\t.loc[:, \"query\"]\n",
    "\t.nunique()\n",
    ")"
   ],
   "metadata": {
    "collapsed": false,
    "pycharm": {
     "name": "#%%\n"
    }
   }
  },
  {
   "cell_type": "code",
   "execution_count": null,
   "outputs": [],
   "source": [],
   "metadata": {
    "collapsed": false,
    "pycharm": {
     "name": "#%%\n"
    }
   }
  }
 ],
 "metadata": {
  "kernelspec": {
   "display_name": "Python 3",
   "language": "python",
   "name": "python3"
  },
  "language_info": {
   "codemirror_mode": {
    "name": "ipython",
    "version": 2
   },
   "file_extension": ".py",
   "mimetype": "text/x-python",
   "name": "python",
   "nbconvert_exporter": "python",
   "pygments_lexer": "ipython2",
   "version": "2.7.6"
  }
 },
 "nbformat": 4,
 "nbformat_minor": 0
}