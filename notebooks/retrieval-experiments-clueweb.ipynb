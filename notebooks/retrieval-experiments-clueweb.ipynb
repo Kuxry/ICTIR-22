{
 "cells": [
  {
   "cell_type": "code",
   "execution_count": 2,
   "id": "9b86bfbd",
   "metadata": {
    "pycharm": {
     "name": "#%%\n"
    }
   },
   "outputs": [],
   "source": [
    "#!nosetests ../tests\n",
    "\n",
    "import sys\n",
    "from trectools import TrecQrel\n",
    "sys.path.insert(0, \"../src\")\n",
    "import pyterrier as pt\n",
    "import pandas as pd\n",
    "from pyterrier_t5 import MonoT5ReRanker, DuoT5ReRanker\n",
    "from retrieval_pipelines.FileSystemCache import FileSystemCache\n",
    "from retrieval_pipelines.DuoT5ReRankerWithCache import DuoT5ReRankerWithCache\n",
    "from sampling.samplers import PairwiseFullSampler, PairwiseRandomSampler, PairwiseGroupedSampler\n",
    "from aggregation import BradleyTerryAggregator, KwikSortAggregator, AdditiveAggregator\n",
    "\n",
    "DIR = '/mnt/ceph/storage/data-in-progress/data-research/web-search/SIGIR-22/sigir22-pairwise-ranking/'\n",
    "\n",
    "if not pt.started():\n",
    "    pt.init()\n",
    "\n",
    "QRELS = {\n",
    "    'cw09': {i: TrecQrel('../data/external/qrels/qrels.web.' + i + '.txt') for i in ['1-50', '51-100', '101-150', '151-200']},\n",
    "    'cw12': {i: TrecQrel('../data/external/qrels/qrels.web.' + i + '.txt') for i in ['201-250', '251-300']}\n",
    "}\n",
    "\n",
    "CW09_INDEX = pt.IndexRef.of(DIR + '/indexes/pt-cw09-first-passage/data.properties')\n",
    "CW12_INDEX = pt.IndexRef.of(DIR + '/indexes/pt-cw12-first-passage/data.properties')"
   ]
  },
  {
   "cell_type": "code",
   "execution_count": 3,
   "id": "ab679b2d",
   "metadata": {
    "pycharm": {
     "name": "#%%\n"
    }
   },
   "outputs": [],
   "source": [
    "def qrels(crawl):\n",
    "    ret = []\n",
    "    for i in QRELS[crawl]:\n",
    "        ret += [QRELS[crawl][i].qrels_data.copy()]\n",
    "    \n",
    "    ret = pd.concat(ret)\n",
    "    del ret['q0']\n",
    "    ret = ret.rename(columns={'query': 'qid','docid': 'docno', 'rel': 'label'})\n",
    "    ret['qid'] = ret['qid'].astype(str)\n",
    "    ret['label'] = ret['label'].astype(int)\n",
    "    return ret\n",
    "\n",
    "TOPICS_CACHE = {}\n",
    "\n",
    "def topics(crawl):\n",
    "    if crawl in TOPICS_CACHE:\n",
    "        return TOPICS_CACHE[crawl]\n",
    "    \n",
    "    ret = []\n",
    "    if crawl == 'cw09':\n",
    "        for i in ['irds:clueweb09/en/trec-web-2009', 'irds:clueweb09/en/trec-web-2010', 'irds:clueweb09/en/trec-web-2011', 'irds:clueweb09/en/trec-web-2012']:\n",
    "            ret += [pt.get_dataset(i).get_topics('query').copy()]\n",
    "    elif crawl == 'cw12':\n",
    "        for i in ['irds:clueweb12/trec-web-2013', 'irds:clueweb12/trec-web-2014']:\n",
    "            ret += [pt.get_dataset(i).get_topics('query').copy()]\n",
    "    \n",
    "    TOPICS_CACHE[crawl] = pd.concat(ret)\n",
    "    TOPICS_CACHE[crawl]['qid'] = TOPICS_CACHE[crawl]['qid'].astype(str)\n",
    "    TOPICS_CACHE[crawl]['query'] = TOPICS_CACHE[crawl]['query'].astype(str)\n",
    "    return TOPICS_CACHE[crawl]\n",
    "\n",
    "def load_run(crawl, name):\n",
    "    from pyterrier.transformer import get_transformer\n",
    "    return get_transformer(pt.io.read_results(DIR + '/run-files/' + crawl + '/' + name + '-run.txt'))\n",
    "\n",
    "def persist_run_file(topics, crawl, name, method):\n",
    "    ret = method(topics)\n",
    "    out_dir = DIR + '/run-files/' + crawl + '/'\n",
    "    !mkdir -p {out_dir}\n",
    "    \n",
    "    pt.io.write_results(ret, out_dir + name + '-run.txt')\n",
    "    \n",
    "def mono_t5(model):\n",
    "    return MonoT5ReRanker(\n",
    "        tok_model='t5-' + model,\n",
    "        model='castorini/monot5-' + model + '-msmarco',\n",
    "        batch_size=32)\n",
    "\n",
    "def duo_t5(model, sampler, crawl, aggregator, batch_size=32):\n",
    "    return DuoT5ReRankerWithCache(\n",
    "        tok_model='t5-' + model,\n",
    "        model='castorini/duot5-' + model + '-msmarco',\n",
    "        batch_size=batch_size,\n",
    "        cache=FileSystemCache(DIR + 'pairwise-cache/' + crawl + '/castorini-duot5-' + model + '-msmarco'),\n",
    "        sampler=sampler,\n",
    "        aggregator=aggregator,\n",
    "    )\n",
    "\n",
    "def max_passage_transformer(file_name):\n",
    "    from pyterrier.model import add_ranks\n",
    "    from pyterrier.transformer import get_transformer\n",
    "\n",
    "    def tmp(i):\n",
    "        assert len(i.qid.unique()) == 1\n",
    "        assert len(i.docno.unique()) == 1\n",
    "        i = i.sort_values('score', ascending=False).iloc[0]\n",
    "    \n",
    "        return pd.Series({'text': i['text'], 'score': i['score']})\n",
    "\n",
    "    ret = pd.read_json(file_name, lines=True)\n",
    "    ret['docno'] = ret['docno'].apply(lambda i: i.split('___')[0])\n",
    "    \n",
    "    ret = ret.groupby(['qid', 'query', 'docno']).apply(tmp).reset_index()\n",
    "    ret['qid'] = ret['qid'].astype(str)\n",
    "    \n",
    "    return get_transformer(add_ranks(ret))\n",
    "\n",
    "#inverse_relevancy = load_run('cw09_first_passage', 'all-judged-inverse')\n",
    "#mono_t5_3b = inverse_relevancy >> pt.text.get_text(CW09_INDEX, \"text\") >> mono_t5('3b')\n",
    "#mono_t5_base = inverse_relevancy >> pt.text.get_text(CW09_INDEX, \"text\") >> mono_t5('base')\n",
    "#duo_t5_3b = inverse_relevancy >> pt.text.get_text(CW09_INDEX, \"text\") >> duo_t5('3b', PairwiseFullSampler(), 'cw09_first_passage', AdditiveAggregator())\n",
    "#duo_t5_base = inverse_relevancy >> pt.text.get_text(CW09_INDEX, \"text\") >> duo_t5('base', PairwiseFullSampler(), 'cw09_first_passage', AdditiveAggregator())\n",
    "#duo_t5_top_10_3b = load_run('cw09_first_passage', 'mono_t5_3b') %10 >> pt.text.get_text(CW09_INDEX, \"text\") >> duo_t5('3b', PairwiseFullSampler(), 'cw09_first_passage', AdditiveAggregator())\n",
    "#duo_t5_top_20_3b = load_run('cw09_first_passage', 'mono_t5_3b') %20 >> pt.text.get_text(CW09_INDEX, \"text\") >> duo_t5('3b', PairwiseFullSampler(), 'cw09_first_passage', AdditiveAggregator())\n",
    "#duo_t5_top_50_3b = load_run('cw09_first_passage', 'mono_t5_3b') %50 >> pt.text.get_text(CW09_INDEX, \"text\") >> duo_t5('3b', PairwiseFullSampler(), 'cw09_first_passage', AdditiveAggregator())"
   ]
  },
  {
   "cell_type": "code",
   "execution_count": 3,
   "id": "0e85d5cb",
   "metadata": {
    "pycharm": {
     "name": "#%%\n"
    }
   },
   "outputs": [
    {
     "name": "stderr",
     "output_type": "stream",
     "text": [
      "/opt/conda/lib/python3.8/site-packages/pyterrier/datasets.py:430: FutureWarning: In a future version of pandas all arguments of DataFrame.drop except for the argument 'labels' will be keyword-only\n",
      "  df.drop(df.columns.difference(['qid','query']), 1, inplace=True)\n",
      "duoT5: 100%|███████████████████████████████████████████████████████████████████████████████████████████████| 100/100 [01:43<00:00,  1.03s/queries]\n",
      "duoT5: 100%|███████████████████████████████████████████████████████████████████████████████████████████████| 100/100 [01:42<00:00,  1.03s/queries]\n"
     ]
    },
    {
     "name": "stdout",
     "output_type": "stream",
     "text": [
      "CPU times: user 3min 54s, sys: 12.1 s, total: 4min 6s\n",
      "Wall time: 5min 8s\n"
     ]
    }
   ],
   "source": [
    "%%time\n",
    "duo_t5_top_40_3b = load_run('cw12_first_passage', 'mono_t5_3b') %40 >> pt.text.get_text(CW12_INDEX, \"text\") >> duo_t5('3b', PairwiseFullSampler(), 'cw12_first_passage', AdditiveAggregator(), 4)\n",
    "\n",
    "persist_run_file(topics('cw12'), 'cw12_first_passage', 'duo_t5_top_40_3b', duo_t5_top_40_3b)"
   ]
  },
  {
   "cell_type": "code",
   "execution_count": 5,
   "id": "f4472ceb",
   "metadata": {
    "pycharm": {
     "name": "#%%\n"
    }
   },
   "outputs": [
    {
     "name": "stderr",
     "output_type": "stream",
     "text": [
      "duoT5: 100%|███████████████████████████████████████████████████████████████████████████████████████████████| 100/100 [02:42<00:00,  1.62s/queries]\n",
      "duoT5: 100%|███████████████████████████████████████████████████████████████████████████████████████████████| 100/100 [02:41<00:00,  1.62s/queries]\n"
     ]
    },
    {
     "name": "stdout",
     "output_type": "stream",
     "text": [
      "CPU times: user 5min 51s, sys: 10.9 s, total: 6min 2s\n",
      "Wall time: 6min 3s\n"
     ]
    }
   ],
   "source": [
    "%%time\n",
    "duo_t5_top_50_3b = load_run('cw12_first_passage', 'mono_t5_3b') %50 >> pt.text.get_text(CW12_INDEX, \"text\") >> duo_t5('3b', PairwiseFullSampler(), 'cw12_first_passage', AdditiveAggregator(), 4)\n",
    "\n",
    "persist_run_file(topics('cw12'), 'cw12_first_passage', 'duo_t5_top_50_3b', duo_t5_top_50_3b)"
   ]
  },
  {
   "cell_type": "code",
   "execution_count": 4,
   "id": "28c156e1",
   "metadata": {
    "pycharm": {
     "name": "#%%\n"
    }
   },
   "outputs": [
    {
     "name": "stderr",
     "output_type": "stream",
     "text": [
      "/opt/conda/lib/python3.8/site-packages/pyterrier/datasets.py:430: FutureWarning: In a future version of pandas all arguments of DataFrame.drop except for the argument 'labels' will be keyword-only\n",
      "  df.drop(df.columns.difference(['qid','query']), 1, inplace=True)\n",
      "duoT5: 100%|███████████████████████████████████████████████████████████████████████████████████████████████| 198/198 [05:10<00:00,  1.57s/queries]\n",
      "duoT5: 100%|███████████████████████████████████████████████████████████████████████████████████████████████| 198/198 [05:07<00:00,  1.55s/queries]\n"
     ]
    },
    {
     "name": "stdout",
     "output_type": "stream",
     "text": [
      "CPU times: user 10min 56s, sys: 18.4 s, total: 11min 15s\n",
      "Wall time: 11min 36s\n"
     ]
    }
   ],
   "source": [
    "%%time\n",
    "duo_t5_top_50_3b = load_run('cw09_first_passage', 'mono_t5_3b') %50 >> pt.text.get_text(CW09_INDEX, \"text\") >> duo_t5('3b', PairwiseFullSampler(), 'cw09_first_passage', AdditiveAggregator(), 4)\n",
    "\n",
    "persist_run_file(topics('cw09'), 'cw09_first_passage', 'duo_t5_top_50_3b', duo_t5_top_50_3b)"
   ]
  },
  {
   "cell_type": "code",
   "execution_count": null,
   "id": "7d72db2e",
   "metadata": {
    "pycharm": {
     "name": "#%%\n"
    }
   },
   "outputs": [],
   "source": [
    "%%time\n",
    "persist_run_file(topics('cw09'), 'cw09_first_passage', 'duo_t5_top_10_3b', duo_t5_top_10_3b)"
   ]
  },
  {
   "cell_type": "code",
   "execution_count": 4,
   "id": "f8da66fa",
   "metadata": {
    "pycharm": {
     "name": "#%%\n"
    }
   },
   "outputs": [
    {
     "name": "stderr",
     "output_type": "stream",
     "text": [
      "duoT5: 100%|███████████████████████████████████████████████████████████████████████████████████████████████| 198/198 [00:25<00:00,  7.91queries/s]\n",
      "duoT5: 100%|███████████████████████████████████████████████████████████████████████████████████████████████| 198/198 [00:25<00:00,  7.90queries/s]\n"
     ]
    },
    {
     "name": "stdout",
     "output_type": "stream",
     "text": [
      "CPU times: user 51.9 s, sys: 555 ms, total: 52.5 s\n",
      "Wall time: 52.1 s\n"
     ]
    }
   ],
   "source": [
    "%%time\n",
    "persist_run_file(topics('cw09'), 'cw09_first_passage', 'duo_t5_top_20_3b', duo_t5_top_20_3b)"
   ]
  },
  {
   "cell_type": "code",
   "execution_count": 4,
   "id": "4eb661da",
   "metadata": {
    "pycharm": {
     "name": "#%%\n"
    }
   },
   "outputs": [
    {
     "name": "stderr",
     "output_type": "stream",
     "text": [
      "duoT5: 100%|███████████████████████████████████████████████████████████████████████████████████████████████| 198/198 [02:37<00:00,  1.26queries/s]\n",
      "duoT5: 100%|███████████████████████████████████████████████████████████████████████████████████████████████| 198/198 [02:37<00:00,  1.26queries/s]\n"
     ]
    },
    {
     "name": "stdout",
     "output_type": "stream",
     "text": [
      "CPU times: user 5min 23s, sys: 3.37 s, total: 5min 27s\n",
      "Wall time: 5min 24s\n"
     ]
    }
   ],
   "source": [
    "%%time\n",
    "persist_run_file(topics('cw09'), 'cw09_first_passage', 'duo_t5_top_50_3b', duo_t5_top_50_3b)"
   ]
  },
  {
   "cell_type": "code",
   "execution_count": null,
   "id": "0170b6a1",
   "metadata": {
    "pycharm": {
     "name": "#%%\n"
    }
   },
   "outputs": [
    {
     "name": "stderr",
     "output_type": "stream",
     "text": [
      "/opt/conda/lib/python3.8/site-packages/pyterrier/datasets.py:430: FutureWarning: In a future version of pandas all arguments of DataFrame.drop except for the argument 'labels' will be keyword-only\n",
      "  df.drop(df.columns.difference(['qid','query']), 1, inplace=True)\n",
      "duoT5:  37%|███████████████████████████████████▏                                                          | 74/198 [53:02<1:22:57, 40.14s/queries]Token indices sequence length is longer than the specified maximum sequence length for this model (842 > 512). Running this sequence through the model will result in indexing errors\n",
      "duoT5:  78%|███████████████████████████████████████████████████████████████████▋                   | 154/198 [11:15:43<14:20:29, 1173.39s/queries]"
     ]
    }
   ],
   "source": [
    "%%time\n",
    "persist_run_file(topics('cw09'), 'cw09_first_passage', 'duo_t5_base', duo_t5_base)"
   ]
  },
  {
   "cell_type": "code",
   "execution_count": 29,
   "id": "e1fdd24e",
   "metadata": {
    "pycharm": {
     "name": "#%%\n"
    }
   },
   "outputs": [
    {
     "name": "stderr",
     "output_type": "stream",
     "text": [
      "/opt/conda/lib/python3.8/site-packages/pyterrier/datasets.py:430: FutureWarning: In a future version of pandas all arguments of DataFrame.drop except for the argument 'labels' will be keyword-only\n",
      "  df.drop(df.columns.difference(['qid','query']), 1, inplace=True)\n",
      "monoT5:   0%|                                                                                                       | 0/2206 [00:00<?, ?batches/s]Token indices sequence length is longer than the specified maximum sequence length for this model (636 > 512). Running this sequence through the model will result in indexing errors\n",
      "monoT5: 100%|████████████████████████████████████████████████████████████████████████████████████████████| 2206/2206 [30:05<00:00,  1.22batches/s]\n"
     ]
    },
    {
     "name": "stdout",
     "output_type": "stream",
     "text": [
      "CPU times: user 30min 5s, sys: 5.68 s, total: 30min 11s\n",
      "Wall time: 30min 11s\n"
     ]
    }
   ],
   "source": [
    "%%time\n",
    "persist_run_file(topics('cw09'), 'cw09_first_passage', 'mono_t5_3b', mono_t5_3b)"
   ]
  },
  {
   "cell_type": "code",
   "execution_count": 39,
   "id": "d7e5e856",
   "metadata": {
    "pycharm": {
     "name": "#%%\n"
    }
   },
   "outputs": [
    {
     "name": "stderr",
     "output_type": "stream",
     "text": [
      "monoT5:   0%|                                                                                                       | 0/2206 [00:00<?, ?batches/s]Token indices sequence length is longer than the specified maximum sequence length for this model (636 > 512). Running this sequence through the model will result in indexing errors\n",
      "monoT5: 100%|████████████████████████████████████████████████████████████████████████████████████████████| 2206/2206 [04:34<00:00,  8.03batches/s]\n"
     ]
    },
    {
     "name": "stdout",
     "output_type": "stream",
     "text": [
      "CPU times: user 4min 38s, sys: 2.78 s, total: 4min 41s\n",
      "Wall time: 4min 40s\n"
     ]
    }
   ],
   "source": [
    "%%time\n",
    "persist_run_file(topics('cw09'), 'cw09_first_passage', 'mono_t5_base', mono_t5_base)"
   ]
  },
  {
   "cell_type": "code",
   "execution_count": 40,
   "id": "091240f0",
   "metadata": {
    "pycharm": {
     "name": "#%%\n"
    }
   },
   "outputs": [
    {
     "data": {
      "text/html": [
       "<div>\n",
       "<style scoped>\n",
       "    .dataframe tbody tr th:only-of-type {\n",
       "        vertical-align: middle;\n",
       "    }\n",
       "\n",
       "    .dataframe tbody tr th {\n",
       "        vertical-align: top;\n",
       "    }\n",
       "\n",
       "    .dataframe thead th {\n",
       "        text-align: right;\n",
       "    }\n",
       "</style>\n",
       "<table border=\"1\" class=\"dataframe\">\n",
       "  <thead>\n",
       "    <tr style=\"text-align: right;\">\n",
       "      <th></th>\n",
       "      <th>name</th>\n",
       "      <th>ndcg_cut_10</th>\n",
       "      <th>ndcg_cut_20</th>\n",
       "      <th>recip_rank</th>\n",
       "    </tr>\n",
       "  </thead>\n",
       "  <tbody>\n",
       "    <tr>\n",
       "      <th>0</th>\n",
       "      <td>InversedRelevancy</td>\n",
       "      <td>0.000000</td>\n",
       "      <td>0.000000</td>\n",
       "      <td>0.004423</td>\n",
       "    </tr>\n",
       "    <tr>\n",
       "      <th>1</th>\n",
       "      <td>MonoT53b</td>\n",
       "      <td>0.335950</td>\n",
       "      <td>0.367517</td>\n",
       "      <td>0.569015</td>\n",
       "    </tr>\n",
       "    <tr>\n",
       "      <th>2</th>\n",
       "      <td>MonoT5base</td>\n",
       "      <td>0.321444</td>\n",
       "      <td>0.344194</td>\n",
       "      <td>0.569906</td>\n",
       "    </tr>\n",
       "  </tbody>\n",
       "</table>\n",
       "</div>"
      ],
      "text/plain": [
       "                name  ndcg_cut_10  ndcg_cut_20  recip_rank\n",
       "0  InversedRelevancy     0.000000     0.000000    0.004423\n",
       "1           MonoT53b     0.335950     0.367517    0.569015\n",
       "2         MonoT5base     0.321444     0.344194    0.569906"
      ]
     },
     "execution_count": 40,
     "metadata": {},
     "output_type": "execute_result"
    }
   ],
   "source": [
    "pt.Experiment(\n",
    "    [inverse_relevancy, load_run('cw09_first_passage', 'mono_t5_3b'), load_run('cw09_first_passage', 'mono_t5_base')],\n",
    "    topics('cw09'),\n",
    "    qrels('cw09'),\n",
    "    ['ndcg_cut_10', 'ndcg_cut_20', 'recip_rank'],\n",
    "    ['InversedRelevancy', 'MonoT53b', 'MonoT5base'],\n",
    ")"
   ]
  },
  {
   "cell_type": "markdown",
   "id": "19bcdf0c",
   "metadata": {
    "pycharm": {
     "name": "#%% md\n"
    }
   },
   "source": [
    "# Experiments on CW12"
   ]
  },
  {
   "cell_type": "code",
   "execution_count": 44,
   "id": "21d2f5a9",
   "metadata": {
    "pycharm": {
     "name": "#%%\n"
    }
   },
   "outputs": [],
   "source": [
    "inverse_relevancy = load_run('cw12_first_passage', 'all-judged-inverse')\n",
    "mono_t5_3b = inverse_relevancy >> pt.text.get_text(CW12_INDEX, \"text\") >> mono_t5('3b')\n",
    "mono_t5_base = inverse_relevancy >> pt.text.get_text(CW12_INDEX, \"text\") >> mono_t5('base')"
   ]
  },
  {
   "cell_type": "code",
   "execution_count": 45,
   "id": "aa7d23ac",
   "metadata": {
    "pycharm": {
     "name": "#%%\n"
    }
   },
   "outputs": [
    {
     "ename": "JavaException",
     "evalue": "JVM exception occurred: Index -1 out of bounds for length 27966 java.lang.ArrayIndexOutOfBoundsException",
     "output_type": "error",
     "traceback": [
      "\u001B[0;31m---------------------------------------------------------------------------\u001B[0m",
      "\u001B[0;31mJavaException\u001B[0m                             Traceback (most recent call last)",
      "\u001B[0;32m<timed eval>\u001B[0m in \u001B[0;36m<module>\u001B[0;34m\u001B[0m\n",
      "\u001B[0;32m<ipython-input-28-32b472243293>\u001B[0m in \u001B[0;36mpersist_run_file\u001B[0;34m(topics, crawl, name, method)\u001B[0m\n\u001B[1;32m     35\u001B[0m \u001B[0;34m\u001B[0m\u001B[0m\n\u001B[1;32m     36\u001B[0m \u001B[0;32mdef\u001B[0m \u001B[0mpersist_run_file\u001B[0m\u001B[0;34m(\u001B[0m\u001B[0mtopics\u001B[0m\u001B[0;34m,\u001B[0m \u001B[0mcrawl\u001B[0m\u001B[0;34m,\u001B[0m \u001B[0mname\u001B[0m\u001B[0;34m,\u001B[0m \u001B[0mmethod\u001B[0m\u001B[0;34m)\u001B[0m\u001B[0;34m:\u001B[0m\u001B[0;34m\u001B[0m\u001B[0;34m\u001B[0m\u001B[0m\n\u001B[0;32m---> 37\u001B[0;31m     \u001B[0mret\u001B[0m \u001B[0;34m=\u001B[0m \u001B[0mmethod\u001B[0m\u001B[0;34m(\u001B[0m\u001B[0mtopics\u001B[0m\u001B[0;34m)\u001B[0m\u001B[0;34m\u001B[0m\u001B[0;34m\u001B[0m\u001B[0m\n\u001B[0m\u001B[1;32m     38\u001B[0m     \u001B[0mout_dir\u001B[0m \u001B[0;34m=\u001B[0m \u001B[0mDIR\u001B[0m \u001B[0;34m+\u001B[0m \u001B[0;34m'/run-files/'\u001B[0m \u001B[0;34m+\u001B[0m \u001B[0mcrawl\u001B[0m \u001B[0;34m+\u001B[0m \u001B[0;34m'/'\u001B[0m\u001B[0;34m\u001B[0m\u001B[0;34m\u001B[0m\u001B[0m\n\u001B[1;32m     39\u001B[0m     \u001B[0mget_ipython\u001B[0m\u001B[0;34m(\u001B[0m\u001B[0;34m)\u001B[0m\u001B[0;34m.\u001B[0m\u001B[0msystem\u001B[0m\u001B[0;34m(\u001B[0m\u001B[0;34m'mkdir -p {out_dir}'\u001B[0m\u001B[0;34m)\u001B[0m\u001B[0;34m\u001B[0m\u001B[0;34m\u001B[0m\u001B[0m\n",
      "\u001B[0;32m/opt/conda/lib/python3.8/site-packages/pyterrier/transformer.py\u001B[0m in \u001B[0;36m__call__\u001B[0;34m(self, *args, **kwargs)\u001B[0m\n\u001B[1;32m    244\u001B[0m             \u001B[0mSets\u001B[0m \u001B[0mup\u001B[0m \u001B[0ma\u001B[0m \u001B[0mdefault\u001B[0m \u001B[0mmethod\u001B[0m \u001B[0;32mfor\u001B[0m \u001B[0mevery\u001B[0m \u001B[0mtransformer\u001B[0m\u001B[0;34m,\u001B[0m \u001B[0mwhich\u001B[0m \u001B[0;32mis\u001B[0m \u001B[0maliased\u001B[0m \u001B[0mto\u001B[0m \u001B[0mtransform\u001B[0m\u001B[0;34m(\u001B[0m\u001B[0;34m)\u001B[0m\u001B[0;34m.\u001B[0m\u001B[0;34m\u001B[0m\u001B[0;34m\u001B[0m\u001B[0m\n\u001B[1;32m    245\u001B[0m         \"\"\"\n\u001B[0;32m--> 246\u001B[0;31m         \u001B[0;32mreturn\u001B[0m \u001B[0mself\u001B[0m\u001B[0;34m.\u001B[0m\u001B[0mtransform\u001B[0m\u001B[0;34m(\u001B[0m\u001B[0;34m*\u001B[0m\u001B[0margs\u001B[0m\u001B[0;34m,\u001B[0m \u001B[0;34m**\u001B[0m\u001B[0mkwargs\u001B[0m\u001B[0;34m)\u001B[0m\u001B[0;34m\u001B[0m\u001B[0;34m\u001B[0m\u001B[0m\n\u001B[0m\u001B[1;32m    247\u001B[0m \u001B[0;34m\u001B[0m\u001B[0m\n\u001B[1;32m    248\u001B[0m     \u001B[0;32mdef\u001B[0m \u001B[0m__rshift__\u001B[0m\u001B[0;34m(\u001B[0m\u001B[0mself\u001B[0m\u001B[0;34m,\u001B[0m \u001B[0mright\u001B[0m\u001B[0;34m)\u001B[0m\u001B[0;34m:\u001B[0m\u001B[0;34m\u001B[0m\u001B[0;34m\u001B[0m\u001B[0m\n",
      "\u001B[0;32m/opt/conda/lib/python3.8/site-packages/pyterrier/transformer.py\u001B[0m in \u001B[0;36mtransform\u001B[0;34m(self, topics)\u001B[0m\n\u001B[1;32m    843\u001B[0m     \u001B[0;32mdef\u001B[0m \u001B[0mtransform\u001B[0m\u001B[0;34m(\u001B[0m\u001B[0mself\u001B[0m\u001B[0;34m,\u001B[0m \u001B[0mtopics\u001B[0m\u001B[0;34m)\u001B[0m\u001B[0;34m:\u001B[0m\u001B[0;34m\u001B[0m\u001B[0;34m\u001B[0m\u001B[0m\n\u001B[1;32m    844\u001B[0m         \u001B[0;32mfor\u001B[0m \u001B[0mm\u001B[0m \u001B[0;32min\u001B[0m \u001B[0mself\u001B[0m\u001B[0;34m.\u001B[0m\u001B[0mmodels\u001B[0m\u001B[0;34m:\u001B[0m\u001B[0;34m\u001B[0m\u001B[0;34m\u001B[0m\u001B[0m\n\u001B[0;32m--> 845\u001B[0;31m             \u001B[0mtopics\u001B[0m \u001B[0;34m=\u001B[0m \u001B[0mm\u001B[0m\u001B[0;34m.\u001B[0m\u001B[0mtransform\u001B[0m\u001B[0;34m(\u001B[0m\u001B[0mtopics\u001B[0m\u001B[0;34m)\u001B[0m\u001B[0;34m\u001B[0m\u001B[0;34m\u001B[0m\u001B[0m\n\u001B[0m\u001B[1;32m    846\u001B[0m         \u001B[0;32mreturn\u001B[0m \u001B[0mtopics\u001B[0m\u001B[0;34m\u001B[0m\u001B[0;34m\u001B[0m\u001B[0m\n\u001B[1;32m    847\u001B[0m \u001B[0;34m\u001B[0m\u001B[0m\n",
      "\u001B[0;32m/opt/conda/lib/python3.8/site-packages/pyterrier/transformer.py\u001B[0m in \u001B[0;36mtransform\u001B[0;34m(self, topics)\u001B[0m\n\u001B[1;32m    843\u001B[0m     \u001B[0;32mdef\u001B[0m \u001B[0mtransform\u001B[0m\u001B[0;34m(\u001B[0m\u001B[0mself\u001B[0m\u001B[0;34m,\u001B[0m \u001B[0mtopics\u001B[0m\u001B[0;34m)\u001B[0m\u001B[0;34m:\u001B[0m\u001B[0;34m\u001B[0m\u001B[0;34m\u001B[0m\u001B[0m\n\u001B[1;32m    844\u001B[0m         \u001B[0;32mfor\u001B[0m \u001B[0mm\u001B[0m \u001B[0;32min\u001B[0m \u001B[0mself\u001B[0m\u001B[0;34m.\u001B[0m\u001B[0mmodels\u001B[0m\u001B[0;34m:\u001B[0m\u001B[0;34m\u001B[0m\u001B[0;34m\u001B[0m\u001B[0m\n\u001B[0;32m--> 845\u001B[0;31m             \u001B[0mtopics\u001B[0m \u001B[0;34m=\u001B[0m \u001B[0mm\u001B[0m\u001B[0;34m.\u001B[0m\u001B[0mtransform\u001B[0m\u001B[0;34m(\u001B[0m\u001B[0mtopics\u001B[0m\u001B[0;34m)\u001B[0m\u001B[0;34m\u001B[0m\u001B[0;34m\u001B[0m\u001B[0m\n\u001B[0m\u001B[1;32m    846\u001B[0m         \u001B[0;32mreturn\u001B[0m \u001B[0mtopics\u001B[0m\u001B[0;34m\u001B[0m\u001B[0;34m\u001B[0m\u001B[0m\n\u001B[1;32m    847\u001B[0m \u001B[0;34m\u001B[0m\u001B[0m\n",
      "\u001B[0;32m/opt/conda/lib/python3.8/site-packages/pyterrier/transformer.py\u001B[0m in \u001B[0;36mtransform\u001B[0;34m(self, inputRes)\u001B[0m\n\u001B[1;32m    709\u001B[0m     \u001B[0;32mdef\u001B[0m \u001B[0mtransform\u001B[0m\u001B[0;34m(\u001B[0m\u001B[0mself\u001B[0m\u001B[0;34m,\u001B[0m \u001B[0minputRes\u001B[0m\u001B[0;34m)\u001B[0m\u001B[0;34m:\u001B[0m\u001B[0;34m\u001B[0m\u001B[0;34m\u001B[0m\u001B[0m\n\u001B[1;32m    710\u001B[0m         \u001B[0mfn\u001B[0m \u001B[0;34m=\u001B[0m \u001B[0mself\u001B[0m\u001B[0;34m.\u001B[0m\u001B[0mfn\u001B[0m\u001B[0;34m\u001B[0m\u001B[0;34m\u001B[0m\u001B[0m\n\u001B[0;32m--> 711\u001B[0;31m         \u001B[0;32mreturn\u001B[0m \u001B[0mfn\u001B[0m\u001B[0;34m(\u001B[0m\u001B[0minputRes\u001B[0m\u001B[0;34m)\u001B[0m\u001B[0;34m\u001B[0m\u001B[0;34m\u001B[0m\u001B[0m\n\u001B[0m\u001B[1;32m    712\u001B[0m \u001B[0;34m\u001B[0m\u001B[0m\n\u001B[1;32m    713\u001B[0m @deprecation.deprecated(deprecated_in=\"0.3.0\",\n",
      "\u001B[0;32m/opt/conda/lib/python3.8/site-packages/pyterrier/text.py\u001B[0m in \u001B[0;36madd_text_generic\u001B[0;34m(res)\u001B[0m\n\u001B[1;32m     88\u001B[0m             \u001B[0;32massert\u001B[0m \u001B[0;34m\"docno\"\u001B[0m \u001B[0;32min\u001B[0m \u001B[0mres\u001B[0m\u001B[0;34m.\u001B[0m\u001B[0mcolumns\u001B[0m\u001B[0;34m,\u001B[0m \u001B[0;34m\"Neither docid nor docno are in the input dataframe, found %s\"\u001B[0m \u001B[0;34m%\u001B[0m \u001B[0;34m(\u001B[0m\u001B[0mstr\u001B[0m\u001B[0;34m(\u001B[0m\u001B[0mres\u001B[0m\u001B[0;34m.\u001B[0m\u001B[0mcolumns\u001B[0m\u001B[0;34m)\u001B[0m\u001B[0;34m)\u001B[0m\u001B[0;34m\u001B[0m\u001B[0;34m\u001B[0m\u001B[0m\n\u001B[1;32m     89\u001B[0m             \u001B[0mres\u001B[0m \u001B[0;34m=\u001B[0m \u001B[0madd_docids\u001B[0m\u001B[0;34m(\u001B[0m\u001B[0mres\u001B[0m\u001B[0;34m)\u001B[0m\u001B[0;34m\u001B[0m\u001B[0;34m\u001B[0m\u001B[0m\n\u001B[0;32m---> 90\u001B[0;31m         \u001B[0;32mreturn\u001B[0m \u001B[0madd_text_function_docids\u001B[0m\u001B[0;34m(\u001B[0m\u001B[0mres\u001B[0m\u001B[0;34m)\u001B[0m\u001B[0;34m\u001B[0m\u001B[0;34m\u001B[0m\u001B[0m\n\u001B[0m\u001B[1;32m     91\u001B[0m \u001B[0;34m\u001B[0m\u001B[0m\n\u001B[1;32m     92\u001B[0m     \u001B[0;32mreturn\u001B[0m \u001B[0madd_text_generic\u001B[0m\u001B[0;34m\u001B[0m\u001B[0;34m\u001B[0m\u001B[0m\n",
      "\u001B[0;32m/opt/conda/lib/python3.8/site-packages/pyterrier/text.py\u001B[0m in \u001B[0;36madd_text_function_docids\u001B[0;34m(res)\u001B[0m\n\u001B[1;32m     76\u001B[0m         \u001B[0mdocids\u001B[0m \u001B[0;34m=\u001B[0m \u001B[0mres\u001B[0m\u001B[0;34m.\u001B[0m\u001B[0mdocid\u001B[0m\u001B[0;34m.\u001B[0m\u001B[0mvalues\u001B[0m\u001B[0;34m.\u001B[0m\u001B[0mtolist\u001B[0m\u001B[0;34m(\u001B[0m\u001B[0;34m)\u001B[0m\u001B[0;34m\u001B[0m\u001B[0;34m\u001B[0m\u001B[0m\n\u001B[1;32m     77\u001B[0m         \u001B[0;31m# indexed by docid then keys\u001B[0m\u001B[0;34m\u001B[0m\u001B[0;34m\u001B[0m\u001B[0;34m\u001B[0m\u001B[0m\n\u001B[0;32m---> 78\u001B[0;31m         \u001B[0mallmeta\u001B[0m \u001B[0;34m=\u001B[0m \u001B[0mmetaindex\u001B[0m\u001B[0;34m.\u001B[0m\u001B[0mgetItems\u001B[0m\u001B[0;34m(\u001B[0m\u001B[0mmetadata\u001B[0m\u001B[0;34m,\u001B[0m \u001B[0mdocids\u001B[0m\u001B[0;34m)\u001B[0m\u001B[0;34m\u001B[0m\u001B[0;34m\u001B[0m\u001B[0m\n\u001B[0m\u001B[1;32m     79\u001B[0m         \u001B[0;32mimport\u001B[0m \u001B[0mnumpy\u001B[0m \u001B[0;32mas\u001B[0m \u001B[0mnp\u001B[0m\u001B[0;34m\u001B[0m\u001B[0;34m\u001B[0m\u001B[0m\n\u001B[1;32m     80\u001B[0m         \u001B[0;31m# get transpose to make easier for insertion back into dataframe?\u001B[0m\u001B[0;34m\u001B[0m\u001B[0;34m\u001B[0m\u001B[0;34m\u001B[0m\u001B[0m\n",
      "\u001B[0;32mjnius/jnius_export_class.pxi\u001B[0m in \u001B[0;36mjnius.JavaMultipleMethod.__call__\u001B[0;34m()\u001B[0m\n",
      "\u001B[0;32mjnius/jnius_export_class.pxi\u001B[0m in \u001B[0;36mjnius.JavaMethod.__call__\u001B[0;34m()\u001B[0m\n",
      "\u001B[0;32mjnius/jnius_export_class.pxi\u001B[0m in \u001B[0;36mjnius.JavaMethod.call_method\u001B[0;34m()\u001B[0m\n",
      "\u001B[0;32mjnius/jnius_utils.pxi\u001B[0m in \u001B[0;36mjnius.check_exception\u001B[0;34m()\u001B[0m\n",
      "\u001B[0;31mJavaException\u001B[0m: JVM exception occurred: Index -1 out of bounds for length 27966 java.lang.ArrayIndexOutOfBoundsException"
     ]
    }
   ],
   "source": [
    "%%time\n",
    "persist_run_file(topics('cw12'), 'cw12_first_passage', 'mono_t5_3b', mono_t5_3b)"
   ]
  },
  {
   "cell_type": "code",
   "execution_count": 46,
   "id": "ab5bd7e9",
   "metadata": {
    "pycharm": {
     "name": "#%%\n"
    }
   },
   "outputs": [
    {
     "ename": "JavaException",
     "evalue": "JVM exception occurred: Index -1 out of bounds for length 27966 java.lang.ArrayIndexOutOfBoundsException",
     "output_type": "error",
     "traceback": [
      "\u001B[0;31m---------------------------------------------------------------------------\u001B[0m",
      "\u001B[0;31mJavaException\u001B[0m                             Traceback (most recent call last)",
      "\u001B[0;32m<timed eval>\u001B[0m in \u001B[0;36m<module>\u001B[0;34m\u001B[0m\n",
      "\u001B[0;32m<ipython-input-28-32b472243293>\u001B[0m in \u001B[0;36mpersist_run_file\u001B[0;34m(topics, crawl, name, method)\u001B[0m\n\u001B[1;32m     35\u001B[0m \u001B[0;34m\u001B[0m\u001B[0m\n\u001B[1;32m     36\u001B[0m \u001B[0;32mdef\u001B[0m \u001B[0mpersist_run_file\u001B[0m\u001B[0;34m(\u001B[0m\u001B[0mtopics\u001B[0m\u001B[0;34m,\u001B[0m \u001B[0mcrawl\u001B[0m\u001B[0;34m,\u001B[0m \u001B[0mname\u001B[0m\u001B[0;34m,\u001B[0m \u001B[0mmethod\u001B[0m\u001B[0;34m)\u001B[0m\u001B[0;34m:\u001B[0m\u001B[0;34m\u001B[0m\u001B[0;34m\u001B[0m\u001B[0m\n\u001B[0;32m---> 37\u001B[0;31m     \u001B[0mret\u001B[0m \u001B[0;34m=\u001B[0m \u001B[0mmethod\u001B[0m\u001B[0;34m(\u001B[0m\u001B[0mtopics\u001B[0m\u001B[0;34m)\u001B[0m\u001B[0;34m\u001B[0m\u001B[0;34m\u001B[0m\u001B[0m\n\u001B[0m\u001B[1;32m     38\u001B[0m     \u001B[0mout_dir\u001B[0m \u001B[0;34m=\u001B[0m \u001B[0mDIR\u001B[0m \u001B[0;34m+\u001B[0m \u001B[0;34m'/run-files/'\u001B[0m \u001B[0;34m+\u001B[0m \u001B[0mcrawl\u001B[0m \u001B[0;34m+\u001B[0m \u001B[0;34m'/'\u001B[0m\u001B[0;34m\u001B[0m\u001B[0;34m\u001B[0m\u001B[0m\n\u001B[1;32m     39\u001B[0m     \u001B[0mget_ipython\u001B[0m\u001B[0;34m(\u001B[0m\u001B[0;34m)\u001B[0m\u001B[0;34m.\u001B[0m\u001B[0msystem\u001B[0m\u001B[0;34m(\u001B[0m\u001B[0;34m'mkdir -p {out_dir}'\u001B[0m\u001B[0;34m)\u001B[0m\u001B[0;34m\u001B[0m\u001B[0;34m\u001B[0m\u001B[0m\n",
      "\u001B[0;32m/opt/conda/lib/python3.8/site-packages/pyterrier/transformer.py\u001B[0m in \u001B[0;36m__call__\u001B[0;34m(self, *args, **kwargs)\u001B[0m\n\u001B[1;32m    244\u001B[0m             \u001B[0mSets\u001B[0m \u001B[0mup\u001B[0m \u001B[0ma\u001B[0m \u001B[0mdefault\u001B[0m \u001B[0mmethod\u001B[0m \u001B[0;32mfor\u001B[0m \u001B[0mevery\u001B[0m \u001B[0mtransformer\u001B[0m\u001B[0;34m,\u001B[0m \u001B[0mwhich\u001B[0m \u001B[0;32mis\u001B[0m \u001B[0maliased\u001B[0m \u001B[0mto\u001B[0m \u001B[0mtransform\u001B[0m\u001B[0;34m(\u001B[0m\u001B[0;34m)\u001B[0m\u001B[0;34m.\u001B[0m\u001B[0;34m\u001B[0m\u001B[0;34m\u001B[0m\u001B[0m\n\u001B[1;32m    245\u001B[0m         \"\"\"\n\u001B[0;32m--> 246\u001B[0;31m         \u001B[0;32mreturn\u001B[0m \u001B[0mself\u001B[0m\u001B[0;34m.\u001B[0m\u001B[0mtransform\u001B[0m\u001B[0;34m(\u001B[0m\u001B[0;34m*\u001B[0m\u001B[0margs\u001B[0m\u001B[0;34m,\u001B[0m \u001B[0;34m**\u001B[0m\u001B[0mkwargs\u001B[0m\u001B[0;34m)\u001B[0m\u001B[0;34m\u001B[0m\u001B[0;34m\u001B[0m\u001B[0m\n\u001B[0m\u001B[1;32m    247\u001B[0m \u001B[0;34m\u001B[0m\u001B[0m\n\u001B[1;32m    248\u001B[0m     \u001B[0;32mdef\u001B[0m \u001B[0m__rshift__\u001B[0m\u001B[0;34m(\u001B[0m\u001B[0mself\u001B[0m\u001B[0;34m,\u001B[0m \u001B[0mright\u001B[0m\u001B[0;34m)\u001B[0m\u001B[0;34m:\u001B[0m\u001B[0;34m\u001B[0m\u001B[0;34m\u001B[0m\u001B[0m\n",
      "\u001B[0;32m/opt/conda/lib/python3.8/site-packages/pyterrier/transformer.py\u001B[0m in \u001B[0;36mtransform\u001B[0;34m(self, topics)\u001B[0m\n\u001B[1;32m    843\u001B[0m     \u001B[0;32mdef\u001B[0m \u001B[0mtransform\u001B[0m\u001B[0;34m(\u001B[0m\u001B[0mself\u001B[0m\u001B[0;34m,\u001B[0m \u001B[0mtopics\u001B[0m\u001B[0;34m)\u001B[0m\u001B[0;34m:\u001B[0m\u001B[0;34m\u001B[0m\u001B[0;34m\u001B[0m\u001B[0m\n\u001B[1;32m    844\u001B[0m         \u001B[0;32mfor\u001B[0m \u001B[0mm\u001B[0m \u001B[0;32min\u001B[0m \u001B[0mself\u001B[0m\u001B[0;34m.\u001B[0m\u001B[0mmodels\u001B[0m\u001B[0;34m:\u001B[0m\u001B[0;34m\u001B[0m\u001B[0;34m\u001B[0m\u001B[0m\n\u001B[0;32m--> 845\u001B[0;31m             \u001B[0mtopics\u001B[0m \u001B[0;34m=\u001B[0m \u001B[0mm\u001B[0m\u001B[0;34m.\u001B[0m\u001B[0mtransform\u001B[0m\u001B[0;34m(\u001B[0m\u001B[0mtopics\u001B[0m\u001B[0;34m)\u001B[0m\u001B[0;34m\u001B[0m\u001B[0;34m\u001B[0m\u001B[0m\n\u001B[0m\u001B[1;32m    846\u001B[0m         \u001B[0;32mreturn\u001B[0m \u001B[0mtopics\u001B[0m\u001B[0;34m\u001B[0m\u001B[0;34m\u001B[0m\u001B[0m\n\u001B[1;32m    847\u001B[0m \u001B[0;34m\u001B[0m\u001B[0m\n",
      "\u001B[0;32m/opt/conda/lib/python3.8/site-packages/pyterrier/transformer.py\u001B[0m in \u001B[0;36mtransform\u001B[0;34m(self, topics)\u001B[0m\n\u001B[1;32m    843\u001B[0m     \u001B[0;32mdef\u001B[0m \u001B[0mtransform\u001B[0m\u001B[0;34m(\u001B[0m\u001B[0mself\u001B[0m\u001B[0;34m,\u001B[0m \u001B[0mtopics\u001B[0m\u001B[0;34m)\u001B[0m\u001B[0;34m:\u001B[0m\u001B[0;34m\u001B[0m\u001B[0;34m\u001B[0m\u001B[0m\n\u001B[1;32m    844\u001B[0m         \u001B[0;32mfor\u001B[0m \u001B[0mm\u001B[0m \u001B[0;32min\u001B[0m \u001B[0mself\u001B[0m\u001B[0;34m.\u001B[0m\u001B[0mmodels\u001B[0m\u001B[0;34m:\u001B[0m\u001B[0;34m\u001B[0m\u001B[0;34m\u001B[0m\u001B[0m\n\u001B[0;32m--> 845\u001B[0;31m             \u001B[0mtopics\u001B[0m \u001B[0;34m=\u001B[0m \u001B[0mm\u001B[0m\u001B[0;34m.\u001B[0m\u001B[0mtransform\u001B[0m\u001B[0;34m(\u001B[0m\u001B[0mtopics\u001B[0m\u001B[0;34m)\u001B[0m\u001B[0;34m\u001B[0m\u001B[0;34m\u001B[0m\u001B[0m\n\u001B[0m\u001B[1;32m    846\u001B[0m         \u001B[0;32mreturn\u001B[0m \u001B[0mtopics\u001B[0m\u001B[0;34m\u001B[0m\u001B[0;34m\u001B[0m\u001B[0m\n\u001B[1;32m    847\u001B[0m \u001B[0;34m\u001B[0m\u001B[0m\n",
      "\u001B[0;32m/opt/conda/lib/python3.8/site-packages/pyterrier/transformer.py\u001B[0m in \u001B[0;36mtransform\u001B[0;34m(self, inputRes)\u001B[0m\n\u001B[1;32m    709\u001B[0m     \u001B[0;32mdef\u001B[0m \u001B[0mtransform\u001B[0m\u001B[0;34m(\u001B[0m\u001B[0mself\u001B[0m\u001B[0;34m,\u001B[0m \u001B[0minputRes\u001B[0m\u001B[0;34m)\u001B[0m\u001B[0;34m:\u001B[0m\u001B[0;34m\u001B[0m\u001B[0;34m\u001B[0m\u001B[0m\n\u001B[1;32m    710\u001B[0m         \u001B[0mfn\u001B[0m \u001B[0;34m=\u001B[0m \u001B[0mself\u001B[0m\u001B[0;34m.\u001B[0m\u001B[0mfn\u001B[0m\u001B[0;34m\u001B[0m\u001B[0;34m\u001B[0m\u001B[0m\n\u001B[0;32m--> 711\u001B[0;31m         \u001B[0;32mreturn\u001B[0m \u001B[0mfn\u001B[0m\u001B[0;34m(\u001B[0m\u001B[0minputRes\u001B[0m\u001B[0;34m)\u001B[0m\u001B[0;34m\u001B[0m\u001B[0;34m\u001B[0m\u001B[0m\n\u001B[0m\u001B[1;32m    712\u001B[0m \u001B[0;34m\u001B[0m\u001B[0m\n\u001B[1;32m    713\u001B[0m @deprecation.deprecated(deprecated_in=\"0.3.0\",\n",
      "\u001B[0;32m/opt/conda/lib/python3.8/site-packages/pyterrier/text.py\u001B[0m in \u001B[0;36madd_text_generic\u001B[0;34m(res)\u001B[0m\n\u001B[1;32m     88\u001B[0m             \u001B[0;32massert\u001B[0m \u001B[0;34m\"docno\"\u001B[0m \u001B[0;32min\u001B[0m \u001B[0mres\u001B[0m\u001B[0;34m.\u001B[0m\u001B[0mcolumns\u001B[0m\u001B[0;34m,\u001B[0m \u001B[0;34m\"Neither docid nor docno are in the input dataframe, found %s\"\u001B[0m \u001B[0;34m%\u001B[0m \u001B[0;34m(\u001B[0m\u001B[0mstr\u001B[0m\u001B[0;34m(\u001B[0m\u001B[0mres\u001B[0m\u001B[0;34m.\u001B[0m\u001B[0mcolumns\u001B[0m\u001B[0;34m)\u001B[0m\u001B[0;34m)\u001B[0m\u001B[0;34m\u001B[0m\u001B[0;34m\u001B[0m\u001B[0m\n\u001B[1;32m     89\u001B[0m             \u001B[0mres\u001B[0m \u001B[0;34m=\u001B[0m \u001B[0madd_docids\u001B[0m\u001B[0;34m(\u001B[0m\u001B[0mres\u001B[0m\u001B[0;34m)\u001B[0m\u001B[0;34m\u001B[0m\u001B[0;34m\u001B[0m\u001B[0m\n\u001B[0;32m---> 90\u001B[0;31m         \u001B[0;32mreturn\u001B[0m \u001B[0madd_text_function_docids\u001B[0m\u001B[0;34m(\u001B[0m\u001B[0mres\u001B[0m\u001B[0;34m)\u001B[0m\u001B[0;34m\u001B[0m\u001B[0;34m\u001B[0m\u001B[0m\n\u001B[0m\u001B[1;32m     91\u001B[0m \u001B[0;34m\u001B[0m\u001B[0m\n\u001B[1;32m     92\u001B[0m     \u001B[0;32mreturn\u001B[0m \u001B[0madd_text_generic\u001B[0m\u001B[0;34m\u001B[0m\u001B[0;34m\u001B[0m\u001B[0m\n",
      "\u001B[0;32m/opt/conda/lib/python3.8/site-packages/pyterrier/text.py\u001B[0m in \u001B[0;36madd_text_function_docids\u001B[0;34m(res)\u001B[0m\n\u001B[1;32m     76\u001B[0m         \u001B[0mdocids\u001B[0m \u001B[0;34m=\u001B[0m \u001B[0mres\u001B[0m\u001B[0;34m.\u001B[0m\u001B[0mdocid\u001B[0m\u001B[0;34m.\u001B[0m\u001B[0mvalues\u001B[0m\u001B[0;34m.\u001B[0m\u001B[0mtolist\u001B[0m\u001B[0;34m(\u001B[0m\u001B[0;34m)\u001B[0m\u001B[0;34m\u001B[0m\u001B[0;34m\u001B[0m\u001B[0m\n\u001B[1;32m     77\u001B[0m         \u001B[0;31m# indexed by docid then keys\u001B[0m\u001B[0;34m\u001B[0m\u001B[0;34m\u001B[0m\u001B[0;34m\u001B[0m\u001B[0m\n\u001B[0;32m---> 78\u001B[0;31m         \u001B[0mallmeta\u001B[0m \u001B[0;34m=\u001B[0m \u001B[0mmetaindex\u001B[0m\u001B[0;34m.\u001B[0m\u001B[0mgetItems\u001B[0m\u001B[0;34m(\u001B[0m\u001B[0mmetadata\u001B[0m\u001B[0;34m,\u001B[0m \u001B[0mdocids\u001B[0m\u001B[0;34m)\u001B[0m\u001B[0;34m\u001B[0m\u001B[0;34m\u001B[0m\u001B[0m\n\u001B[0m\u001B[1;32m     79\u001B[0m         \u001B[0;32mimport\u001B[0m \u001B[0mnumpy\u001B[0m \u001B[0;32mas\u001B[0m \u001B[0mnp\u001B[0m\u001B[0;34m\u001B[0m\u001B[0;34m\u001B[0m\u001B[0m\n\u001B[1;32m     80\u001B[0m         \u001B[0;31m# get transpose to make easier for insertion back into dataframe?\u001B[0m\u001B[0;34m\u001B[0m\u001B[0;34m\u001B[0m\u001B[0;34m\u001B[0m\u001B[0m\n",
      "\u001B[0;32mjnius/jnius_export_class.pxi\u001B[0m in \u001B[0;36mjnius.JavaMultipleMethod.__call__\u001B[0;34m()\u001B[0m\n",
      "\u001B[0;32mjnius/jnius_export_class.pxi\u001B[0m in \u001B[0;36mjnius.JavaMethod.__call__\u001B[0;34m()\u001B[0m\n",
      "\u001B[0;32mjnius/jnius_export_class.pxi\u001B[0m in \u001B[0;36mjnius.JavaMethod.call_method\u001B[0;34m()\u001B[0m\n",
      "\u001B[0;32mjnius/jnius_utils.pxi\u001B[0m in \u001B[0;36mjnius.check_exception\u001B[0;34m()\u001B[0m\n",
      "\u001B[0;31mJavaException\u001B[0m: JVM exception occurred: Index -1 out of bounds for length 27966 java.lang.ArrayIndexOutOfBoundsException"
     ]
    }
   ],
   "source": [
    "%%time\n",
    "persist_run_file(topics('cw12'), 'cw12_first_passage', 'mono_t5_base', mono_t5_base)"
   ]
  },
  {
   "cell_type": "markdown",
   "id": "78649bfb",
   "metadata": {
    "pycharm": {
     "name": "#%% md\n"
    }
   },
   "source": [
    "# Run Files with only judged documents"
   ]
  },
  {
   "cell_type": "code",
   "execution_count": 38,
   "id": "50f8d07e",
   "metadata": {
    "pycharm": {
     "name": "#%%\n"
    }
   },
   "outputs": [],
   "source": [
    "for crawl in ['cw09', 'cw12']:\n",
    "    qrels = []\n",
    "    for qrel in QRELS[crawl]:\n",
    "        qrels += [QRELS[crawl][qrel].qrels_data.copy()]\n",
    "    qrels = pd.concat(qrels)\n",
    "\n",
    "    qrels['rank'] = qrels.groupby('query')['rel'].rank(\"dense\", ascending=True).astype(int)\n",
    "    qrels['score'] = 1000 - qrels['rank']\n",
    "    qrels['Q0'] = 'Q0'\n",
    "    qrels['system'] = 'all-judged-inverse'\n",
    "    qrels = qrels[['query', 'Q0', 'docid', 'rank', 'score', 'system']]\n",
    "\n",
    "    qrels = qrels.sort_values(['query', 'rank'], ascending=[True, True])\n",
    "    \n",
    "    qrels.to_csv(DIR + 'run-files/' + crawl + '_first_passage/all-judged-inverse-run.txt', sep=' ', index=False, header=False)\n",
    "    "
   ]
  },
  {
   "cell_type": "markdown",
   "id": "5f18bf9d",
   "metadata": {
    "pycharm": {
     "name": "#%% md\n"
    }
   },
   "source": [
    "# Max-Passages"
   ]
  },
  {
   "cell_type": "code",
   "execution_count": 3,
   "id": "c1177959",
   "metadata": {
    "pycharm": {
     "name": "#%%\n"
    }
   },
   "outputs": [],
   "source": [
    "df = []\n",
    "import json\n",
    "with open('/mnt/ceph/storage/data-in-progress/data-research/web-search/SIGIR-22/sigir22-pairwise-ranking/indexes/raw-cw09-and-cw12-all-passages.jsonl', 'r') as f:\n",
    "    for l in f:\n",
    "        l = json.loads(l)\n",
    "        \n",
    "        \n",
    "        for p in l['passages']:\n",
    "            if len(p) != 2:\n",
    "                continue\n",
    "            passage_id = p[0]\n",
    "            passage_text = p[1]\n",
    "            df += [{\n",
    "                'qid': str(l['qid']),\n",
    "                'docno': l['docno'] + '___' + str(passage_id),\n",
    "                'text': passage_text,\n",
    "            }]\n",
    "\n",
    "df = pd.DataFrame(df)"
   ]
  },
  {
   "cell_type": "code",
   "execution_count": 4,
   "id": "fcd031a8",
   "metadata": {
    "pycharm": {
     "name": "#%%\n"
    }
   },
   "outputs": [
    {
     "data": {
      "text/html": [
       "<div>\n",
       "<style scoped>\n",
       "    .dataframe tbody tr th:only-of-type {\n",
       "        vertical-align: middle;\n",
       "    }\n",
       "\n",
       "    .dataframe tbody tr th {\n",
       "        vertical-align: top;\n",
       "    }\n",
       "\n",
       "    .dataframe thead th {\n",
       "        text-align: right;\n",
       "    }\n",
       "</style>\n",
       "<table border=\"1\" class=\"dataframe\">\n",
       "  <thead>\n",
       "    <tr style=\"text-align: right;\">\n",
       "      <th></th>\n",
       "      <th>qid</th>\n",
       "      <th>docno</th>\n",
       "      <th>text</th>\n",
       "    </tr>\n",
       "  </thead>\n",
       "  <tbody>\n",
       "    <tr>\n",
       "      <th>0</th>\n",
       "      <td>1</td>\n",
       "      <td>clueweb09-en0003-55-31884___1</td>\n",
       "      <td>Obama — Blogs, Pictures, and more on WordPress...</td>\n",
       "    </tr>\n",
       "    <tr>\n",
       "      <th>1</th>\n",
       "      <td>1</td>\n",
       "      <td>clueweb09-en0003-55-31884___2</td>\n",
       "      <td>Ronald W. Burris, the former Illinois Attorney...</td>\n",
       "    </tr>\n",
       "    <tr>\n",
       "      <th>2</th>\n",
       "      <td>1</td>\n",
       "      <td>clueweb09-en0003-55-31884___3</td>\n",
       "      <td>Barnicle pointed out … more → Tags: Opinion, M...</td>\n",
       "    </tr>\n",
       "    <tr>\n",
       "      <th>3</th>\n",
       "      <td>1</td>\n",
       "      <td>clueweb09-en0003-55-31884___4</td>\n",
       "      <td>jamesbray wrote 1 hour ago: I will shortly be ...</td>\n",
       "    </tr>\n",
       "    <tr>\n",
       "      <th>4</th>\n",
       "      <td>1</td>\n",
       "      <td>clueweb09-en0003-55-31884___5</td>\n",
       "      <td>Read what it’s all about from Kanye’s blog: Ja...</td>\n",
       "    </tr>\n",
       "    <tr>\n",
       "      <th>...</th>\n",
       "      <td>...</td>\n",
       "      <td>...</td>\n",
       "      <td>...</td>\n",
       "    </tr>\n",
       "    <tr>\n",
       "      <th>1323101</th>\n",
       "      <td>300</td>\n",
       "      <td>clueweb12-1911wb-40-07107___2</td>\n",
       "      <td>Well, someone has found it – quite a few peopl...</td>\n",
       "    </tr>\n",
       "    <tr>\n",
       "      <th>1323102</th>\n",
       "      <td>300</td>\n",
       "      <td>clueweb12-1911wb-40-07107___3</td>\n",
       "      <td>If you meditate wrong, you're just spinning yo...</td>\n",
       "    </tr>\n",
       "    <tr>\n",
       "      <th>1323103</th>\n",
       "      <td>300</td>\n",
       "      <td>clueweb12-1911wb-40-07107___4</td>\n",
       "      <td>Relax them until they're gone. Relax them away...</td>\n",
       "    </tr>\n",
       "    <tr>\n",
       "      <th>1323104</th>\n",
       "      <td>300</td>\n",
       "      <td>clueweb12-1911wb-40-07107___5</td>\n",
       "      <td>Go to last comment Garrett Mickley Level 1 Com...</td>\n",
       "    </tr>\n",
       "    <tr>\n",
       "      <th>1323105</th>\n",
       "      <td>300</td>\n",
       "      <td>clueweb12-1911wb-40-07107___6</td>\n",
       "      <td>All rights reserved. Other product and company...</td>\n",
       "    </tr>\n",
       "  </tbody>\n",
       "</table>\n",
       "<p>1323106 rows × 3 columns</p>\n",
       "</div>"
      ],
      "text/plain": [
       "         qid                          docno  \\\n",
       "0          1  clueweb09-en0003-55-31884___1   \n",
       "1          1  clueweb09-en0003-55-31884___2   \n",
       "2          1  clueweb09-en0003-55-31884___3   \n",
       "3          1  clueweb09-en0003-55-31884___4   \n",
       "4          1  clueweb09-en0003-55-31884___5   \n",
       "...      ...                            ...   \n",
       "1323101  300  clueweb12-1911wb-40-07107___2   \n",
       "1323102  300  clueweb12-1911wb-40-07107___3   \n",
       "1323103  300  clueweb12-1911wb-40-07107___4   \n",
       "1323104  300  clueweb12-1911wb-40-07107___5   \n",
       "1323105  300  clueweb12-1911wb-40-07107___6   \n",
       "\n",
       "                                                      text  \n",
       "0        Obama — Blogs, Pictures, and more on WordPress...  \n",
       "1        Ronald W. Burris, the former Illinois Attorney...  \n",
       "2        Barnicle pointed out … more → Tags: Opinion, M...  \n",
       "3        jamesbray wrote 1 hour ago: I will shortly be ...  \n",
       "4        Read what it’s all about from Kanye’s blog: Ja...  \n",
       "...                                                    ...  \n",
       "1323101  Well, someone has found it – quite a few peopl...  \n",
       "1323102  If you meditate wrong, you're just spinning yo...  \n",
       "1323103  Relax them until they're gone. Relax them away...  \n",
       "1323104  Go to last comment Garrett Mickley Level 1 Com...  \n",
       "1323105  All rights reserved. Other product and company...  \n",
       "\n",
       "[1323106 rows x 3 columns]"
      ]
     },
     "execution_count": 4,
     "metadata": {},
     "output_type": "execute_result"
    }
   ],
   "source": [
    "df"
   ]
  },
  {
   "cell_type": "code",
   "execution_count": 5,
   "id": "ca178d79",
   "metadata": {
    "pycharm": {
     "name": "#%%\n"
    }
   },
   "outputs": [],
   "source": [
    "from pyterrier.transformer import get_transformer\n",
    "all_passages = get_transformer(df) >> mono_t5('3b')"
   ]
  },
  {
   "cell_type": "code",
   "execution_count": 6,
   "id": "7567bb01",
   "metadata": {
    "pycharm": {
     "name": "#%%\n"
    }
   },
   "outputs": [
    {
     "name": "stderr",
     "output_type": "stream",
     "text": [
      "/opt/conda/lib/python3.8/site-packages/pyterrier/datasets.py:430: FutureWarning: In a future version of pandas all arguments of DataFrame.drop except for the argument 'labels' will be keyword-only\n",
      "  df.drop(df.columns.difference(['qid','query']), 1, inplace=True)\n",
      "monoT5:   0%|                                                                                            | 1/11602 [00:00<3:07:40,  1.03batches/s]Token indices sequence length is longer than the specified maximum sequence length for this model (598 > 512). Running this sequence through the model will result in indexing errors\n",
      "monoT5: 100%|████████████████████████████████████████████████████████████████████████████████████████| 11602/11602 [2:11:12<00:00,  1.47batches/s]\n"
     ]
    }
   ],
   "source": [
    "all_passages_cw12 = all_passages(topics('cw12'))"
   ]
  },
  {
   "cell_type": "code",
   "execution_count": 13,
   "id": "79ae5178",
   "metadata": {
    "pycharm": {
     "name": "#%%\n"
    }
   },
   "outputs": [],
   "source": [
    "all_passages_cw12.to_json(DIR + '/run-files/cw12_all_passages/raw-monot5-3b-scores.jsonl', lines=True, orient='records')"
   ]
  },
  {
   "cell_type": "code",
   "execution_count": 14,
   "id": "a26b0a09",
   "metadata": {
    "pycharm": {
     "name": "#%%\n"
    }
   },
   "outputs": [
    {
     "name": "stdout",
     "output_type": "stream",
     "text": [
      "total 494M\r\n",
      "-rw-rw-r-- 1 root root 494M Jan 12 14:26 raw-monot5-3b-scores.jsonl\r\n"
     ]
    }
   ],
   "source": [
    "!ls -lh {DIR}/run-files/cw12_all_passages/"
   ]
  },
  {
   "cell_type": "code",
   "execution_count": 5,
   "id": "e490ddf2",
   "metadata": {
    "pycharm": {
     "name": "#%%\n"
    }
   },
   "outputs": [],
   "source": [
    "cw12_max_passages = max_passage_transformer(DIR + '/run-files/cw12_all_passages/raw-monot5-3b-scores.jsonl')\n",
    "#duot5_50_cw12_maxp = cw12_max_passages % 50 >> duo_t5('3b', PairwiseFullSampler(), 'cw12_max_passage', AdditiveAggregator(), 8)"
   ]
  },
  {
   "cell_type": "code",
   "execution_count": 6,
   "id": "83ffaf7b",
   "metadata": {
    "pycharm": {
     "name": "#%%\n"
    }
   },
   "outputs": [
    {
     "name": "stdout",
     "output_type": "stream",
     "text": [
      "CPU times: user 79.8 ms, sys: 213 ms, total: 292 ms\n",
      "Wall time: 787 ms\n"
     ]
    }
   ],
   "source": [
    "%%time\n",
    "persist_run_file(topics('cw12'), 'cw12_all_passages', 'monot5_3b_maxp', cw12_max_passages)"
   ]
  },
  {
   "cell_type": "code",
   "execution_count": 5,
   "id": "9468df38",
   "metadata": {
    "pycharm": {
     "name": "#%%\n"
    }
   },
   "outputs": [
    {
     "name": "stderr",
     "output_type": "stream",
     "text": [
      "duoT5: 100%|███████████████████████████████████████████████████████████████████████████████████████████████| 100/100 [02:37<00:00,  1.57s/queries]\n",
      "duoT5: 100%|███████████████████████████████████████████████████████████████████████████████████████████████| 100/100 [02:37<00:00,  1.58s/queries]\n"
     ]
    },
    {
     "name": "stdout",
     "output_type": "stream",
     "text": [
      "CPU times: user 5min 21s, sys: 5.07 s, total: 5min 27s\n",
      "Wall time: 5min 23s\n"
     ]
    }
   ],
   "source": [
    "%%time\n",
    "persist_run_file(topics('cw12'), 'cw12_all_passages', 'duot5_50_cw12_maxp', duot5_50_cw12_maxp)"
   ]
  },
  {
   "cell_type": "code",
   "execution_count": 5,
   "id": "6fea2300",
   "metadata": {
    "pycharm": {
     "name": "#%%\n"
    }
   },
   "outputs": [],
   "source": [
    "cw09_max_passages = max_passage_transformer(DIR + '/run-files/cw09_all_passages/raw-monot5-3b-scores.jsonl')\n",
    "duot5_30_cw09_maxp = cw09_max_passages % 30 >> duo_t5('3b', PairwiseFullSampler(), 'cw09_max_passage', AdditiveAggregator(), 1)"
   ]
  },
  {
   "cell_type": "code",
   "execution_count": 6,
   "id": "d25ab51b",
   "metadata": {
    "pycharm": {
     "name": "#%%\n"
    }
   },
   "outputs": [
    {
     "name": "stderr",
     "output_type": "stream",
     "text": [
      "/opt/conda/lib/python3.8/site-packages/pyterrier/datasets.py:430: FutureWarning: In a future version of pandas all arguments of DataFrame.drop except for the argument 'labels' will be keyword-only\n",
      "  df.drop(df.columns.difference(['qid','query']), 1, inplace=True)\n",
      "duoT5:   0%|                                                                                                         | 0/198 [00:00<?, ?queries/s]Token indices sequence length is longer than the specified maximum sequence length for this model (624 > 512). Running this sequence through the model will result in indexing errors\n",
      "duoT5:  65%|█████████████████████████████████████████████████████████████▉                                 | 129/198 [56:15<30:05, 26.17s/queries]\n"
     ]
    },
    {
     "ename": "RuntimeError",
     "evalue": "CUDA out of memory. Tried to allocate 10.01 GiB (GPU 0; 39.59 GiB total capacity; 31.13 GiB already allocated; 1.22 GiB free; 36.94 GiB reserved in total by PyTorch)",
     "output_type": "error",
     "traceback": [
      "\u001B[0;31m---------------------------------------------------------------------------\u001B[0m",
      "\u001B[0;31mRuntimeError\u001B[0m                              Traceback (most recent call last)",
      "\u001B[0;32m<timed eval>\u001B[0m in \u001B[0;36m<module>\u001B[0;34m\u001B[0m\n",
      "\u001B[0;32m<ipython-input-4-4cddb5d20a90>\u001B[0m in \u001B[0;36mpersist_run_file\u001B[0;34m(topics, crawl, name, method)\u001B[0m\n\u001B[1;32m     35\u001B[0m \u001B[0;34m\u001B[0m\u001B[0m\n\u001B[1;32m     36\u001B[0m \u001B[0;32mdef\u001B[0m \u001B[0mpersist_run_file\u001B[0m\u001B[0;34m(\u001B[0m\u001B[0mtopics\u001B[0m\u001B[0;34m,\u001B[0m \u001B[0mcrawl\u001B[0m\u001B[0;34m,\u001B[0m \u001B[0mname\u001B[0m\u001B[0;34m,\u001B[0m \u001B[0mmethod\u001B[0m\u001B[0;34m)\u001B[0m\u001B[0;34m:\u001B[0m\u001B[0;34m\u001B[0m\u001B[0;34m\u001B[0m\u001B[0m\n\u001B[0;32m---> 37\u001B[0;31m     \u001B[0mret\u001B[0m \u001B[0;34m=\u001B[0m \u001B[0mmethod\u001B[0m\u001B[0;34m(\u001B[0m\u001B[0mtopics\u001B[0m\u001B[0;34m)\u001B[0m\u001B[0;34m\u001B[0m\u001B[0;34m\u001B[0m\u001B[0m\n\u001B[0m\u001B[1;32m     38\u001B[0m     \u001B[0mout_dir\u001B[0m \u001B[0;34m=\u001B[0m \u001B[0mDIR\u001B[0m \u001B[0;34m+\u001B[0m \u001B[0;34m'/run-files/'\u001B[0m \u001B[0;34m+\u001B[0m \u001B[0mcrawl\u001B[0m \u001B[0;34m+\u001B[0m \u001B[0;34m'/'\u001B[0m\u001B[0;34m\u001B[0m\u001B[0;34m\u001B[0m\u001B[0m\n\u001B[1;32m     39\u001B[0m     \u001B[0mget_ipython\u001B[0m\u001B[0;34m(\u001B[0m\u001B[0;34m)\u001B[0m\u001B[0;34m.\u001B[0m\u001B[0msystem\u001B[0m\u001B[0;34m(\u001B[0m\u001B[0;34m'mkdir -p {out_dir}'\u001B[0m\u001B[0;34m)\u001B[0m\u001B[0;34m\u001B[0m\u001B[0;34m\u001B[0m\u001B[0m\n",
      "\u001B[0;32m/opt/conda/lib/python3.8/site-packages/pyterrier/transformer.py\u001B[0m in \u001B[0;36m__call__\u001B[0;34m(self, *args, **kwargs)\u001B[0m\n\u001B[1;32m    244\u001B[0m             \u001B[0mSets\u001B[0m \u001B[0mup\u001B[0m \u001B[0ma\u001B[0m \u001B[0mdefault\u001B[0m \u001B[0mmethod\u001B[0m \u001B[0;32mfor\u001B[0m \u001B[0mevery\u001B[0m \u001B[0mtransformer\u001B[0m\u001B[0;34m,\u001B[0m \u001B[0mwhich\u001B[0m \u001B[0;32mis\u001B[0m \u001B[0maliased\u001B[0m \u001B[0mto\u001B[0m \u001B[0mtransform\u001B[0m\u001B[0;34m(\u001B[0m\u001B[0;34m)\u001B[0m\u001B[0;34m.\u001B[0m\u001B[0;34m\u001B[0m\u001B[0;34m\u001B[0m\u001B[0m\n\u001B[1;32m    245\u001B[0m         \"\"\"\n\u001B[0;32m--> 246\u001B[0;31m         \u001B[0;32mreturn\u001B[0m \u001B[0mself\u001B[0m\u001B[0;34m.\u001B[0m\u001B[0mtransform\u001B[0m\u001B[0;34m(\u001B[0m\u001B[0;34m*\u001B[0m\u001B[0margs\u001B[0m\u001B[0;34m,\u001B[0m \u001B[0;34m**\u001B[0m\u001B[0mkwargs\u001B[0m\u001B[0;34m)\u001B[0m\u001B[0;34m\u001B[0m\u001B[0;34m\u001B[0m\u001B[0m\n\u001B[0m\u001B[1;32m    247\u001B[0m \u001B[0;34m\u001B[0m\u001B[0m\n\u001B[1;32m    248\u001B[0m     \u001B[0;32mdef\u001B[0m \u001B[0m__rshift__\u001B[0m\u001B[0;34m(\u001B[0m\u001B[0mself\u001B[0m\u001B[0;34m,\u001B[0m \u001B[0mright\u001B[0m\u001B[0;34m)\u001B[0m\u001B[0;34m:\u001B[0m\u001B[0;34m\u001B[0m\u001B[0;34m\u001B[0m\u001B[0m\n",
      "\u001B[0;32m/opt/conda/lib/python3.8/site-packages/pyterrier/transformer.py\u001B[0m in \u001B[0;36mtransform\u001B[0;34m(self, topics)\u001B[0m\n\u001B[1;32m    843\u001B[0m     \u001B[0;32mdef\u001B[0m \u001B[0mtransform\u001B[0m\u001B[0;34m(\u001B[0m\u001B[0mself\u001B[0m\u001B[0;34m,\u001B[0m \u001B[0mtopics\u001B[0m\u001B[0;34m)\u001B[0m\u001B[0;34m:\u001B[0m\u001B[0;34m\u001B[0m\u001B[0;34m\u001B[0m\u001B[0m\n\u001B[1;32m    844\u001B[0m         \u001B[0;32mfor\u001B[0m \u001B[0mm\u001B[0m \u001B[0;32min\u001B[0m \u001B[0mself\u001B[0m\u001B[0;34m.\u001B[0m\u001B[0mmodels\u001B[0m\u001B[0;34m:\u001B[0m\u001B[0;34m\u001B[0m\u001B[0;34m\u001B[0m\u001B[0m\n\u001B[0;32m--> 845\u001B[0;31m             \u001B[0mtopics\u001B[0m \u001B[0;34m=\u001B[0m \u001B[0mm\u001B[0m\u001B[0;34m.\u001B[0m\u001B[0mtransform\u001B[0m\u001B[0;34m(\u001B[0m\u001B[0mtopics\u001B[0m\u001B[0;34m)\u001B[0m\u001B[0;34m\u001B[0m\u001B[0;34m\u001B[0m\u001B[0m\n\u001B[0m\u001B[1;32m    846\u001B[0m         \u001B[0;32mreturn\u001B[0m \u001B[0mtopics\u001B[0m\u001B[0;34m\u001B[0m\u001B[0;34m\u001B[0m\u001B[0m\n\u001B[1;32m    847\u001B[0m \u001B[0;34m\u001B[0m\u001B[0m\n",
      "\u001B[0;32m/workspace/src/retrieval_pipelines/DuoT5ReRankerWithCache.py\u001B[0m in \u001B[0;36mtransform\u001B[0;34m(self, run)\u001B[0m\n\u001B[1;32m     71\u001B[0m             \u001B[0menc\u001B[0m \u001B[0;34m=\u001B[0m \u001B[0;34m{\u001B[0m\u001B[0mk\u001B[0m\u001B[0;34m:\u001B[0m \u001B[0mv\u001B[0m\u001B[0;34m.\u001B[0m\u001B[0mto\u001B[0m\u001B[0;34m(\u001B[0m\u001B[0mself\u001B[0m\u001B[0;34m.\u001B[0m\u001B[0mdevice\u001B[0m\u001B[0;34m)\u001B[0m \u001B[0;32mfor\u001B[0m \u001B[0mk\u001B[0m\u001B[0;34m,\u001B[0m \u001B[0mv\u001B[0m \u001B[0;32min\u001B[0m \u001B[0menc\u001B[0m\u001B[0;34m.\u001B[0m\u001B[0mitems\u001B[0m\u001B[0;34m(\u001B[0m\u001B[0;34m)\u001B[0m\u001B[0;34m}\u001B[0m\u001B[0;34m\u001B[0m\u001B[0;34m\u001B[0m\u001B[0m\n\u001B[1;32m     72\u001B[0m             \u001B[0;32mwith\u001B[0m \u001B[0mtorch\u001B[0m\u001B[0;34m.\u001B[0m\u001B[0mno_grad\u001B[0m\u001B[0;34m(\u001B[0m\u001B[0;34m)\u001B[0m\u001B[0;34m:\u001B[0m\u001B[0;34m\u001B[0m\u001B[0;34m\u001B[0m\u001B[0m\n\u001B[0;32m---> 73\u001B[0;31m                 \u001B[0mresult\u001B[0m \u001B[0;34m=\u001B[0m \u001B[0mself\u001B[0m\u001B[0;34m.\u001B[0m\u001B[0mmodel\u001B[0m\u001B[0;34m(\u001B[0m\u001B[0;34m**\u001B[0m\u001B[0menc\u001B[0m\u001B[0;34m)\u001B[0m\u001B[0;34m.\u001B[0m\u001B[0mlogits\u001B[0m\u001B[0;34m\u001B[0m\u001B[0;34m\u001B[0m\u001B[0m\n\u001B[0m\u001B[1;32m     74\u001B[0m             \u001B[0mresult\u001B[0m \u001B[0;34m=\u001B[0m \u001B[0mresult\u001B[0m\u001B[0;34m[\u001B[0m\u001B[0;34m:\u001B[0m\u001B[0;34m,\u001B[0m \u001B[0;36m0\u001B[0m\u001B[0;34m,\u001B[0m \u001B[0;34m(\u001B[0m\u001B[0mself\u001B[0m\u001B[0;34m.\u001B[0m\u001B[0mREL\u001B[0m\u001B[0;34m,\u001B[0m \u001B[0mself\u001B[0m\u001B[0;34m.\u001B[0m\u001B[0mNREL\u001B[0m\u001B[0;34m)\u001B[0m\u001B[0;34m]\u001B[0m\u001B[0;34m\u001B[0m\u001B[0;34m\u001B[0m\u001B[0m\n\u001B[1;32m     75\u001B[0m             \u001B[0mresult\u001B[0m \u001B[0;34m=\u001B[0m \u001B[0mF\u001B[0m\u001B[0;34m.\u001B[0m\u001B[0mlog_softmax\u001B[0m\u001B[0;34m(\u001B[0m\u001B[0mresult\u001B[0m\u001B[0;34m,\u001B[0m \u001B[0mdim\u001B[0m\u001B[0;34m=\u001B[0m\u001B[0;36m1\u001B[0m\u001B[0;34m)\u001B[0m\u001B[0;34m[\u001B[0m\u001B[0;34m:\u001B[0m\u001B[0;34m,\u001B[0m \u001B[0;36m0\u001B[0m\u001B[0;34m]\u001B[0m\u001B[0;34m.\u001B[0m\u001B[0mcpu\u001B[0m\u001B[0;34m(\u001B[0m\u001B[0;34m)\u001B[0m\u001B[0;34m.\u001B[0m\u001B[0mdetach\u001B[0m\u001B[0;34m(\u001B[0m\u001B[0;34m)\u001B[0m\u001B[0;34m.\u001B[0m\u001B[0mtolist\u001B[0m\u001B[0;34m(\u001B[0m\u001B[0;34m)\u001B[0m\u001B[0;34m\u001B[0m\u001B[0;34m\u001B[0m\u001B[0m\n",
      "\u001B[0;32m/opt/conda/lib/python3.8/site-packages/torch/nn/modules/module.py\u001B[0m in \u001B[0;36m_call_impl\u001B[0;34m(self, *input, **kwargs)\u001B[0m\n\u001B[1;32m    725\u001B[0m             \u001B[0mresult\u001B[0m \u001B[0;34m=\u001B[0m \u001B[0mself\u001B[0m\u001B[0;34m.\u001B[0m\u001B[0m_slow_forward\u001B[0m\u001B[0;34m(\u001B[0m\u001B[0;34m*\u001B[0m\u001B[0minput\u001B[0m\u001B[0;34m,\u001B[0m \u001B[0;34m**\u001B[0m\u001B[0mkwargs\u001B[0m\u001B[0;34m)\u001B[0m\u001B[0;34m\u001B[0m\u001B[0;34m\u001B[0m\u001B[0m\n\u001B[1;32m    726\u001B[0m         \u001B[0;32melse\u001B[0m\u001B[0;34m:\u001B[0m\u001B[0;34m\u001B[0m\u001B[0;34m\u001B[0m\u001B[0m\n\u001B[0;32m--> 727\u001B[0;31m             \u001B[0mresult\u001B[0m \u001B[0;34m=\u001B[0m \u001B[0mself\u001B[0m\u001B[0;34m.\u001B[0m\u001B[0mforward\u001B[0m\u001B[0;34m(\u001B[0m\u001B[0;34m*\u001B[0m\u001B[0minput\u001B[0m\u001B[0;34m,\u001B[0m \u001B[0;34m**\u001B[0m\u001B[0mkwargs\u001B[0m\u001B[0;34m)\u001B[0m\u001B[0;34m\u001B[0m\u001B[0;34m\u001B[0m\u001B[0m\n\u001B[0m\u001B[1;32m    728\u001B[0m         for hook in itertools.chain(\n\u001B[1;32m    729\u001B[0m                 \u001B[0m_global_forward_hooks\u001B[0m\u001B[0;34m.\u001B[0m\u001B[0mvalues\u001B[0m\u001B[0;34m(\u001B[0m\u001B[0;34m)\u001B[0m\u001B[0;34m,\u001B[0m\u001B[0;34m\u001B[0m\u001B[0;34m\u001B[0m\u001B[0m\n",
      "\u001B[0;32m/mnt/ceph/storage/data-tmp/2021/kibi9872/.local/lib/python3.8/site-packages/transformers/models/t5/modeling_t5.py\u001B[0m in \u001B[0;36mforward\u001B[0;34m(self, input_ids, attention_mask, decoder_input_ids, decoder_attention_mask, head_mask, decoder_head_mask, cross_attn_head_mask, encoder_outputs, past_key_values, inputs_embeds, decoder_inputs_embeds, labels, use_cache, output_attentions, output_hidden_states, return_dict)\u001B[0m\n\u001B[1;32m   1569\u001B[0m         \u001B[0;32mif\u001B[0m \u001B[0mencoder_outputs\u001B[0m \u001B[0;32mis\u001B[0m \u001B[0;32mNone\u001B[0m\u001B[0;34m:\u001B[0m\u001B[0;34m\u001B[0m\u001B[0;34m\u001B[0m\u001B[0m\n\u001B[1;32m   1570\u001B[0m             \u001B[0;31m# Convert encoder inputs in embeddings if needed\u001B[0m\u001B[0;34m\u001B[0m\u001B[0;34m\u001B[0m\u001B[0;34m\u001B[0m\u001B[0m\n\u001B[0;32m-> 1571\u001B[0;31m             encoder_outputs = self.encoder(\n\u001B[0m\u001B[1;32m   1572\u001B[0m                 \u001B[0minput_ids\u001B[0m\u001B[0;34m=\u001B[0m\u001B[0minput_ids\u001B[0m\u001B[0;34m,\u001B[0m\u001B[0;34m\u001B[0m\u001B[0;34m\u001B[0m\u001B[0m\n\u001B[1;32m   1573\u001B[0m                 \u001B[0mattention_mask\u001B[0m\u001B[0;34m=\u001B[0m\u001B[0mattention_mask\u001B[0m\u001B[0;34m,\u001B[0m\u001B[0;34m\u001B[0m\u001B[0;34m\u001B[0m\u001B[0m\n",
      "\u001B[0;32m/opt/conda/lib/python3.8/site-packages/torch/nn/modules/module.py\u001B[0m in \u001B[0;36m_call_impl\u001B[0;34m(self, *input, **kwargs)\u001B[0m\n\u001B[1;32m    725\u001B[0m             \u001B[0mresult\u001B[0m \u001B[0;34m=\u001B[0m \u001B[0mself\u001B[0m\u001B[0;34m.\u001B[0m\u001B[0m_slow_forward\u001B[0m\u001B[0;34m(\u001B[0m\u001B[0;34m*\u001B[0m\u001B[0minput\u001B[0m\u001B[0;34m,\u001B[0m \u001B[0;34m**\u001B[0m\u001B[0mkwargs\u001B[0m\u001B[0;34m)\u001B[0m\u001B[0;34m\u001B[0m\u001B[0;34m\u001B[0m\u001B[0m\n\u001B[1;32m    726\u001B[0m         \u001B[0;32melse\u001B[0m\u001B[0;34m:\u001B[0m\u001B[0;34m\u001B[0m\u001B[0;34m\u001B[0m\u001B[0m\n\u001B[0;32m--> 727\u001B[0;31m             \u001B[0mresult\u001B[0m \u001B[0;34m=\u001B[0m \u001B[0mself\u001B[0m\u001B[0;34m.\u001B[0m\u001B[0mforward\u001B[0m\u001B[0;34m(\u001B[0m\u001B[0;34m*\u001B[0m\u001B[0minput\u001B[0m\u001B[0;34m,\u001B[0m \u001B[0;34m**\u001B[0m\u001B[0mkwargs\u001B[0m\u001B[0;34m)\u001B[0m\u001B[0;34m\u001B[0m\u001B[0;34m\u001B[0m\u001B[0m\n\u001B[0m\u001B[1;32m    728\u001B[0m         for hook in itertools.chain(\n\u001B[1;32m    729\u001B[0m                 \u001B[0m_global_forward_hooks\u001B[0m\u001B[0;34m.\u001B[0m\u001B[0mvalues\u001B[0m\u001B[0;34m(\u001B[0m\u001B[0;34m)\u001B[0m\u001B[0;34m,\u001B[0m\u001B[0;34m\u001B[0m\u001B[0;34m\u001B[0m\u001B[0m\n",
      "\u001B[0;32m/mnt/ceph/storage/data-tmp/2021/kibi9872/.local/lib/python3.8/site-packages/transformers/models/t5/modeling_t5.py\u001B[0m in \u001B[0;36mforward\u001B[0;34m(self, input_ids, attention_mask, encoder_hidden_states, encoder_attention_mask, inputs_embeds, head_mask, cross_attn_head_mask, past_key_values, use_cache, output_attentions, output_hidden_states, return_dict)\u001B[0m\n\u001B[1;32m   1001\u001B[0m                 )\n\u001B[1;32m   1002\u001B[0m             \u001B[0;32melse\u001B[0m\u001B[0;34m:\u001B[0m\u001B[0;34m\u001B[0m\u001B[0;34m\u001B[0m\u001B[0m\n\u001B[0;32m-> 1003\u001B[0;31m                 layer_outputs = layer_module(\n\u001B[0m\u001B[1;32m   1004\u001B[0m                     \u001B[0mhidden_states\u001B[0m\u001B[0;34m,\u001B[0m\u001B[0;34m\u001B[0m\u001B[0;34m\u001B[0m\u001B[0m\n\u001B[1;32m   1005\u001B[0m                     \u001B[0mattention_mask\u001B[0m\u001B[0;34m=\u001B[0m\u001B[0mextended_attention_mask\u001B[0m\u001B[0;34m,\u001B[0m\u001B[0;34m\u001B[0m\u001B[0;34m\u001B[0m\u001B[0m\n",
      "\u001B[0;32m/opt/conda/lib/python3.8/site-packages/torch/nn/modules/module.py\u001B[0m in \u001B[0;36m_call_impl\u001B[0;34m(self, *input, **kwargs)\u001B[0m\n\u001B[1;32m    725\u001B[0m             \u001B[0mresult\u001B[0m \u001B[0;34m=\u001B[0m \u001B[0mself\u001B[0m\u001B[0;34m.\u001B[0m\u001B[0m_slow_forward\u001B[0m\u001B[0;34m(\u001B[0m\u001B[0;34m*\u001B[0m\u001B[0minput\u001B[0m\u001B[0;34m,\u001B[0m \u001B[0;34m**\u001B[0m\u001B[0mkwargs\u001B[0m\u001B[0;34m)\u001B[0m\u001B[0;34m\u001B[0m\u001B[0;34m\u001B[0m\u001B[0m\n\u001B[1;32m    726\u001B[0m         \u001B[0;32melse\u001B[0m\u001B[0;34m:\u001B[0m\u001B[0;34m\u001B[0m\u001B[0;34m\u001B[0m\u001B[0m\n\u001B[0;32m--> 727\u001B[0;31m             \u001B[0mresult\u001B[0m \u001B[0;34m=\u001B[0m \u001B[0mself\u001B[0m\u001B[0;34m.\u001B[0m\u001B[0mforward\u001B[0m\u001B[0;34m(\u001B[0m\u001B[0;34m*\u001B[0m\u001B[0minput\u001B[0m\u001B[0;34m,\u001B[0m \u001B[0;34m**\u001B[0m\u001B[0mkwargs\u001B[0m\u001B[0;34m)\u001B[0m\u001B[0;34m\u001B[0m\u001B[0;34m\u001B[0m\u001B[0m\n\u001B[0m\u001B[1;32m    728\u001B[0m         for hook in itertools.chain(\n\u001B[1;32m    729\u001B[0m                 \u001B[0m_global_forward_hooks\u001B[0m\u001B[0;34m.\u001B[0m\u001B[0mvalues\u001B[0m\u001B[0;34m(\u001B[0m\u001B[0;34m)\u001B[0m\u001B[0;34m,\u001B[0m\u001B[0;34m\u001B[0m\u001B[0;34m\u001B[0m\u001B[0m\n",
      "\u001B[0;32m/mnt/ceph/storage/data-tmp/2021/kibi9872/.local/lib/python3.8/site-packages/transformers/models/t5/modeling_t5.py\u001B[0m in \u001B[0;36mforward\u001B[0;34m(self, hidden_states, attention_mask, position_bias, encoder_hidden_states, encoder_attention_mask, encoder_decoder_position_bias, layer_head_mask, cross_attn_layer_head_mask, past_key_value, use_cache, output_attentions, return_dict)\u001B[0m\n\u001B[1;32m    637\u001B[0m             \u001B[0mself_attn_past_key_value\u001B[0m\u001B[0;34m,\u001B[0m \u001B[0mcross_attn_past_key_value\u001B[0m \u001B[0;34m=\u001B[0m \u001B[0;32mNone\u001B[0m\u001B[0;34m,\u001B[0m \u001B[0;32mNone\u001B[0m\u001B[0;34m\u001B[0m\u001B[0;34m\u001B[0m\u001B[0m\n\u001B[1;32m    638\u001B[0m \u001B[0;34m\u001B[0m\u001B[0m\n\u001B[0;32m--> 639\u001B[0;31m         self_attention_outputs = self.layer[0](\n\u001B[0m\u001B[1;32m    640\u001B[0m             \u001B[0mhidden_states\u001B[0m\u001B[0;34m,\u001B[0m\u001B[0;34m\u001B[0m\u001B[0;34m\u001B[0m\u001B[0m\n\u001B[1;32m    641\u001B[0m             \u001B[0mattention_mask\u001B[0m\u001B[0;34m=\u001B[0m\u001B[0mattention_mask\u001B[0m\u001B[0;34m,\u001B[0m\u001B[0;34m\u001B[0m\u001B[0;34m\u001B[0m\u001B[0m\n",
      "\u001B[0;32m/opt/conda/lib/python3.8/site-packages/torch/nn/modules/module.py\u001B[0m in \u001B[0;36m_call_impl\u001B[0;34m(self, *input, **kwargs)\u001B[0m\n\u001B[1;32m    725\u001B[0m             \u001B[0mresult\u001B[0m \u001B[0;34m=\u001B[0m \u001B[0mself\u001B[0m\u001B[0;34m.\u001B[0m\u001B[0m_slow_forward\u001B[0m\u001B[0;34m(\u001B[0m\u001B[0;34m*\u001B[0m\u001B[0minput\u001B[0m\u001B[0;34m,\u001B[0m \u001B[0;34m**\u001B[0m\u001B[0mkwargs\u001B[0m\u001B[0;34m)\u001B[0m\u001B[0;34m\u001B[0m\u001B[0;34m\u001B[0m\u001B[0m\n\u001B[1;32m    726\u001B[0m         \u001B[0;32melse\u001B[0m\u001B[0;34m:\u001B[0m\u001B[0;34m\u001B[0m\u001B[0;34m\u001B[0m\u001B[0m\n\u001B[0;32m--> 727\u001B[0;31m             \u001B[0mresult\u001B[0m \u001B[0;34m=\u001B[0m \u001B[0mself\u001B[0m\u001B[0;34m.\u001B[0m\u001B[0mforward\u001B[0m\u001B[0;34m(\u001B[0m\u001B[0;34m*\u001B[0m\u001B[0minput\u001B[0m\u001B[0;34m,\u001B[0m \u001B[0;34m**\u001B[0m\u001B[0mkwargs\u001B[0m\u001B[0;34m)\u001B[0m\u001B[0;34m\u001B[0m\u001B[0;34m\u001B[0m\u001B[0m\n\u001B[0m\u001B[1;32m    728\u001B[0m         for hook in itertools.chain(\n\u001B[1;32m    729\u001B[0m                 \u001B[0m_global_forward_hooks\u001B[0m\u001B[0;34m.\u001B[0m\u001B[0mvalues\u001B[0m\u001B[0;34m(\u001B[0m\u001B[0;34m)\u001B[0m\u001B[0;34m,\u001B[0m\u001B[0;34m\u001B[0m\u001B[0;34m\u001B[0m\u001B[0m\n",
      "\u001B[0;32m/mnt/ceph/storage/data-tmp/2021/kibi9872/.local/lib/python3.8/site-packages/transformers/models/t5/modeling_t5.py\u001B[0m in \u001B[0;36mforward\u001B[0;34m(self, hidden_states, attention_mask, position_bias, layer_head_mask, past_key_value, use_cache, output_attentions)\u001B[0m\n\u001B[1;32m    544\u001B[0m     ):\n\u001B[1;32m    545\u001B[0m         \u001B[0mnormed_hidden_states\u001B[0m \u001B[0;34m=\u001B[0m \u001B[0mself\u001B[0m\u001B[0;34m.\u001B[0m\u001B[0mlayer_norm\u001B[0m\u001B[0;34m(\u001B[0m\u001B[0mhidden_states\u001B[0m\u001B[0;34m)\u001B[0m\u001B[0;34m\u001B[0m\u001B[0;34m\u001B[0m\u001B[0m\n\u001B[0;32m--> 546\u001B[0;31m         attention_output = self.SelfAttention(\n\u001B[0m\u001B[1;32m    547\u001B[0m             \u001B[0mnormed_hidden_states\u001B[0m\u001B[0;34m,\u001B[0m\u001B[0;34m\u001B[0m\u001B[0;34m\u001B[0m\u001B[0m\n\u001B[1;32m    548\u001B[0m             \u001B[0mmask\u001B[0m\u001B[0;34m=\u001B[0m\u001B[0mattention_mask\u001B[0m\u001B[0;34m,\u001B[0m\u001B[0;34m\u001B[0m\u001B[0;34m\u001B[0m\u001B[0m\n",
      "\u001B[0;32m/opt/conda/lib/python3.8/site-packages/torch/nn/modules/module.py\u001B[0m in \u001B[0;36m_call_impl\u001B[0;34m(self, *input, **kwargs)\u001B[0m\n\u001B[1;32m    725\u001B[0m             \u001B[0mresult\u001B[0m \u001B[0;34m=\u001B[0m \u001B[0mself\u001B[0m\u001B[0;34m.\u001B[0m\u001B[0m_slow_forward\u001B[0m\u001B[0;34m(\u001B[0m\u001B[0;34m*\u001B[0m\u001B[0minput\u001B[0m\u001B[0;34m,\u001B[0m \u001B[0;34m**\u001B[0m\u001B[0mkwargs\u001B[0m\u001B[0;34m)\u001B[0m\u001B[0;34m\u001B[0m\u001B[0;34m\u001B[0m\u001B[0m\n\u001B[1;32m    726\u001B[0m         \u001B[0;32melse\u001B[0m\u001B[0;34m:\u001B[0m\u001B[0;34m\u001B[0m\u001B[0;34m\u001B[0m\u001B[0m\n\u001B[0;32m--> 727\u001B[0;31m             \u001B[0mresult\u001B[0m \u001B[0;34m=\u001B[0m \u001B[0mself\u001B[0m\u001B[0;34m.\u001B[0m\u001B[0mforward\u001B[0m\u001B[0;34m(\u001B[0m\u001B[0;34m*\u001B[0m\u001B[0minput\u001B[0m\u001B[0;34m,\u001B[0m \u001B[0;34m**\u001B[0m\u001B[0mkwargs\u001B[0m\u001B[0;34m)\u001B[0m\u001B[0;34m\u001B[0m\u001B[0;34m\u001B[0m\u001B[0m\n\u001B[0m\u001B[1;32m    728\u001B[0m         for hook in itertools.chain(\n\u001B[1;32m    729\u001B[0m                 \u001B[0m_global_forward_hooks\u001B[0m\u001B[0;34m.\u001B[0m\u001B[0mvalues\u001B[0m\u001B[0;34m(\u001B[0m\u001B[0;34m)\u001B[0m\u001B[0;34m,\u001B[0m\u001B[0;34m\u001B[0m\u001B[0;34m\u001B[0m\u001B[0m\n",
      "\u001B[0;32m/mnt/ceph/storage/data-tmp/2021/kibi9872/.local/lib/python3.8/site-packages/transformers/models/t5/modeling_t5.py\u001B[0m in \u001B[0;36mforward\u001B[0;34m(self, hidden_states, mask, key_value_states, position_bias, past_key_value, layer_head_mask, query_length, use_cache, output_attentions)\u001B[0m\n\u001B[1;32m    501\u001B[0m \u001B[0;34m\u001B[0m\u001B[0m\n\u001B[1;32m    502\u001B[0m             \u001B[0;32mif\u001B[0m \u001B[0mmask\u001B[0m \u001B[0;32mis\u001B[0m \u001B[0;32mnot\u001B[0m \u001B[0;32mNone\u001B[0m\u001B[0;34m:\u001B[0m\u001B[0;34m\u001B[0m\u001B[0;34m\u001B[0m\u001B[0m\n\u001B[0;32m--> 503\u001B[0;31m                 \u001B[0mposition_bias\u001B[0m \u001B[0;34m=\u001B[0m \u001B[0mposition_bias\u001B[0m \u001B[0;34m+\u001B[0m \u001B[0mmask\u001B[0m  \u001B[0;31m# (batch_size, n_heads, seq_length, key_length)\u001B[0m\u001B[0;34m\u001B[0m\u001B[0;34m\u001B[0m\u001B[0m\n\u001B[0m\u001B[1;32m    504\u001B[0m \u001B[0;34m\u001B[0m\u001B[0m\n\u001B[1;32m    505\u001B[0m         \u001B[0mscores\u001B[0m \u001B[0;34m+=\u001B[0m \u001B[0mposition_bias\u001B[0m\u001B[0;34m\u001B[0m\u001B[0;34m\u001B[0m\u001B[0m\n",
      "\u001B[0;31mRuntimeError\u001B[0m: CUDA out of memory. Tried to allocate 10.01 GiB (GPU 0; 39.59 GiB total capacity; 31.13 GiB already allocated; 1.22 GiB free; 36.94 GiB reserved in total by PyTorch)"
     ]
    }
   ],
   "source": [
    "%%time\n",
    "persist_run_file(topics('cw09'), 'cw09_all_passages', 'duot5_30_cw09_maxp', duot5_30_cw09_maxp)"
   ]
  }
 ],
 "metadata": {
  "kernelspec": {
   "display_name": "Python 3 (ipykernel)",
   "language": "python",
   "name": "python3"
  },
  "language_info": {
   "codemirror_mode": {
    "name": "ipython",
    "version": 3
   },
   "file_extension": ".py",
   "mimetype": "text/x-python",
   "name": "python",
   "nbconvert_exporter": "python",
   "pygments_lexer": "ipython3",
   "version": "3.8.5"
  }
 },
 "nbformat": 4,
 "nbformat_minor": 5
}