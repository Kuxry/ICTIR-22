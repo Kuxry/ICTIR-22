{
 "cells": [
  {
   "cell_type": "code",
   "execution_count": 1,
   "outputs": [],
   "source": [
    "import pandas as pd\n",
    "import seaborn as sns\n",
    "import numpy as np\n",
    "from src.caching import PointwiseRunFile, PairwiseFileCache\n",
    "from tqdm.notebook import tqdm\n",
    "import networkx as nx"
   ],
   "metadata": {
    "collapsed": false,
    "pycharm": {
     "name": "#%%\n"
    }
   }
  },
  {
   "cell_type": "code",
   "execution_count": 4,
   "outputs": [],
   "source": [
    "sns.set_style({\n",
    "    'axes.facecolor': 'white',\n",
    "    'axes.edgecolor': '.05',\n",
    "    'axes.grid': True,\n",
    "    'axes.axisbelow': True,\n",
    "    'axes.labelcolor': '.0',\n",
    "    'figure.facecolor': 'white',\n",
    "    'grid.color': '.75',\n",
    "    'grid.linestyle': '-',\n",
    "    'text.color': '.15',\n",
    "    'xtick.color': '.05',\n",
    "    'ytick.color': '.05',\n",
    "    'xtick.direction': 'in',\n",
    "    'ytick.direction': 'in',\n",
    "    'patch.edgecolor': 'w',\n",
    "    'patch.force_edgecolor': True,\n",
    "    'font.family': ['sans-serif'],\n",
    "    'font.sans-serif': ['Arial', 'Helvetica Neue', 'sans-serif'],\n",
    "    'xtick.bottom': False,\n",
    "    'xtick.top': False,\n",
    "    'ytick.left': False,\n",
    "    'ytick.right': False,\n",
    "    'axes.spines.left': False,\n",
    "    'axes.spines.bottom': True,\n",
    "    'axes.spines.right': False,\n",
    "    'axes.spines.top': False\n",
    "})\n",
    "sns.set_context(\"talk\")\n",
    "palette = sns.color_palette([\n",
    "  #\"#be503e\",\n",
    "  \"#7bb292\",\n",
    "  \"#d7ae38\",\n",
    "  \"#628b97\"\n",
    "])"
   ],
   "metadata": {
    "collapsed": false,
    "pycharm": {
     "name": "#%%\n"
    }
   }
  },
  {
   "cell_type": "code",
   "execution_count": 5,
   "outputs": [],
   "source": [
    "COLLECTIONS = [\n",
    "    \"cw12\",\n",
    "    \"dl-passages\",\n",
    "    \"cw09\"\n",
    "]\n",
    "MODELS = [\n",
    "    \"3b\",\n",
    "    #\"base\"\n",
    "]\n",
    "K = 50"
   ],
   "metadata": {
    "collapsed": false,
    "pycharm": {
     "name": "#%%\n"
    }
   }
  },
  {
   "cell_type": "markdown",
   "source": [
    "# Score Distribution"
   ],
   "metadata": {
    "collapsed": false,
    "pycharm": {
     "name": "#%% md\n"
    }
   }
  },
  {
   "cell_type": "code",
   "execution_count": 4,
   "outputs": [],
   "source": [
    "data = []\n",
    "for collection in COLLECTIONS:\n",
    "    for model in MODELS:\n",
    "        pointwise = PointwiseRunFile(f\"../data/interim/pointwise/{collection}/mono_t5_{model}-run.txt\")\n",
    "        pairwise = PairwiseFileCache(\n",
    "            f\"../data/interim/pairwise/{collection}-{model}.parquet\",\n",
    "            depth=K,\n",
    "            pointwise=pointwise\n",
    "        )\n",
    "        df = pairwise.cache.dropna().assign(collection=collection, model=model)\n",
    "        df.score = df.score.apply(lambda x: np.exp(x))\n",
    "        data.append(df)\n",
    "\n",
    "df = pd.concat(data)"
   ],
   "metadata": {
    "collapsed": false,
    "pycharm": {
     "name": "#%%\n"
    }
   }
  },
  {
   "cell_type": "code",
   "execution_count": 16,
   "outputs": [
    {
     "data": {
      "text/plain": "<Figure size 432x288 with 1 Axes>",
      "image/png": "[encoded data removed]"
     },
     "metadata": {},
     "output_type": "display_data"
    }
   ],
   "source": [
    "ax = sns.histplot(\n",
    "    data=(\n",
    "        df\n",
    "        .drop([\"qid\", \"id_a\", \"id_b\"], axis=1)\n",
    "        .reset_index(drop=True)\n",
    "        .rename({\"collection\": \"Collection\", \"score\": \"Score\"}, axis=1)\n",
    "        .replace({\n",
    "            \"cw12\": \"CW12\",\n",
    "            \"dl-passages\": \"MSMARCO-P\",\n",
    "            \"cw09\": \"CW09\"\n",
    "        })\n",
    "    ),\n",
    "    x=\"Score\",\n",
    "    hue=\"Collection\",\n",
    "    fill=False,\n",
    "    element=\"step\",\n",
    "    common_norm=False,\n",
    "    #cumulative=True,\n",
    "    #stat=\"density\",\n",
    "    palette=palette,\n",
    ")\n",
    "ax.set_yscale('log')\n",
    "sns.move_legend(ax, \"center right\", bbox_to_anchor=(1.5, 0.5))\n",
    "\n",
    "ax.get_figure().savefig(\"../reports/figures/score-distribution.pdf\")"
   ],
   "metadata": {
    "collapsed": false,
    "pycharm": {
     "name": "#%%\n"
    }
   }
  },
  {
   "cell_type": "markdown",
   "source": [
    "# Transitivity"
   ],
   "metadata": {
    "collapsed": false,
    "pycharm": {
     "name": "#%% md\n"
    }
   }
  },
  {
   "cell_type": "code",
   "execution_count": 37,
   "outputs": [
    {
     "name": "stderr",
     "output_type": "stream",
     "text": [
      "/Users/gienapp/.local/share/virtualenvs/sigir22-pairwise-ranking-p5lkW2uP/lib/python3.8/site-packages/pandas/core/generic.py:5516: SettingWithCopyWarning: \n",
      "A value is trying to be set on a copy of a slice from a DataFrame.\n",
      "Try using .loc[row_indexer,col_indexer] = value instead\n",
      "\n",
      "See the caveats in the documentation: https://pandas.pydata.org/pandas-docs/stable/user_guide/indexing.html#returning-a-view-versus-a-copy\n",
      "  self[name] = value\n"
     ]
    }
   ],
   "source": [
    "data = []\n",
    "for collection in COLLECTIONS:\n",
    "    for model in MODELS:\n",
    "        pointwise = PointwiseRunFile(f\"../data/interim/pointwise/{collection}/mono_t5_{model}-run.txt\")\n",
    "        pairwise = PairwiseFileCache(\n",
    "            f\"../data/interim/pairwise/{collection}-{model}.parquet\",\n",
    "            depth=K,\n",
    "            pointwise=pointwise\n",
    "        )\n",
    "        df = pairwise.cache.dropna()\n",
    "        df.score = df.score.apply(lambda x: np.exp(x))\n",
    "        for qid in df.qid.unique():\n",
    "            graph = nx.DiGraph()\n",
    "            for _, (id_a, id_b, _, p) in df[df.qid == qid].iterrows():\n",
    "                if p >= 0.5:\n",
    "                    graph.add_edge(id_a, id_b)\n",
    "                if p < 0.5:\n",
    "                    graph.add_edge(id_b, id_a)\n",
    "            t = nx.transitivity(graph)\n",
    "            data.append((collection, model, qid, t))"
   ],
   "metadata": {
    "collapsed": false,
    "pycharm": {
     "name": "#%%\n"
    }
   }
  },
  {
   "cell_type": "code",
   "execution_count": 38,
   "outputs": [
    {
     "name": "stdout",
     "output_type": "stream",
     "text": [
      "                  transitivity                                          \\\n",
      "                         count      mean       std       min       25%   \n",
      "collection  model                                                        \n",
      "cw09        3b           198.0  0.783811  0.079016  0.615723  0.724898   \n",
      "cw12        3b           100.0  0.742149  0.064020  0.610847  0.692700   \n",
      "dl-passages 3b            97.0  0.692809  0.073432  0.580233  0.632462   \n",
      "\n",
      "                                                 \n",
      "                        50%       75%       max  \n",
      "collection  model                                \n",
      "cw09        3b     0.785480  0.845354  0.953665  \n",
      "cw12        3b     0.726258  0.787964  0.898295  \n",
      "dl-passages 3b     0.672663  0.725557  0.901360  \n"
     ]
    }
   ],
   "source": [
    "print(\n",
    "    pd.DataFrame(data, columns=[\"collection\", \"model\", \"qid\", \"transitivity\"])\n",
    "    .groupby([\"collection\", \"model\"])\n",
    "    .describe()\n",
    "    #.reset_index()\n",
    "    #.droplevel(0, axis=1)\n",
    "    #.swaplevel()\n",
    "    #.set_index(\"collection\", \"model\")\n",
    "    #.loc[\n",
    "    #    :,\n",
    "    #    [ \"mean\", \"std\", \"min\", \"max\"]\n",
    "    #]\n",
    "    #.to_latex()\n",
    ")"
   ],
   "metadata": {
    "collapsed": false,
    "pycharm": {
     "name": "#%%\n"
    }
   }
  },
  {
   "cell_type": "markdown",
   "source": [
    "# Antisymmetry"
   ],
   "metadata": {
    "collapsed": false,
    "pycharm": {
     "name": "#%% md\n"
    }
   }
  },
  {
   "cell_type": "code",
   "execution_count": 26,
   "outputs": [],
   "source": [
    "def _order_pair(id_a, id_b, p):\n",
    "    if id_a >= id_b:\n",
    "        return id_a, id_b, p\n",
    "    else:\n",
    "        return id_b, id_a, 1 - p"
   ],
   "metadata": {
    "collapsed": false,
    "pycharm": {
     "name": "#%%\n"
    }
   }
  },
  {
   "cell_type": "code",
   "execution_count": 27,
   "outputs": [
    {
     "data": {
      "text/plain": "  0%|          | 0/3 [00:00<?, ?it/s]",
      "application/vnd.jupyter.widget-view+json": {
       "version_major": 2,
       "version_minor": 0,
       "model_id": "29af356a86d544929251fa72e497cd9e"
      }
     },
     "metadata": {},
     "output_type": "display_data"
    },
    {
     "name": "stderr",
     "output_type": "stream",
     "text": [
      "/Users/gienapp/.local/share/virtualenvs/sigir22-pairwise-ranking-p5lkW2uP/lib/python3.8/site-packages/pandas/core/generic.py:5516: SettingWithCopyWarning: \n",
      "A value is trying to be set on a copy of a slice from a DataFrame.\n",
      "Try using .loc[row_indexer,col_indexer] = value instead\n",
      "\n",
      "See the caveats in the documentation: https://pandas.pydata.org/pandas-docs/stable/user_guide/indexing.html#returning-a-view-versus-a-copy\n",
      "  self[name] = value\n"
     ]
    },
    {
     "name": "stdout",
     "output_type": "stream",
     "text": [
      "p    2\n",
      "dtype: int64\n",
      "p    2\n",
      "dtype: int64\n",
      "p    2\n",
      "dtype: int64\n"
     ]
    }
   ],
   "source": [
    "data = []\n",
    "\n",
    "pbar = tqdm(total=len(COLLECTIONS)*len(MODELS))\n",
    "for collection in COLLECTIONS:\n",
    "    for model in MODELS:\n",
    "        pbar.set_description(f\"{collection}-{model}\")\n",
    "        pointwise = PointwiseRunFile(f\"../data/interim/pointwise/{collection}/mono_t5_{model}-run.txt\")\n",
    "        pairwise = PairwiseFileCache(\n",
    "            f\"../data/interim/pairwise/{collection}-{model}.parquet\",\n",
    "            depth=K,\n",
    "            pointwise=pointwise\n",
    "        )\n",
    "        df = pairwise.cache.dropna()\n",
    "        df.score = df.score.apply(lambda x: np.exp(x)/(1+np.exp(x)))\n",
    "        tmp = []\n",
    "        for _, (id_a, id_b, qid, p) in df.iterrows():\n",
    "                tmp.append((*_order_pair(id_a, id_b, p), qid))\n",
    "        df = pd.DataFrame(tmp, columns=[\"id_a\", \"id_b\", \"p\", \"qid\"])\n",
    "\n",
    "        data.append(\n",
    "            df\n",
    "            .groupby([\"qid\", \"id_a\", \"id_b\"])\n",
    "            .sum()\n",
    "            .assign(diff=lambda df: abs(1-df.p))\n",
    "            .drop(\"p\", axis=1)\n",
    "            .groupby(\"qid\")\n",
    "            .mean()\n",
    "            .assign(collection=collection, model=model)\n",
    "        )\n",
    "        pbar.update(1)\n"
   ],
   "metadata": {
    "collapsed": false,
    "pycharm": {
     "name": "#%%\n"
    }
   }
  },
  {
   "cell_type": "code",
   "execution_count": 16,
   "outputs": [
    {
     "data": {
      "text/plain": "         diff collection model\nqid                           \n201  0.260634       cw12    3b\n202  0.243763       cw12    3b\n203  0.218697       cw12    3b\n204  0.273951       cw12    3b\n205  0.247567       cw12    3b\n..        ...        ...   ...\n94   0.178288       cw09    3b\n96   0.181833       cw09    3b\n97   0.110309       cw09    3b\n98   0.159104       cw09    3b\n99   0.180523       cw09    3b\n\n[395 rows x 3 columns]",
      "text/html": "<div>\n<style scoped>\n    .dataframe tbody tr th:only-of-type {\n        vertical-align: middle;\n    }\n\n    .dataframe tbody tr th {\n        vertical-align: top;\n    }\n\n    .dataframe thead th {\n        text-align: right;\n    }\n</style>\n<table border=\"1\" class=\"dataframe\">\n  <thead>\n    <tr style=\"text-align: right;\">\n      <th></th>\n      <th>diff</th>\n      <th>collection</th>\n      <th>model</th>\n    </tr>\n    <tr>\n      <th>qid</th>\n      <th></th>\n      <th></th>\n      <th></th>\n    </tr>\n  </thead>\n  <tbody>\n    <tr>\n      <th>201</th>\n      <td>0.260634</td>\n      <td>cw12</td>\n      <td>3b</td>\n    </tr>\n    <tr>\n      <th>202</th>\n      <td>0.243763</td>\n      <td>cw12</td>\n      <td>3b</td>\n    </tr>\n    <tr>\n      <th>203</th>\n      <td>0.218697</td>\n      <td>cw12</td>\n      <td>3b</td>\n    </tr>\n    <tr>\n      <th>204</th>\n      <td>0.273951</td>\n      <td>cw12</td>\n      <td>3b</td>\n    </tr>\n    <tr>\n      <th>205</th>\n      <td>0.247567</td>\n      <td>cw12</td>\n      <td>3b</td>\n    </tr>\n    <tr>\n      <th>...</th>\n      <td>...</td>\n      <td>...</td>\n      <td>...</td>\n    </tr>\n    <tr>\n      <th>94</th>\n      <td>0.178288</td>\n      <td>cw09</td>\n      <td>3b</td>\n    </tr>\n    <tr>\n      <th>96</th>\n      <td>0.181833</td>\n      <td>cw09</td>\n      <td>3b</td>\n    </tr>\n    <tr>\n      <th>97</th>\n      <td>0.110309</td>\n      <td>cw09</td>\n      <td>3b</td>\n    </tr>\n    <tr>\n      <th>98</th>\n      <td>0.159104</td>\n      <td>cw09</td>\n      <td>3b</td>\n    </tr>\n    <tr>\n      <th>99</th>\n      <td>0.180523</td>\n      <td>cw09</td>\n      <td>3b</td>\n    </tr>\n  </tbody>\n</table>\n<p>395 rows × 3 columns</p>\n</div>"
     },
     "execution_count": 16,
     "metadata": {},
     "output_type": "execute_result"
    }
   ],
   "source": [
    "pd.concat(data)"
   ],
   "metadata": {
    "collapsed": false,
    "pycharm": {
     "name": "#%%\n"
    }
   }
  },
  {
   "cell_type": "code",
   "execution_count": 34,
   "outputs": [
    {
     "data": {
      "text/plain": "<Figure size 432x288 with 1 Axes>",
      "image/png": "[encoded data removed]"
     },
     "metadata": {},
     "output_type": "display_data"
    }
   ],
   "source": [
    "ax = sns.kdeplot(\n",
    "    data = (\n",
    "        pd.concat(data)\n",
    "        .rename({\"collection\": \"Collection\"}, axis=1)\n",
    "        .replace({\n",
    "            \"cw12\": \"CW12\",\n",
    "            \"dl-passages\": \"MSMARCO-P\",\n",
    "            \"cw09\": \"CW09\"\n",
    "        })\n",
    "    ),\n",
    "    x = \"diff\",\n",
    "    hue = \"Collection\",\n",
    "    fill = False,\n",
    "    #stat=\"density\",\n",
    "    #element=\"step\",\n",
    "    cumulative = True,\n",
    "    common_norm = False,\n",
    "    palette=palette\n",
    ")\n",
    "\n",
    "ax.set_xlabel(\"$\\epsilon$\")\n",
    "ax.set_ylabel(\"Cumulative Ratio\")\n",
    "# Put the legend out of the figure\n",
    "sns.move_legend(ax, \"center right\", bbox_to_anchor=(1.6, 0.5))\n",
    "\n",
    "ax.get_figure().savefig(\"../reports/figures/complementarity.pdf\")"
   ],
   "metadata": {
    "collapsed": false,
    "pycharm": {
     "name": "#%%\n"
    }
   }
  },
  {
   "cell_type": "markdown",
   "source": [
    "# Antisymmetry"
   ],
   "metadata": {
    "collapsed": false,
    "pycharm": {
     "name": "#%% md\n"
    }
   }
  },
  {
   "cell_type": "code",
   "execution_count": 6,
   "outputs": [],
   "source": [
    "data = []\n",
    "for collection in COLLECTIONS:\n",
    "    for model in MODELS:\n",
    "        pointwise = PointwiseRunFile(f\"../data/interim/pointwise/{collection}/mono_t5_{model}-run.txt\")\n",
    "        pairwise = PairwiseFileCache(\n",
    "            f\"../data/interim/pairwise/{collection}-{model}.parquet\",\n",
    "            depth=K,\n",
    "            pointwise=pointwise\n",
    "        )\n",
    "        df = pairwise.cache.dropna().assign(collection=collection, model=model)\n",
    "        df.score = df.score.apply(lambda x: np.exp(x))\n",
    "        data.append(df)\n",
    "\n",
    "df = pd.concat(data)"
   ],
   "metadata": {
    "collapsed": false,
    "pycharm": {
     "name": "#%%\n"
    }
   }
  },
  {
   "cell_type": "code",
   "execution_count": 7,
   "outputs": [
    {
     "data": {
      "text/plain": "                             id_a                       id_b  qid     score  \\\n0       clueweb12-0401tw-00-05277  clueweb12-0401tw-00-05277  201  0.648757   \n1       clueweb12-0401tw-00-05277  clueweb12-1100tw-72-06488  201  0.769899   \n2       clueweb12-0401tw-00-05277  clueweb12-0300tw-49-08295  201  0.722788   \n3       clueweb12-0401tw-00-05277  clueweb12-0500tw-17-18276  201  0.903938   \n4       clueweb12-0401tw-00-05277  clueweb12-0717wb-19-18518  201  0.948825   \n...                           ...                        ...  ...       ...   \n980472  clueweb09-en0004-14-19802  clueweb09-en0042-32-10247  200  0.989543   \n980473  clueweb09-en0010-04-30917  clueweb09-en0042-32-10247  200  0.870584   \n980474  clueweb09-en0042-32-10247  clueweb09-en0079-85-31855  200  0.696374   \n980475  clueweb09-en0084-26-07774  clueweb09-en0042-32-10247  200  0.686408   \n980476  clueweb09-en0042-32-10247  clueweb09-en0042-32-10247  200  0.590709   \n\n       collection model  \n0            cw12    3b  \n1            cw12    3b  \n2            cw12    3b  \n3            cw12    3b  \n4            cw12    3b  \n...           ...   ...  \n980472       cw09    3b  \n980473       cw09    3b  \n980474       cw09    3b  \n980475       cw09    3b  \n980476       cw09    3b  \n\n[980477 rows x 6 columns]",
      "text/html": "<div>\n<style scoped>\n    .dataframe tbody tr th:only-of-type {\n        vertical-align: middle;\n    }\n\n    .dataframe tbody tr th {\n        vertical-align: top;\n    }\n\n    .dataframe thead th {\n        text-align: right;\n    }\n</style>\n<table border=\"1\" class=\"dataframe\">\n  <thead>\n    <tr style=\"text-align: right;\">\n      <th></th>\n      <th>id_a</th>\n      <th>id_b</th>\n      <th>qid</th>\n      <th>score</th>\n      <th>collection</th>\n      <th>model</th>\n    </tr>\n  </thead>\n  <tbody>\n    <tr>\n      <th>0</th>\n      <td>clueweb12-0401tw-00-05277</td>\n      <td>clueweb12-0401tw-00-05277</td>\n      <td>201</td>\n      <td>0.648757</td>\n      <td>cw12</td>\n      <td>3b</td>\n    </tr>\n    <tr>\n      <th>1</th>\n      <td>clueweb12-0401tw-00-05277</td>\n      <td>clueweb12-1100tw-72-06488</td>\n      <td>201</td>\n      <td>0.769899</td>\n      <td>cw12</td>\n      <td>3b</td>\n    </tr>\n    <tr>\n      <th>2</th>\n      <td>clueweb12-0401tw-00-05277</td>\n      <td>clueweb12-0300tw-49-08295</td>\n      <td>201</td>\n      <td>0.722788</td>\n      <td>cw12</td>\n      <td>3b</td>\n    </tr>\n    <tr>\n      <th>3</th>\n      <td>clueweb12-0401tw-00-05277</td>\n      <td>clueweb12-0500tw-17-18276</td>\n      <td>201</td>\n      <td>0.903938</td>\n      <td>cw12</td>\n      <td>3b</td>\n    </tr>\n    <tr>\n      <th>4</th>\n      <td>clueweb12-0401tw-00-05277</td>\n      <td>clueweb12-0717wb-19-18518</td>\n      <td>201</td>\n      <td>0.948825</td>\n      <td>cw12</td>\n      <td>3b</td>\n    </tr>\n    <tr>\n      <th>...</th>\n      <td>...</td>\n      <td>...</td>\n      <td>...</td>\n      <td>...</td>\n      <td>...</td>\n      <td>...</td>\n    </tr>\n    <tr>\n      <th>980472</th>\n      <td>clueweb09-en0004-14-19802</td>\n      <td>clueweb09-en0042-32-10247</td>\n      <td>200</td>\n      <td>0.989543</td>\n      <td>cw09</td>\n      <td>3b</td>\n    </tr>\n    <tr>\n      <th>980473</th>\n      <td>clueweb09-en0010-04-30917</td>\n      <td>clueweb09-en0042-32-10247</td>\n      <td>200</td>\n      <td>0.870584</td>\n      <td>cw09</td>\n      <td>3b</td>\n    </tr>\n    <tr>\n      <th>980474</th>\n      <td>clueweb09-en0042-32-10247</td>\n      <td>clueweb09-en0079-85-31855</td>\n      <td>200</td>\n      <td>0.696374</td>\n      <td>cw09</td>\n      <td>3b</td>\n    </tr>\n    <tr>\n      <th>980475</th>\n      <td>clueweb09-en0084-26-07774</td>\n      <td>clueweb09-en0042-32-10247</td>\n      <td>200</td>\n      <td>0.686408</td>\n      <td>cw09</td>\n      <td>3b</td>\n    </tr>\n    <tr>\n      <th>980476</th>\n      <td>clueweb09-en0042-32-10247</td>\n      <td>clueweb09-en0042-32-10247</td>\n      <td>200</td>\n      <td>0.590709</td>\n      <td>cw09</td>\n      <td>3b</td>\n    </tr>\n  </tbody>\n</table>\n<p>980477 rows × 6 columns</p>\n</div>"
     },
     "execution_count": 7,
     "metadata": {},
     "output_type": "execute_result"
    }
   ],
   "source": [
    "data = []\n",
    "for _, (id_a, id_b, qid, score, collection, model) in df.iterrows():\n",
    "    if score >= 0.5:\n",
    "        data.append((id_a, id_b, qid, score, collection, model))\n",
    "    else:\n",
    "        data.append((id_b, id_a, qid, 1-score, collection, model))\n",
    "\n",
    "df = pd.DataFrame(data, columns=(\"id_a\", \"id_b\", \"qid\", \"score\", \"collection\", \"model\"))\n",
    "df"
   ],
   "metadata": {
    "collapsed": false,
    "pycharm": {
     "name": "#%%\n"
    }
   }
  },
  {
   "cell_type": "code",
   "execution_count": 24,
   "outputs": [
    {
     "name": "stdout",
     "output_type": "stream",
     "text": [
      "\\begin{tabular}{lrrrr}\n",
      "\\toprule\n",
      " collection &     mean &      std &      min &      max \\\\\n",
      "\\midrule\n",
      "       cw09 & 0.311642 & 0.136570 & 0.054407 & 0.637197 \\\\\n",
      "       cw12 & 0.382692 & 0.114779 & 0.120072 & 0.642576 \\\\\n",
      "dl-passages & 0.497942 & 0.126409 & 0.135837 & 0.731449 \\\\\n",
      "\\bottomrule\n",
      "\\end{tabular}\n",
      "\n"
     ]
    },
    {
     "name": "stderr",
     "output_type": "stream",
     "text": [
      "/var/folders/54/8lplw84d1sbgcm1wmd2rgyd40000gn/T/ipykernel_16564/917238943.py:2: FutureWarning: In future versions `DataFrame.to_latex` is expected to utilise the base implementation of `Styler.to_latex` for formatting and rendering. The arguments signature may therefore change. It is recommended instead to use `DataFrame.style.to_latex` which also contains additional functionality.\n",
      "  df\n"
     ]
    }
   ],
   "source": [
    "print(\n",
    "    df\n",
    "    .groupby([\"collection\", \"model\", \"qid\", \"id_a\", \"id_b\"])\n",
    "    .count()\n",
    "    .reset_index()\n",
    "    .drop([\"id_a\", \"id_b\"], axis=1)\n",
    "    .groupby([\"collection\", \"model\", \"qid\"])\n",
    "    .value_counts()\n",
    "    .reset_index()\n",
    "    .groupby([\"collection\", \"model\", \"qid\"])\n",
    "    .apply(lambda x: x.loc[x[\"score\"] == 2, 0].values[0] / (x.loc[x[\"score\"] == 1, 0].values[0] +x.loc[x[\"score\"] == 2, 0].values[0]))\n",
    "    .groupby([\"collection\", \"model\"])\n",
    "    .describe()\n",
    "    .reset_index()\n",
    "    .loc[:, [\"collection\", \"mean\", \"std\", \"min\", \"max\"]]\n",
    "    .to_latex(index=False)\n",
    ")"
   ],
   "metadata": {
    "collapsed": false,
    "pycharm": {
     "name": "#%%\n"
    }
   }
  }
 ],
 "metadata": {
  "kernelspec": {
   "display_name": "Python 3",
   "language": "python",
   "name": "python3"
  },
  "language_info": {
   "codemirror_mode": {
    "name": "ipython",
    "version": 2
   },
   "file_extension": ".py",
   "mimetype": "text/x-python",
   "name": "python",
   "nbconvert_exporter": "python",
   "pygments_lexer": "ipython2",
   "version": "2.7.6"
  }
 },
 "nbformat": 4,
 "nbformat_minor": 0
}