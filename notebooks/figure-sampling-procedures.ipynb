{
 "cells": [
  {
   "cell_type": "code",
   "execution_count": 1,
   "metadata": {
    "collapsed": true,
    "pycharm": {
     "name": "#%%\n"
    }
   },
   "outputs": [],
   "source": [
    "import numpy as np\n",
    "import pandas as pd\n",
    "\n",
    "from src.sampling import (\n",
    "\tPairwiseRandomSampler,\n",
    "\tPairwiseWindowedSampler,\n",
    "\tBiasedWindowedSampler,\n",
    "\tBiasedRandomSampler\n",
    ")\n",
    "\n",
    "import matplotlib.pyplot as plt\n",
    "import seaborn as sns"
   ]
  },
  {
   "cell_type": "code",
   "execution_count": 2,
   "outputs": [
    {
     "data": {
      "text/plain": "    score  docno\n49     49      0\n48     48      1\n47     47      2\n46     46      3\n45     45      4\n44     44      5\n43     43      6\n42     42      7\n41     41      8\n40     40      9\n39     39     10\n38     38     11\n37     37     12\n36     36     13\n35     35     14\n34     34     15\n33     33     16\n32     32     17\n31     31     18\n30     30     19\n29     29     20\n28     28     21\n27     27     22\n26     26     23\n25     25     24\n24     24     25\n23     23     26\n22     22     27\n21     21     28\n20     20     29\n19     19     30\n18     18     31\n17     17     32\n16     16     33\n15     15     34\n14     14     35\n13     13     36\n12     12     37\n11     11     38\n10     10     39\n9       9     40\n8       8     41\n7       7     42\n6       6     43\n5       5     44\n4       4     45\n3       3     46\n2       2     47\n1       1     48\n0       0     49",
      "text/html": "<div>\n<style scoped>\n    .dataframe tbody tr th:only-of-type {\n        vertical-align: middle;\n    }\n\n    .dataframe tbody tr th {\n        vertical-align: top;\n    }\n\n    .dataframe thead th {\n        text-align: right;\n    }\n</style>\n<table border=\"1\" class=\"dataframe\">\n  <thead>\n    <tr style=\"text-align: right;\">\n      <th></th>\n      <th>score</th>\n      <th>docno</th>\n    </tr>\n  </thead>\n  <tbody>\n    <tr>\n      <th>49</th>\n      <td>49</td>\n      <td>0</td>\n    </tr>\n    <tr>\n      <th>48</th>\n      <td>48</td>\n      <td>1</td>\n    </tr>\n    <tr>\n      <th>47</th>\n      <td>47</td>\n      <td>2</td>\n    </tr>\n    <tr>\n      <th>46</th>\n      <td>46</td>\n      <td>3</td>\n    </tr>\n    <tr>\n      <th>45</th>\n      <td>45</td>\n      <td>4</td>\n    </tr>\n    <tr>\n      <th>44</th>\n      <td>44</td>\n      <td>5</td>\n    </tr>\n    <tr>\n      <th>43</th>\n      <td>43</td>\n      <td>6</td>\n    </tr>\n    <tr>\n      <th>42</th>\n      <td>42</td>\n      <td>7</td>\n    </tr>\n    <tr>\n      <th>41</th>\n      <td>41</td>\n      <td>8</td>\n    </tr>\n    <tr>\n      <th>40</th>\n      <td>40</td>\n      <td>9</td>\n    </tr>\n    <tr>\n      <th>39</th>\n      <td>39</td>\n      <td>10</td>\n    </tr>\n    <tr>\n      <th>38</th>\n      <td>38</td>\n      <td>11</td>\n    </tr>\n    <tr>\n      <th>37</th>\n      <td>37</td>\n      <td>12</td>\n    </tr>\n    <tr>\n      <th>36</th>\n      <td>36</td>\n      <td>13</td>\n    </tr>\n    <tr>\n      <th>35</th>\n      <td>35</td>\n      <td>14</td>\n    </tr>\n    <tr>\n      <th>34</th>\n      <td>34</td>\n      <td>15</td>\n    </tr>\n    <tr>\n      <th>33</th>\n      <td>33</td>\n      <td>16</td>\n    </tr>\n    <tr>\n      <th>32</th>\n      <td>32</td>\n      <td>17</td>\n    </tr>\n    <tr>\n      <th>31</th>\n      <td>31</td>\n      <td>18</td>\n    </tr>\n    <tr>\n      <th>30</th>\n      <td>30</td>\n      <td>19</td>\n    </tr>\n    <tr>\n      <th>29</th>\n      <td>29</td>\n      <td>20</td>\n    </tr>\n    <tr>\n      <th>28</th>\n      <td>28</td>\n      <td>21</td>\n    </tr>\n    <tr>\n      <th>27</th>\n      <td>27</td>\n      <td>22</td>\n    </tr>\n    <tr>\n      <th>26</th>\n      <td>26</td>\n      <td>23</td>\n    </tr>\n    <tr>\n      <th>25</th>\n      <td>25</td>\n      <td>24</td>\n    </tr>\n    <tr>\n      <th>24</th>\n      <td>24</td>\n      <td>25</td>\n    </tr>\n    <tr>\n      <th>23</th>\n      <td>23</td>\n      <td>26</td>\n    </tr>\n    <tr>\n      <th>22</th>\n      <td>22</td>\n      <td>27</td>\n    </tr>\n    <tr>\n      <th>21</th>\n      <td>21</td>\n      <td>28</td>\n    </tr>\n    <tr>\n      <th>20</th>\n      <td>20</td>\n      <td>29</td>\n    </tr>\n    <tr>\n      <th>19</th>\n      <td>19</td>\n      <td>30</td>\n    </tr>\n    <tr>\n      <th>18</th>\n      <td>18</td>\n      <td>31</td>\n    </tr>\n    <tr>\n      <th>17</th>\n      <td>17</td>\n      <td>32</td>\n    </tr>\n    <tr>\n      <th>16</th>\n      <td>16</td>\n      <td>33</td>\n    </tr>\n    <tr>\n      <th>15</th>\n      <td>15</td>\n      <td>34</td>\n    </tr>\n    <tr>\n      <th>14</th>\n      <td>14</td>\n      <td>35</td>\n    </tr>\n    <tr>\n      <th>13</th>\n      <td>13</td>\n      <td>36</td>\n    </tr>\n    <tr>\n      <th>12</th>\n      <td>12</td>\n      <td>37</td>\n    </tr>\n    <tr>\n      <th>11</th>\n      <td>11</td>\n      <td>38</td>\n    </tr>\n    <tr>\n      <th>10</th>\n      <td>10</td>\n      <td>39</td>\n    </tr>\n    <tr>\n      <th>9</th>\n      <td>9</td>\n      <td>40</td>\n    </tr>\n    <tr>\n      <th>8</th>\n      <td>8</td>\n      <td>41</td>\n    </tr>\n    <tr>\n      <th>7</th>\n      <td>7</td>\n      <td>42</td>\n    </tr>\n    <tr>\n      <th>6</th>\n      <td>6</td>\n      <td>43</td>\n    </tr>\n    <tr>\n      <th>5</th>\n      <td>5</td>\n      <td>44</td>\n    </tr>\n    <tr>\n      <th>4</th>\n      <td>4</td>\n      <td>45</td>\n    </tr>\n    <tr>\n      <th>3</th>\n      <td>3</td>\n      <td>46</td>\n    </tr>\n    <tr>\n      <th>2</th>\n      <td>2</td>\n      <td>47</td>\n    </tr>\n    <tr>\n      <th>1</th>\n      <td>1</td>\n      <td>48</td>\n    </tr>\n    <tr>\n      <th>0</th>\n      <td>0</td>\n      <td>49</td>\n    </tr>\n  </tbody>\n</table>\n</div>"
     },
     "execution_count": 2,
     "metadata": {},
     "output_type": "execute_result"
    }
   ],
   "source": [
    "N = 50\n",
    "\n",
    "pointwise = (\n",
    "\tpd.DataFrame(list(range(N)), columns=[\"docno\"])\n",
    "\t.sort_values(\"docno\", ascending=False)\n",
    "\t.reset_index(drop=True)\n",
    "\t.reset_index()\n",
    "\t.rename({\n",
    "\t\t\"index\": \"score\",\n",
    "\t}, axis=1)\n",
    "\t.sort_values(\"docno\")\n",
    ")"
   ],
   "metadata": {
    "collapsed": false,
    "pycharm": {
     "name": "#%%\n"
    }
   }
  },
  {
   "cell_type": "code",
   "execution_count": 12,
   "outputs": [
    {
     "data": {
      "text/plain": "<Figure size 432x288 with 6 Axes>",
      "image/png": "[encoded data removed]"
     },
     "metadata": {},
     "output_type": "display_data"
    }
   ],
   "source": [
    "figure, axes = plt.subplots(2, 3, sharex=\"all\", sharey=\"all\", figsize=(6, 4))\n",
    "\n",
    "kwargs = {\"cbar\": None, \"cmap\": \"Blues\", \"vmin\": 0, \"vmax\": 1, \"square\":True, \"xticklabels\": False, \"yticklabels\": False}\n",
    "\n",
    "sns.heatmap(\n",
    "\t(\n",
    "\t\tPairwiseRandomSampler(0.2, l = 0)(pointwise)\n",
    "\t\t.rename({\"id_a\": \"i\", \"id_b\": \"j\"}, axis=1)\n",
    "\t\t.assign(value=1)\n",
    "\t\t.pivot(\"i\",\"j\",\"value\")\n",
    "\t\t.fillna(0)\n",
    "\t\t.values\n",
    "\t), ax=axes[0][0], **kwargs)\n",
    "sns.heatmap(\n",
    "\t(\n",
    "\t\tPairwiseRandomSampler(0.2, l = 0)(pointwise)\n",
    "\t\t.rename({\"id_a\": \"i\", \"id_b\": \"j\"}, axis=1)\n",
    "\t\t.assign(value=1)\n",
    "\t\t.pivot(\"i\",\"j\",\"value\")\n",
    "\t\t.fillna(0)\n",
    "\t\t.values\n",
    "\t), ax=axes[1][0], **kwargs)\n",
    "sns.heatmap(\n",
    "\t(\n",
    "\t\tPairwiseWindowedSampler(10, cyclical=True)(pointwise)\n",
    "\t\t.rename({\"id_a\": \"i\", \"id_b\": \"j\"}, axis=1)\n",
    "\t\t.assign(value=1)\n",
    "\t\t.pivot(\"i\",\"j\",\"value\")\n",
    "\t\t.fillna(0)\n",
    "\t\t.values\n",
    "\t), ax=axes[0][1], **kwargs)\n",
    "sns.heatmap(\n",
    "\t(\n",
    "\t\tPairwiseWindowedSampler(25, cyclical=True)(pointwise)\n",
    "\t\t.rename({\"id_a\": \"i\", \"id_b\": \"j\"}, axis=1)\n",
    "\t\t.assign(value=1)\n",
    "\t\t.pivot(\"i\",\"j\",\"value\")\n",
    "\t\t.fillna(0)\n",
    "\t\t.values\n",
    "\t), ax=axes[1][1], **kwargs)\n",
    "sns.heatmap(\n",
    "\t(\n",
    "\t\tPairwiseWindowedSampler(10, window_dilation=4, cyclical=True)(pointwise)\n",
    "\t\t.rename({\"id_a\": \"i\", \"id_b\": \"j\"}, axis=1)\n",
    "\t\t.assign(value=1)\n",
    "\t\t.pivot(\"i\",\"j\",\"value\")\n",
    "\t\t.fillna(0)\n",
    "\t\t.values\n",
    "\t), ax=axes[0][2], **kwargs)\n",
    "sns.heatmap(\n",
    "\t(\n",
    "\t\tPairwiseWindowedSampler(25, window_dilation=9, cyclical=True)(pointwise)\n",
    "\t\t.rename({\"id_a\": \"i\", \"id_b\": \"j\"}, axis=1)\n",
    "\t\t.assign(value=1)\n",
    "\t\t.pivot(\"i\",\"j\",\"value\")\n",
    "\t\t.fillna(0)\n",
    "\t\t.values\n",
    "\t), ax=axes[1][2], **kwargs)\n",
    "\n",
    "axes[0][0].set_title(\"Random (f=0.2)\")\n",
    "axes[1][0].set_title(\"Random (f=0.5)\")\n",
    "axes[0][1].set_title(\"Structured (m=10)\")\n",
    "axes[1][1].set_title(\"Structured (m=25)\")\n",
    "axes[0][2].set_title(\"Skipped (m=10, $\\lambda$=4)\")\n",
    "axes[1][2].set_title(\"Skipped (m=25, $\\lambda$=7)\")\n",
    "\n",
    "for subax in axes:\n",
    "\tfor ax in subax:\n",
    "\t\tax.set_xlabel(\"i\")\n",
    "\t\tax.set_ylabel(\"j\", rotation=0)\n",
    "\n",
    "\n",
    "plt.tight_layout()\n",
    "figure.savefig(\"../reports/figures/comparison-matrices.pdf\", dpi=300)"
   ],
   "metadata": {
    "collapsed": false,
    "pycharm": {
     "name": "#%%\n"
    }
   }
  }
 ],
 "metadata": {
  "kernelspec": {
   "display_name": "Python 3",
   "language": "python",
   "name": "python3"
  },
  "language_info": {
   "codemirror_mode": {
    "name": "ipython",
    "version": 2
   },
   "file_extension": ".py",
   "mimetype": "text/x-python",
   "name": "python",
   "nbconvert_exporter": "python",
   "pygments_lexer": "ipython2",
   "version": "2.7.6"
  }
 },
 "nbformat": 4,
 "nbformat_minor": 0
}